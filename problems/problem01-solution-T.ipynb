{
 "cells": [
  {
   "cell_type": "markdown",
   "metadata": {},
   "source": [
    "# 상승장? 하락장?\n",
    "\n",
    "> 최고가와 최저가의 차이를 변동폭으로 정의할 때 (시가 + 변동폭)이 최고가 보다 높을 경우 \"상승장\", 그렇지 않은 경우 \"하락장\" 문자열을 출력하라.\n",
    "\n",
    "|Key Name|Description|\n",
    "|------|---|\n",
    "|opeing_price|최근 24시간 내 시작 거래금액|\n",
    "|closing_price|최근 24시간 내 마지막 거래금액|\n",
    "|min_price|최근 24시간 내 최저 거래금액|\n",
    "|max_price|최근 24시간 내 최고 거래금액|"
   ]
  },
  {
   "cell_type": "markdown",
   "metadata": {},
   "source": [
    "### 내 풀이"
   ]
  },
  {
   "cell_type": "code",
   "execution_count": 12,
   "metadata": {},
   "outputs": [
    {
     "name": "stdout",
     "output_type": "stream",
     "text": [
      "상승장\n"
     ]
    }
   ],
   "source": [
    "import requests\n",
    "\n",
    "url = \"https://api.bithumb.com/public/ticker/btc\"\n",
    "data = requests.get(url).json()['data']\n",
    "\n",
    "change = int(data['max_price']) - int(data['min_price'])\n",
    "\n",
    "price = int(data['opening_price']) + change\n",
    "\n",
    "if price > int(data['max_price']):\n",
    "    print(\"상승장\")\n",
    "else:\n",
    "    print(\"하락장\")\n"
   ]
  },
  {
   "cell_type": "code",
   "execution_count": 3,
   "metadata": {
    "collapsed": true
   },
   "outputs": [
    {
     "name": "stdout",
     "output_type": "stream",
     "text": [
      "{'24H_fluctate': '1168000',\n",
      " '24H_fluctate_rate': '9.65',\n",
      " 'average_price': '12571897.6593',\n",
      " 'buy_price': '13263000',\n",
      " 'closing_price': '13269000',\n",
      " 'date': '1563237452615',\n",
      " 'max_price': '13451000',\n",
      " 'min_price': '11879000',\n",
      " 'opening_price': '12101000',\n",
      " 'sell_price': '13269000',\n",
      " 'units_traded': '13511.9866791',\n",
      " 'volume_1day': '13511.9866791',\n",
      " 'volume_7day': '90741.32498112'}\n"
     ]
    }
   ],
   "source": [
    "from pprint import pprint\n",
    "#이 데이터 예쁜 형식으로 먼저 확인하고 코드를 파고 들어가보면 된다\n",
    "pprint(data)"
   ]
  },
  {
   "cell_type": "markdown",
   "metadata": {},
   "source": [
    "### 풀이 코드"
   ]
  },
  {
   "cell_type": "code",
   "execution_count": 4,
   "metadata": {},
   "outputs": [
    {
     "name": "stdout",
     "output_type": "stream",
     "text": [
      "상승장\n"
     ]
    }
   ],
   "source": [
    "import requests\n",
    "\n",
    "url = \"https://api.bithumb.com/public/ticker/btc\"\n",
    "data = requests.get(url).json()['data']\n",
    "\n",
    "max_price = int(data['max_price'])\n",
    "min_price = int(data['min_price']) \n",
    "price_range = max_price - min_price\n",
    "\n",
    "starting_price = int(data['opening_price'])\n",
    "\n",
    "if starting_price + price_range > max_price:\n",
    "    print(\"상승장\")\n",
    "else:\n",
    "    print(\"하락장\")\n"
   ]
  },
  {
   "cell_type": "markdown",
   "metadata": {},
   "source": [
    "# 모음 제거하기\n",
    "\n",
    "> 다음 문장의 모음을 제거하여 출력하세요.\n",
    "\n",
    "```\n",
    "예시 입력)\n",
    "\"Life is too short, you need python\"\n",
    "예시 출력)\n",
    "Lf s t shrt, y nd pythn\n",
    "```"
   ]
  },
  {
   "cell_type": "markdown",
   "metadata": {},
   "source": [
    "### 내 풀이"
   ]
  },
  {
   "cell_type": "code",
   "execution_count": 9,
   "metadata": {},
   "outputs": [
    {
     "name": "stdout",
     "output_type": "stream",
     "text": [
      "Lf s t shrt, y nd pythn\n"
     ]
    }
   ],
   "source": [
    "my_str = \"Life is too short, you need python\"\n",
    "\n",
    "vowel = ['i', 'e', 'o', 'u']\n",
    "\n",
    "new_str = ''\n",
    "new_str = new_str.join([l for l in my_str if l not in vowel])\n",
    "\n",
    "print(new_str)"
   ]
  },
  {
   "cell_type": "markdown",
   "metadata": {},
   "source": [
    "### 풀이 코드"
   ]
  },
  {
   "cell_type": "code",
   "execution_count": 10,
   "metadata": {
    "scrolled": true
   },
   "outputs": [
    {
     "name": "stdout",
     "output_type": "stream",
     "text": [
      "Lf s t shrt, y nd pythn\n"
     ]
    }
   ],
   "source": [
    "# 스트링은 리스트처럼 활용 가능하다 \n",
    "my_str = \"Life is too short, you need python\"\n",
    "\n",
    "#vowel = ['i', 'e', 'o', 'u'] 해도 되지만\n",
    "vowels = 'aeiouAEIOU'    #이렇게 대문자도 함께 넣어놓는 것이 나중에 처리 편함\n",
    "\n",
    "result = ''\n",
    "\n",
    "#공백으로 바꿔주면 된다\n",
    "for char in my_str:\n",
    "    #만약 현재 문자가 aeiou에 들어 있으면 (조건문)\n",
    "    if char not in vowels:\n",
    "        #replace해도 되고\n",
    "        #아예 새 변수에 넣어도 됨\n",
    "        result += char\n",
    "print(result)\n",
    "\n",
    "#replace나 swap은 원래 문자가 뭐였는지를 키핑하는 코드가 또 필요함\n"
   ]
  },
  {
   "cell_type": "code",
   "execution_count": 15,
   "metadata": {},
   "outputs": [
    {
     "name": "stdout",
     "output_type": "stream",
     "text": [
      "Lf s t shrt, y nd pythn\n"
     ]
    }
   ],
   "source": [
    "## replace 활용하기 코드\n",
    "my_str = \"Life is too short, you need python\"\n",
    "delete = 'aeiou'\n",
    "for char in delete:\n",
    "    my_str = my_str.replace(char, '')\n",
    "print(my_str)"
   ]
  },
  {
   "cell_type": "markdown",
   "metadata": {},
   "source": [
    "# 개인정보보호\n",
    "> 사용자의 핸드폰번호를 입력 받으려고한다. 개인정보 보호를 위하여 뒷자리 4자리를 제외하고는 마스킹 처리를 하려고한다.\n",
    ">\n",
    "> 핸드폰번호는 010으로 시작해야하고 11자리여야한다. 핸드폰번호를 입력하지 않았다면 \"핸드폰번호를 입력하세요\"를 출력한다\n",
    "\n",
    "```\n",
    "예시 입력)\n",
    "01012341234\n",
    "예시 출력)\n",
    "*******1234\n",
    "```"
   ]
  },
  {
   "cell_type": "code",
   "execution_count": 14,
   "metadata": {
    "scrolled": true
   },
   "outputs": [
    {
     "name": "stdout",
     "output_type": "stream",
     "text": [
      "010****++++ 형식으로 폰번호를 입력해주세요01012341234\n",
      "*******1234\n"
     ]
    }
   ],
   "source": [
    "phone = input(\"010****++++ 형식으로 폰번호를 입력해주세요\")\n",
    "\n",
    "if phone[:3]=='010' and len(phone)==11 :\n",
    "    phone = '*******'+phone[-4:]\n",
    "    print(phone)\n",
    "else:\n",
    "    print(\"핸드폰번호를 입력하세요\")\n"
   ]
  },
  {
   "cell_type": "code",
   "execution_count": 13,
   "metadata": {},
   "outputs": [
    {
     "name": "stdout",
     "output_type": "stream",
     "text": [
      "010****++++ 형식으로 폰번호를 입력해주세요01012341234\n",
      "*******1234\n"
     ]
    }
   ],
   "source": [
    "while 1: \n",
    "    phone = input(\"010****++++ 형식으로 폰번호를 입력해주세요\")\n",
    "\n",
    "    if phone[:3]=='010' and len(phone)==11 :\n",
    "        phone = '*******'+phone[-4:]\n",
    "        print(phone)\n",
    "        break\n",
    "    else:\n",
    "        print(\"핸드폰번호를 입력하세요\")\n"
   ]
  },
  {
   "cell_type": "markdown",
   "metadata": {},
   "source": [
    "# 정중앙\n",
    "> 사용자가 입력한 문자열중 가운데 글자를 출력하라. 문자열이 짝수라면 가운데 두글자를 출력하라"
   ]
  },
  {
   "cell_type": "code",
   "execution_count": 11,
   "metadata": {
    "scrolled": true
   },
   "outputs": [
    {
     "name": "stdout",
     "output_type": "stream",
     "text": [
      "문자열을 입력하세요 가운데 글자를 출력해드립니다: didi\n",
      "id\n"
     ]
    }
   ],
   "source": [
    "text = input('문자열을 입력하세요 가운데 글자를 출력해드립니다: ')\n",
    "\n",
    "half = int(len(text)/2)\n",
    "# 혹은 half = len(text)//2 이렇게 몫으로 처리해도 된다\n",
    "\n",
    "if len(text)%2 == 0:\n",
    "    midtxt = text[half-1:half+1]\n",
    "else:\n",
    "    midtxt = text[half]\n",
    "print(midtxt)\n",
    "#이렇게 변수로 지정한 후 출력하는 것이 가독성을 높일 수 있음"
   ]
  }
 ],
 "metadata": {
  "kernelspec": {
   "display_name": "Python 3",
   "language": "python",
   "name": "python3"
  },
  "language_info": {
   "codemirror_mode": {
    "name": "ipython",
    "version": 3
   },
   "file_extension": ".py",
   "mimetype": "text/x-python",
   "name": "python",
   "nbconvert_exporter": "python",
   "pygments_lexer": "ipython3",
   "version": "3.7.3"
  }
 },
 "nbformat": 4,
 "nbformat_minor": 2
}
