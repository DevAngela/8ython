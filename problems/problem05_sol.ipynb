{
 "cells": [
  {
   "cell_type": "markdown",
   "metadata": {},
   "source": [
    "# 2진수\n",
    "\n",
    "> 사용자의 입력을 받아 2진수 인지 확인해주는 코드를 작성하라.\n",
    ">\n",
    "> 만약 숫자가 아닌 입력값이 들어오면 \"숫자가 아닙니다\"를 출력하라."
   ]
  },
  {
   "cell_type": "code",
   "execution_count": null,
   "metadata": {},
   "outputs": [],
   "source": [
    "num = input()\n",
    "#input은 기본적으로 string으로 받는다."
   ]
  },
  {
   "cell_type": "code",
   "execution_count": 131,
   "metadata": {},
   "outputs": [
    {
     "name": "stdout",
     "output_type": "stream",
     "text": [
      "1010101011\n"
     ]
    }
   ],
   "source": [
    "# 여기에 코드를 작성하시오. 내 코드\n",
    "num = input()\n",
    "if not ('1' or '0') in num:\n",
    "    print(\"숫자가 아닙니다\")"
   ]
  },
  {
   "cell_type": "code",
   "execution_count": 136,
   "metadata": {},
   "outputs": [
    {
     "name": "stdout",
     "output_type": "stream",
     "text": [
      "10.1\n",
      "숫자가 아닙니다\n"
     ]
    }
   ],
   "source": [
    "# set의 포함관계를 부등호로 표현하기 !!! \n",
    "# set으로 묶으면 0 또는 1만 남을 것\n",
    "num = input()\n",
    "\n",
    "#.isdigit은 숫자로 된 문자열인지 판독할 수 있음 (다만 소수점 숫자는 edge case 존재함)\n",
    "if num.isdigit():\n",
    "    if set(num) <= {'0','1'}:\n",
    "        print(\"2진수가 맞습니다\")\n",
    "    else:\n",
    "        print(\"2진수가 아닙니다\")\n",
    "else:\n",
    "    print(\"숫자가 아닙니다\")"
   ]
  },
  {
   "cell_type": "code",
   "execution_count": 14,
   "metadata": {},
   "outputs": [
    {
     "name": "stdout",
     "output_type": "stream",
     "text": [
      "0\n",
      "숫자가 아닙니다\n"
     ]
    }
   ],
   "source": [
    "# set을 이용한 풀이 2\n",
    "# set으로 묶으면 0 또는 1만 남을 것\n",
    "# .issubset (부분집합)이라는 메소드 사용가능!\n",
    "\n",
    "num = input()\n",
    "if set(num).issubset({'0','1'}):\n",
    "       print(\"2진수다\")\n",
    "    else:\n",
    "        print(\"2진수 아니다.\")"
   ]
  },
  {
   "cell_type": "code",
   "execution_count": null,
   "metadata": {},
   "outputs": [],
   "source": [
    "# set을 이용한 풀이 3 : 차집합 활용하기\n",
    "num = input()\n",
    "if num.isalpha():\n",
    "    print('숫자가 아닙니다')\n",
    "else:\n",
    "    a = set(['0','1'])\n",
    "\n",
    "    if len(set(list(num)).difference(a)) > 0:\n",
    "        print('2진수가 아닙니다.')\n",
    "    else:\n",
    "        print('2진수 입니다.')"
   ]
  },
  {
   "cell_type": "code",
   "execution_count": null,
   "metadata": {},
   "outputs": [],
   "source": [
    "# string 반복을 이용한 풀이\n",
    "num = input()\n"
   ]
  },
  {
   "cell_type": "markdown",
   "metadata": {},
   "source": [
    "# 불쌍한 달팽이\n",
    "\n",
    ">달팽이는 낮 시간 동안에 기둥을 올라갑니다. 하지만 밤에는 잠을 자면서 어느 정도의 거리만큼미끄러집니다. (낮 시간 동안 올라간 거리보다는 적게 미끄러집니다) 달팽이가 기둥의 꼭대기에 도달하는 날까지 걸리는 시간을 계산하면 됩니다.\n",
    "\n",
    "> 함수에 들어가야 하는 3개의 인자는 다음과 같습니다.\n",
    "- 기둥의 높이(미터)\n",
    "- 낮 시간 동안 달팽이가 올라가는 거리(미터)\n",
    "- 달팽이가 야간에 잠을 자는 동안 미끄러지는 거리(미터)\n",
    "\n",
    "```python\n",
    "snail(100, 5, 2)\n",
    "# => 33\n",
    "```"
   ]
  },
  {
   "cell_type": "code",
   "execution_count": 26,
   "metadata": {},
   "outputs": [],
   "source": [
    "# 내코드 \n",
    "def snail(height, day, night):\n",
    "    time = 1\n",
    "    haru = day - night\n",
    "    while 1:\n",
    "        if haru*(time-1) + day >= height:\n",
    "            return time\n",
    "        else:\n",
    "            time += 1    "
   ]
  },
  {
   "cell_type": "code",
   "execution_count": null,
   "metadata": {},
   "outputs": [],
   "source": [
    "# 여기에 코드를 작성하세요\n",
    "\n",
    "# 카운트 0로 잡고 반복문 돌리는 무식한 방법 가능\n",
    "def snail(height, day, night):\n",
    "    count = 0\n",
    "    while True:\n",
    "        count += 1\n",
    "        height -= day\n",
    "        if height <= 0:\n",
    "            return count\n",
    "        height += night\n",
    "    return count"
   ]
  },
  {
   "cell_type": "code",
   "execution_count": null,
   "metadata": {},
   "outputs": [],
   "source": [
    "# 수식으로 풀기\n",
    "import math\n",
    "\n",
    "def snail(height, day, night):\n",
    "    return math.ceil((height-night)/(day-night)) #if day < height else 1 이렇게 하면 모든 케이스 커버한다.\n",
    "\n",
    "# height에서 night를 빼고 시작하고, 나누기한 후 ceiling으로 올림해버리기 때문에 edge case가 없어진다고 함"
   ]
  },
  {
   "cell_type": "code",
   "execution_count": 27,
   "metadata": {},
   "outputs": [
    {
     "name": "stdout",
     "output_type": "stream",
     "text": [
      "33\n"
     ]
    }
   ],
   "source": [
    "# 해당 코드를 통해 올바른 결과가 나오는지 확인하세요.\n",
    "print(snail(100, 5, 2))"
   ]
  },
  {
   "cell_type": "markdown",
   "metadata": {},
   "source": [
    "# 무엇이 중복일까\n",
    "\n",
    "> 다음 리스트에서 중복되는 요소만 뽑아서 새로운 리스트에 옮기시오. \n",
    "\n",
    "```python\n",
    "# 입력)\n",
    "duplicated(['a', 'b', 'c', 'b', 'd', 'm', 'n', 'n', 'b'])\n",
    "\n",
    "# 출력)\n",
    "['b', 'n']\n",
    "```"
   ]
  },
  {
   "cell_type": "code",
   "execution_count": null,
   "metadata": {},
   "outputs": [],
   "source": [
    "# 여기에 코드를 작성하시오."
   ]
  },
  {
   "cell_type": "code",
   "execution_count": 37,
   "metadata": {},
   "outputs": [
    {
     "data": {
      "text/plain": [
       "dict_items([('a', 1), ('b', 3), ('c', 1), ('d', 1), ('m', 1), ('n', 2)])"
      ]
     },
     "execution_count": 37,
     "metadata": {},
     "output_type": "execute_result"
    }
   ],
   "source": [
    "d = ['a', 'b', 'c', 'b', 'd', 'm', 'n', 'n', 'b']\n",
    "\n",
    "import collections\n",
    "dcount = collections.Counter(d)\n"
   ]
  },
  {
   "cell_type": "code",
   "execution_count": 38,
   "metadata": {},
   "outputs": [],
   "source": [
    "# 내 코드 : collection.Counter 활용\n",
    "def duplicated(words):\n",
    "    import collections\n",
    "    w_cnt = collections.Counter(words)\n",
    "    result = [ w for w, c in w_cnt.items() if c >= 2 ]\n",
    "    return result"
   ]
  },
  {
   "cell_type": "code",
   "execution_count": null,
   "metadata": {},
   "outputs": [],
   "source": [
    "# 위의 코드 더 간단히\n",
    "def duplicated(words):\n",
    "    from collections import Counter\n",
    "    return [k for k, v in Counter(words).items() if v > 1]"
   ]
  },
  {
   "cell_type": "code",
   "execution_count": null,
   "metadata": {},
   "outputs": [],
   "source": [
    "# 직관적으로는\n",
    "def duplicated(words):\n",
    "    duplicates = []\n",
    "    for word in words:\n",
    "        if words.count(word) > 1 and word not in duplicates:\n",
    "            duplicates.append(word)\n",
    "        return duplicates\n",
    "\n"
   ]
  },
  {
   "cell_type": "code",
   "execution_count": 137,
   "metadata": {},
   "outputs": [],
   "source": [
    "# 선생님 코드: Set comprehension으로 \n",
    "# 왜냐면 우리가 카운팅을 써야 하므로 바로 리스트 쓰기 좀 애매하니까\n",
    "# count가 1 넘는 단어들을 가져와서 list로 만들기\n",
    "def duplicated2(words):\n",
    "    return sorted(list({word for word in words if words.count(word) > 1}))"
   ]
  },
  {
   "cell_type": "code",
   "execution_count": 139,
   "metadata": {},
   "outputs": [
    {
     "data": {
      "text/plain": [
       "['b', 'n']"
      ]
     },
     "execution_count": 139,
     "metadata": {},
     "output_type": "execute_result"
    }
   ],
   "source": [
    "# 해당 코드를 통해 올바른 결과가 나오는지 확인하세요.\n",
    "duplicated(['a', 'b', 'c', 'b', 'd', 'm', 'n', 'n', 'b'])"
   ]
  },
  {
   "cell_type": "markdown",
   "metadata": {},
   "source": [
    "# 편-안한 단어\n",
    "\n",
    "> (QWERTY 키보드를 사용하여 타이핑을 한다고 가정할 때) '편안한 단어'는 타이핑 할 때 **손을 번갈아 칠 수 있는 단어**를 말합니다.\n",
    ">\n",
    "> 단어를 인자로 받아 그것이 '편안한 단어'인지 여부를 True/False로 반환하는 함수를 만드세요.(모든 단어는 a ~ z까지 오름차순으로 구성된 문자열입니다.)\n",
    "\n",
    "> 문자 목록\n",
    "- 왼손: q, w, e, r, t, a, s, s, d, f, g, z, x, c, v, b\n",
    "- 오른손: y, u, i, o, p, h, j, k, l, n, m"
   ]
  },
  {
   "cell_type": "code",
   "execution_count": 140,
   "metadata": {},
   "outputs": [],
   "source": [
    "# 여기에 코드를 작성하세요.\n",
    "# 한번이라도 중복된 손에서 나오게 되면 break (=return False) 시키면 된다.\n",
    "def comfortable_word(words):\n",
    "    l_keys, r_keys = 'qwertasdfgzxcvb', 'yuiophjklnm'\n",
    "    \n",
    "    left = True if words[0] in l_keys else False\n",
    "    #왼쪽 키인지 아닌지 먼저 체크하는 불린을 만들어놓고\n",
    "    \n",
    "    for word in words[1:]:\n",
    "        if (word in l_keys) == left:\n",
    "            return False\n",
    "        left = not left\n",
    "    return True      "
   ]
  },
  {
   "cell_type": "code",
   "execution_count": 55,
   "metadata": {},
   "outputs": [],
   "source": [
    "# 내 코드\n",
    "def comfortable_word(words):\n",
    "    left = 'qwertasdfgzxcvb'\n",
    "    right = 'yuiophjklnm'\n",
    "    for idx, char in enumerate(words[:-1]):\n",
    "        if char in left:\n",
    "            if words[idx+1] not in right:\n",
    "                return False\n",
    "        else:\n",
    "            if words[idx+1] not in left:\n",
    "                return False\n",
    "    return True        "
   ]
  },
  {
   "cell_type": "code",
   "execution_count": 141,
   "metadata": {},
   "outputs": [],
   "source": [
    "# 앞뒤를 비교하는 좋은 방법\n",
    "def comfortable_word(words):\n",
    "    left = 'qwertasdfgzxcvb'\n",
    "    \n",
    "    for i in range(len(words)-1):\n",
    "        if (words[i] in left) == (words[i+1] in left):\n",
    "            return False\n",
    "    else:\n",
    "        return True"
   ]
  },
  {
   "cell_type": "code",
   "execution_count": null,
   "metadata": {},
   "outputs": [],
   "source": [
    "def comfortable_word(words):\n",
    "    left= ['q', 'w', 'e', 'r', 't', 'a', 's', 's', 'd', 'f', 'g', 'z', 'x', 'c', 'v','b']\n",
    "    right= ['y', 'u', 'i', 'o', 'p', 'h', 'j', 'k', 'l', 'n', 'm']\n",
    "    \n",
    "    for i in range(1,len(words)):\n",
    "        if (words[i-1] in left and words[i] in left) or (words[i-1] in right and words[i] in right):\n",
    "            return False\n",
    "    return True"
   ]
  },
  {
   "cell_type": "code",
   "execution_count": 56,
   "metadata": {},
   "outputs": [
    {
     "name": "stdout",
     "output_type": "stream",
     "text": [
      "True\n",
      "False\n"
     ]
    }
   ],
   "source": [
    "# 해당 코드를 통해 올바른 결과가 나오는지 확인하세요.\n",
    "print(comfortable_word('qywu'))\n",
    "print(comfortable_word('apple'))"
   ]
  },
  {
   "cell_type": "markdown",
   "metadata": {},
   "source": [
    "# 숫자패턴\n",
    "\n",
    ">원하는 행까지 아래의 패턴을 생성하는 함수를 작성하세요. 만약 인자가 0이나 음의 정수인 경우 빈 문자열('')로 반환하세요.\n",
    "> \n",
    "> 짝수가 인수로 전달되면 패턴은 통과된 짝수보다 작은 최대 홀수까지 계속되어야 합니다.\n",
    "\n",
    "```python\n",
    "# 예시 \n",
    "print(pattern(9)):\n",
    "\n",
    "1\n",
    "333\n",
    "55555\n",
    "7777777\n",
    "999999999\n",
    "\n",
    "print(pattern(6))\n",
    "1\n",
    "333\n",
    "55555\n",
    "```\n",
    "**유의!**\n",
    "패턴에 공백은 없습니다."
   ]
  },
  {
   "cell_type": "code",
   "execution_count": 62,
   "metadata": {},
   "outputs": [
    {
     "name": "stdout",
     "output_type": "stream",
     "text": [
      "0\n",
      "1\n",
      "2\n",
      "3\n",
      "4\n",
      "5\n",
      "6\n",
      "7\n",
      "8\n"
     ]
    }
   ],
   "source": [
    "# 여기에 코드를 작성하세요\n"
   ]
  },
  {
   "cell_type": "code",
   "execution_count": 146,
   "metadata": {},
   "outputs": [],
   "source": [
    "# 내 코드\n",
    "def pattern(n):\n",
    "    nlist = [str(x) * x for x in range(n+1) if x%2]\n",
    "    result = \"\\n\".join([x for x in nlist])\n",
    "    return result"
   ]
  },
  {
   "cell_type": "code",
   "execution_count": 148,
   "metadata": {},
   "outputs": [],
   "source": [
    "# 더 간단하게\n",
    "def pattern(n):\n",
    "    return '\\n'.join(str(num)*num for num in range(1,n+1,2))\n",
    "\n",
    "# 람다로는\n",
    "pattern = lambda n : \"\\n\".join([str(i)*i for i in range(n+1) if i %2])"
   ]
  },
  {
   "cell_type": "code",
   "execution_count": 149,
   "metadata": {},
   "outputs": [
    {
     "name": "stdout",
     "output_type": "stream",
     "text": [
      "1\n",
      "333\n",
      "55555\n",
      "7777777\n",
      "999999999\n",
      "1\n",
      "333\n",
      "55555\n",
      "\n",
      "\n"
     ]
    }
   ],
   "source": [
    "# 해당 코드를 통해 올바른 결과가 나오는지 확인하세요.\n",
    "print(pattern(9))\n",
    "print(pattern(6))\n",
    "print(pattern(0))\n",
    "print(pattern(-1))"
   ]
  },
  {
   "cell_type": "code",
   "execution_count": null,
   "metadata": {},
   "outputs": [],
   "source": []
  }
 ],
 "metadata": {
  "kernelspec": {
   "display_name": "Python 3",
   "language": "python",
   "name": "python3"
  },
  "language_info": {
   "codemirror_mode": {
    "name": "ipython",
    "version": 3
   },
   "file_extension": ".py",
   "mimetype": "text/x-python",
   "name": "python",
   "nbconvert_exporter": "python",
   "pygments_lexer": "ipython3",
   "version": "3.7.3"
  }
 },
 "nbformat": 4,
 "nbformat_minor": 2
}
