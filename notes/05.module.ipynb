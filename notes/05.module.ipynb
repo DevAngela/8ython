{
 "cells": [
  {
   "cell_type": "markdown",
   "metadata": {},
   "source": [
    "# 모듈"
   ]
  },
  {
   "cell_type": "markdown",
   "metadata": {},
   "source": [
    "## 모듈을 만들어봅시다."
   ]
  },
  {
   "cell_type": "markdown",
   "metadata": {},
   "source": [
    "- jupyter notebook 파일트리화면에서 New > Text File\n",
    "- 파일의 이름을 fibo.py로 저장"
   ]
  },
  {
   "cell_type": "code",
   "execution_count": null,
   "metadata": {},
   "outputs": [],
   "source": [
    "# 간단하게, hi()함수\n",
    "import hello\n",
    "\n",
    "dir(hello)"
   ]
  },
  {
   "cell_type": "code",
   "execution_count": 81,
   "metadata": {},
   "outputs": [
    {
     "ename": "ModuleNotFoundError",
     "evalue": "No module named 'greeting'",
     "output_type": "error",
     "traceback": [
      "\u001b[1;31m---------------------------------------------------------------------------\u001b[0m",
      "\u001b[1;31mModuleNotFoundError\u001b[0m                       Traceback (most recent call last)",
      "\u001b[1;32m<ipython-input-81-4fd05dbae6f7>\u001b[0m in \u001b[0;36m<module>\u001b[1;34m\u001b[0m\n\u001b[0;32m      1\u001b[0m \u001b[1;31m# 만약 없는 것 찾는다고 하면?\u001b[0m\u001b[1;33m\u001b[0m\u001b[1;33m\u001b[0m\u001b[1;33m\u001b[0m\u001b[0m\n\u001b[1;32m----> 2\u001b[1;33m \u001b[1;32mimport\u001b[0m \u001b[0mgreeting\u001b[0m\u001b[1;33m\u001b[0m\u001b[1;33m\u001b[0m\u001b[0m\n\u001b[0m",
      "\u001b[1;31mModuleNotFoundError\u001b[0m: No module named 'greeting'"
     ]
    }
   ],
   "source": [
    "# 만약 없는 것 찾는다고 하면?\n",
    "import greeting"
   ]
  },
  {
   "cell_type": "code",
   "execution_count": null,
   "metadata": {},
   "outputs": [],
   "source": [
    "# 함수에서 작성했던 피보나치 함수 두가지를 작성합니다"
   ]
  },
  {
   "cell_type": "markdown",
   "metadata": {},
   "source": [
    "## `import`\n",
    "* 모듈을 활용하기 위해서는 반드시 `import`문을 통해 내장 모듈을 이름 공간으로 가져와야합니다."
   ]
  },
  {
   "cell_type": "code",
   "execution_count": null,
   "metadata": {},
   "outputs": [],
   "source": [
    "# import를 이용하여 fibo.py를 가져옵니다"
   ]
  },
  {
   "cell_type": "markdown",
   "metadata": {},
   "source": [
    "## 패키지를 만들어봅시다."
   ]
  },
  {
   "cell_type": "markdown",
   "metadata": {},
   "source": [
    "- jupyter notebook 파일트리화면에서 New > Folder\n",
    "- 다음과 같은 폴더구조 생성\n",
    "\n",
    "```\n",
    "- /myPackage\n",
    "    - __init__.py\n",
    "    - /math\n",
    "        - __init__.py\n",
    "        - formula.py\n",
    "    - /web\n",
    "        - __init__.py\n",
    "        - url.py\n",
    "```\n",
    "- 파이썬이 디렉터리를 패키지로 취급하게 만들기 위해서 `__init__.py` 파일이 필요합니다. 이렇게 하는 이유는 string 처럼 흔히 쓰는 이름의 디렉터리가, 의도하지 않게 모듈 검색 경로의 뒤에 등장하는 올바른 모듈들을 가리는 일을 방지하기 위함입니다."
   ]
  },
  {
   "cell_type": "markdown",
   "metadata": {},
   "source": [
    "* `import`는 다양한 방법으로 할 수 있습니다.\n",
    "\n",
    "## `from` *모듈명* `import` *어트리뷰트*\n",
    "\n",
    "특정한 함수 혹은 어트리뷰트만 활용하고 싶을 때, 위와 같이 작성합니다."
   ]
  },
  {
   "cell_type": "code",
   "execution_count": 2,
   "metadata": {},
   "outputs": [
    {
     "data": {
      "text/plain": [
       "3.14"
      ]
     },
     "execution_count": 2,
     "metadata": {},
     "output_type": "execute_result"
    }
   ],
   "source": [
    "# 패키지를 import 해봅시다.\n",
    "from myPackage import math\n",
    "\n",
    "#math\n",
    "#math.formula  #AttributeError: module 'myPackage.math' has no attribute 'formula' 이렇게 뜬다.\n",
    "#왜냐면 이 함수 안에서 부를 만한 것이 없기 때문임\n",
    "\n",
    "#formula.py 내부에 함수를 추가해줘도 똑같이 formula ttribute할 게 없다고 한다.\n",
    "\n",
    "\n",
    "#Kernel Restart를 하면 된다. import 시점의 파일을 가져온 것이다. \n",
    "math.pi\n",
    "\n"
   ]
  },
  {
   "cell_type": "code",
   "execution_count": 5,
   "metadata": {},
   "outputs": [
    {
     "data": {
      "text/plain": [
       "3.141592"
      ]
     },
     "execution_count": 5,
     "metadata": {},
     "output_type": "execute_result"
    }
   ],
   "source": [
    "#우리가 패키지화해두었으므로\n",
    "#formula까지 모듈로 임포트 하고 그 안의 함수(변수, 클래스)인 어트리뷰트를 부른다.\n",
    "from myPackage.math.formula import pi\n",
    "\n",
    "pi()\n",
    "\n",
    "#전체 모듈 경로 넣어야 import 가능"
   ]
  },
  {
   "cell_type": "code",
   "execution_count": 2,
   "metadata": {},
   "outputs": [
    {
     "ename": "AttributeError",
     "evalue": "module 'myPackage' has no attribute 'math'",
     "output_type": "error",
     "traceback": [
      "\u001b[1;31m---------------------------------------------------------------------------\u001b[0m",
      "\u001b[1;31mAttributeError\u001b[0m                            Traceback (most recent call last)",
      "\u001b[1;32m<ipython-input-2-c98e4dd07fa3>\u001b[0m in \u001b[0;36m<module>\u001b[1;34m\u001b[0m\n\u001b[0;32m      3\u001b[0m \u001b[1;31m#포뮬라 안의 함수를 쓰고 싶다면?\u001b[0m\u001b[1;33m\u001b[0m\u001b[1;33m\u001b[0m\u001b[1;33m\u001b[0m\u001b[0m\n\u001b[0;32m      4\u001b[0m \u001b[1;33m\u001b[0m\u001b[0m\n\u001b[1;32m----> 5\u001b[1;33m \u001b[0mmyPackage\u001b[0m\u001b[1;33m.\u001b[0m\u001b[0mmath\u001b[0m\u001b[1;33m.\u001b[0m\u001b[0mformula\u001b[0m\u001b[1;33m.\u001b[0m\u001b[0mpi\u001b[0m\u001b[1;33m\u001b[0m\u001b[1;33m\u001b[0m\u001b[0m\n\u001b[0m",
      "\u001b[1;31mAttributeError\u001b[0m: module 'myPackage' has no attribute 'math'"
     ]
    }
   ],
   "source": [
    "import myPackage\n",
    "\n",
    "#포뮬라 안의 함수를 쓰고 싶다면?\n",
    "\n",
    "myPackage.math.formula.pi\n"
   ]
  },
  {
   "cell_type": "code",
   "execution_count": 6,
   "metadata": {},
   "outputs": [
    {
     "data": {
      "text/plain": [
       "'http://www.kobis.or.kr/kobisopenapi/webservice/rest/boxoffice/searchDailyBoxOfficeList.json?key=<mykey>&targetDt=20190721'"
      ]
     },
     "execution_count": 6,
     "metadata": {},
     "output_type": "execute_result"
    }
   ],
   "source": [
    "# web 모듈을 추가해봅시다.\n",
    "from myPackage.web.url import make_url\n",
    "import requests\n",
    "\n",
    "response = requests.get(make_url('<mykey>', '20190721'))\n",
    "response.json()"
   ]
  },
  {
   "cell_type": "markdown",
   "metadata": {},
   "source": [
    "## `from` *모듈명* `import` `*`\n",
    "\n",
    "해당하는 모듈 내의 모든 변수, 함수, 클래스를 가져옵니다."
   ]
  },
  {
   "cell_type": "code",
   "execution_count": 7,
   "metadata": {},
   "outputs": [
    {
     "data": {
      "text/plain": [
       "datetime.datetime(2019, 7, 22, 10, 46, 2, 640423)"
      ]
     },
     "execution_count": 7,
     "metadata": {},
     "output_type": "execute_result"
    }
   ],
   "source": [
    "# formula 모듈에서 모든 변수와 함수를 가져와봅시다.\n",
    "\n",
    "# 우리가 쓴 거 말고 datetime 해보자\n",
    "\n",
    "import datetime\n",
    "\n",
    "datetime.datetime.now()\n"
   ]
  },
  {
   "cell_type": "code",
   "execution_count": 8,
   "metadata": {},
   "outputs": [
    {
     "data": {
      "text/plain": [
       "datetime.datetime(2019, 7, 22, 10, 46, 30, 955625)"
      ]
     },
     "execution_count": 8,
     "metadata": {},
     "output_type": "execute_result"
    }
   ],
   "source": [
    "# datetime 상위 경로 생략하기\n",
    "from datetime import datetime\n",
    "datetime.now()"
   ]
  },
  {
   "cell_type": "code",
   "execution_count": null,
   "metadata": {},
   "outputs": [],
   "source": [
    "# date라는 어트리뷰트도 갖고 오고 싶다\n",
    "#이렇게 쓰면 좀 무식함\n",
    "# from datetime import datetime\n",
    "# from datetime import date"
   ]
  },
  {
   "cell_type": "code",
   "execution_count": 9,
   "metadata": {},
   "outputs": [
    {
     "ename": "SyntaxError",
     "evalue": "invalid syntax (<ipython-input-9-7a2529fc5935>, line 3)",
     "output_type": "error",
     "traceback": [
      "\u001b[1;36m  File \u001b[1;32m\"<ipython-input-9-7a2529fc5935>\"\u001b[1;36m, line \u001b[1;32m3\u001b[0m\n\u001b[1;33m    import datetime import *\u001b[0m\n\u001b[1;37m                         ^\u001b[0m\n\u001b[1;31mSyntaxError\u001b[0m\u001b[1;31m:\u001b[0m invalid syntax\n"
     ]
    }
   ],
   "source": [
    "#import datetime import datetime, date\n",
    "#이렇게 쓰면 datetime의 어트리뷰트들을 다~~ 가져온다.\n",
    "from datetime import * \n",
    "\n",
    "# 이렇게 하지 말자!!"
   ]
  },
  {
   "cell_type": "markdown",
   "metadata": {},
   "source": [
    "## `from` *모듈명* `import` *어트리뷰트*  `as` \n",
    "\n",
    "내가 지정하는 이름을 붙여 가져올 수 있습니다."
   ]
  },
  {
   "cell_type": "code",
   "execution_count": null,
   "metadata": {},
   "outputs": [],
   "source": [
    "# 이름을 바꿀 수 있습니다 자주 쓴다!\n",
    "from bs4 import BeautifulSoup as bs\n",
    "# as 부분은 bs = BeautifulSoup 이 문장이 줄어든 것이라고 보면 된다."
   ]
  },
  {
   "cell_type": "code",
   "execution_count": 10,
   "metadata": {},
   "outputs": [
    {
     "data": {
      "text/plain": [
       "['C:\\\\Users\\\\student\\\\8ython\\\\notes',\n",
       " 'c:\\\\users\\\\student\\\\appdata\\\\local\\\\programs\\\\python\\\\python37-32\\\\python37.zip',\n",
       " 'c:\\\\users\\\\student\\\\appdata\\\\local\\\\programs\\\\python\\\\python37-32\\\\DLLs',\n",
       " 'c:\\\\users\\\\student\\\\appdata\\\\local\\\\programs\\\\python\\\\python37-32\\\\lib',\n",
       " 'c:\\\\users\\\\student\\\\appdata\\\\local\\\\programs\\\\python\\\\python37-32',\n",
       " '',\n",
       " 'C:\\\\Users\\\\student\\\\AppData\\\\Roaming\\\\Python\\\\Python37\\\\site-packages',\n",
       " 'c:\\\\users\\\\student\\\\appdata\\\\local\\\\programs\\\\python\\\\python37-32\\\\lib\\\\site-packages',\n",
       " 'c:\\\\users\\\\student\\\\appdata\\\\local\\\\programs\\\\python\\\\python37-32\\\\lib\\\\site-packages\\\\IPython\\\\extensions',\n",
       " 'C:\\\\Users\\\\student\\\\.ipython']"
      ]
     },
     "execution_count": 10,
     "metadata": {},
     "output_type": "execute_result"
    }
   ],
   "source": [
    "import sys\n",
    "\n",
    "sys.path\n",
    "#파이썬이 sys를 찾기 위해 탐색한 경로들이 나온다.\n",
    "# pip로 설치하면 본적으로 site-packages에 설치가 된다.\n",
    "# 상위는 현재의 폴더다."
   ]
  },
  {
   "cell_type": "markdown",
   "metadata": {},
   "source": [
    "## 파이썬 기본 모듈"
   ]
  },
  {
   "cell_type": "markdown",
   "metadata": {},
   "source": [
    "python에는 기본적으로 제공되는 모듈들이 있습니다.\n",
    "\n",
    "[표준 라이브러리](https://docs.python.org/ko/3/library/index.html)에서 제공되는 모듈을 확인해보세요!\n",
    "\n",
    "여기 있는 모든 내용을 외울 필요도 없고, 이런 것이 있다만 확인해보세요 :)\n",
    "\n",
    "우리가 사용했던 `random` 역시도 표준라이브러리에서 제공되고 있는 모듈이며, 난수를 발생시키는 모듈입니다."
   ]
  },
  {
   "cell_type": "code",
   "execution_count": 3,
   "metadata": {},
   "outputs": [
    {
     "data": {
      "text/plain": [
       "[10, 36, 23, 4, 2, 21]"
      ]
     },
     "execution_count": 3,
     "metadata": {},
     "output_type": "execute_result"
    }
   ],
   "source": [
    "# 로또 번호 추천을 해보세요!\n",
    "import random\n",
    "random.sample(range(1, 46), 6)"
   ]
  },
  {
   "cell_type": "markdown",
   "metadata": {},
   "source": [
    "# 숫자 관련 함수\n",
    "\n",
    "이외에도 분수(frctions), 십진(decimal), 통계(statistics)등이 있습니다.\n",
    "\n",
    "\n",
    "## 수학 관련 함수(math)"
   ]
  },
  {
   "cell_type": "markdown",
   "metadata": {},
   "source": [
    "다음의 기본 함수는 `import`없이 활용하였습니다. \n",
    "\n",
    "`sum`, `max`, `min`, `abs`, `pow`, `round`, `divmod`"
   ]
  },
  {
   "cell_type": "code",
   "execution_count": 6,
   "metadata": {},
   "outputs": [],
   "source": [
    "import math\n",
    "\n",
    "# 알고리즘 문제 풀 때 쓸 일이 많다!"
   ]
  },
  {
   "cell_type": "markdown",
   "metadata": {},
   "source": [
    "* 활용할 수 있는 상수는 다음과 같습니다."
   ]
  },
  {
   "cell_type": "code",
   "execution_count": 8,
   "metadata": {},
   "outputs": [
    {
     "data": {
      "text/plain": [
       "3.141592653589793"
      ]
     },
     "execution_count": 8,
     "metadata": {},
     "output_type": "execute_result"
    }
   ],
   "source": [
    "# 원주율(pi)\n",
    "pi = math.pi\n",
    "pi\n",
    "#파일명 만들 때 빌트인 함수, 패키지 이름 사용하면 안 된다. 최대한 피하자."
   ]
  },
  {
   "cell_type": "code",
   "execution_count": null,
   "metadata": {},
   "outputs": [],
   "source": [
    "# 자연 상수(e)"
   ]
  },
  {
   "cell_type": "markdown",
   "metadata": {},
   "source": [
    "* 활용할 수 있는 연산 관련 함수는 다음과 같습니다.\n",
    "\n",
    "|함수|비고|\n",
    "|---|---|\n",
    "|math.ceil(x)|소수점 올림|\n",
    "|math.floor(x)|소수점 내림|\n",
    "|math.trunc(x)|소수점 버림|\n",
    "|math.copysign(x, y)|y의 부호를 x에 적용한 값|\n",
    "|math.fabs(x)|float 절대값 - 복소수 오류 발생|\n",
    "|math.factorial(x)|팩토리얼 계산 값|\n",
    "|math.fmod(x, y)|float 나머지 계산|\n",
    "|math.fsum(iterable)|float 합|\n",
    "|math.modf(x)|소수부 정수부 분리|"
   ]
  },
  {
   "cell_type": "code",
   "execution_count": 10,
   "metadata": {},
   "outputs": [
    {
     "data": {
      "text/plain": [
       "4"
      ]
     },
     "execution_count": 10,
     "metadata": {},
     "output_type": "execute_result"
    }
   ],
   "source": [
    "# 올림\n",
    "math.ceil(pi)"
   ]
  },
  {
   "cell_type": "code",
   "execution_count": 14,
   "metadata": {},
   "outputs": [
    {
     "data": {
      "text/plain": [
       "3"
      ]
     },
     "execution_count": 14,
     "metadata": {},
     "output_type": "execute_result"
    }
   ],
   "source": [
    "# 내림\n",
    "math.floor(pi)"
   ]
  },
  {
   "cell_type": "code",
   "execution_count": 15,
   "metadata": {},
   "outputs": [
    {
     "data": {
      "text/plain": [
       "3"
      ]
     },
     "execution_count": 15,
     "metadata": {},
     "output_type": "execute_result"
    }
   ],
   "source": [
    "# 버림\n",
    "math.trunc(pi)"
   ]
  },
  {
   "cell_type": "code",
   "execution_count": 13,
   "metadata": {},
   "outputs": [
    {
     "name": "stdout",
     "output_type": "stream",
     "text": [
      "-4\n",
      "-3\n"
     ]
    }
   ],
   "source": [
    "# 내림과 버림은 음수에서 처리가 다르다.\n",
    "print(math.floor(-pi))\n",
    "print(math.trunc(-pi))"
   ]
  },
  {
   "cell_type": "code",
   "execution_count": null,
   "metadata": {},
   "outputs": [],
   "source": [
    "# 프로그래밍에서 나눗셈은 음수로 하거나 양수로 하거나 두가지 상황이 있습니다. \n",
    "# %는 정수를 fmod는 float\n",
    "# 부호가 다른 경우 서로 다르게 출력함."
   ]
  },
  {
   "cell_type": "markdown",
   "metadata": {},
   "source": [
    "* 로그, 지수 연산은 다음과 같습니다. \n",
    "\n",
    "|함수|비고|\n",
    "|---|---|\n",
    "|math.pow(x,y)|x의 y승 결과|\n",
    "|math.sqrt(x)|x의 제곱근의 결과|\n",
    "|math.exp(x)|e^x 결과|\n",
    "|math.log(x[, base])|밑을 base로 하는 logx|"
   ]
  },
  {
   "cell_type": "code",
   "execution_count": 21,
   "metadata": {},
   "outputs": [
    {
     "name": "stdout",
     "output_type": "stream",
     "text": [
      "25\n",
      "25\n",
      "25.0\n"
     ]
    }
   ],
   "source": [
    "# 제곱\n",
    "print(5 ** 2)\n",
    "print(pow(5, 2))    #내장함수 pow()는 **와 똑같다.\n",
    "print(math.pow(5, 2))     #리턴값이 실수다."
   ]
  },
  {
   "cell_type": "code",
   "execution_count": 23,
   "metadata": {},
   "outputs": [
    {
     "data": {
      "text/plain": [
       "10.0"
      ]
     },
     "execution_count": 23,
     "metadata": {},
     "output_type": "execute_result"
    }
   ],
   "source": [
    "# 제곱근\n",
    "math.sqrt(100)"
   ]
  },
  {
   "cell_type": "code",
   "execution_count": 24,
   "metadata": {},
   "outputs": [
    {
     "data": {
      "text/plain": [
       "2.718281828459045"
      ]
     },
     "execution_count": 24,
     "metadata": {},
     "output_type": "execute_result"
    }
   ],
   "source": [
    "# e\n",
    "# exponent\n",
    "\n",
    "math.exp(1)"
   ]
  },
  {
   "cell_type": "code",
   "execution_count": 31,
   "metadata": {},
   "outputs": [
    {
     "name": "stdout",
     "output_type": "stream",
     "text": [
      "1.0\n",
      "2.302585092994046\n"
     ]
    }
   ],
   "source": [
    "# 로그 계산\n",
    "print(math.log(math.e))\n",
    "print(math.log(10))"
   ]
  },
  {
   "cell_type": "code",
   "execution_count": 32,
   "metadata": {},
   "outputs": [],
   "source": [
    "# 하지만 math는 생각보다 기능이 별로라서 수학 계산할 때는 numpy를 가져와서 쓰게 될 것이다."
   ]
  },
  {
   "cell_type": "markdown",
   "metadata": {},
   "source": [
    "* 삼각함수는 다음과 같습니다. \n",
    "\n",
    "```\n",
    "sin, cos, tan\n",
    "asin, acos, atan, \n",
    "sinh, cosh, tanh,\n",
    "ashinh, acosh, atanh\n",
    "```"
   ]
  },
  {
   "cell_type": "code",
   "execution_count": null,
   "metadata": {},
   "outputs": [],
   "source": [
    "# 삼각함수를 사용해봅시다.\n"
   ]
  },
  {
   "cell_type": "markdown",
   "metadata": {},
   "source": [
    "## 난수 발생관련 함수(random)"
   ]
  },
  {
   "cell_type": "code",
   "execution_count": 34,
   "metadata": {},
   "outputs": [],
   "source": [
    "import random"
   ]
  },
  {
   "cell_type": "code",
   "execution_count": 46,
   "metadata": {},
   "outputs": [
    {
     "data": {
      "text/plain": [
       "0"
      ]
     },
     "execution_count": 46,
     "metadata": {},
     "output_type": "execute_result"
    }
   ],
   "source": [
    "# 난수 생성\n",
    "\n",
    "# 0~1 미만까지의 난수\n",
    "random.random()\n",
    "\n",
    "# 0~100 이하!!!까지의 난수 (중요)\n",
    "random.randint(0, 100)"
   ]
  },
  {
   "cell_type": "code",
   "execution_count": null,
   "metadata": {},
   "outputs": [],
   "source": [
    "# 임의의 정수 반환"
   ]
  },
  {
   "cell_type": "code",
   "execution_count": 56,
   "metadata": {},
   "outputs": [
    {
     "data": {
      "text/plain": [
       "0.13436424411240122"
      ]
     },
     "execution_count": 56,
     "metadata": {},
     "output_type": "execute_result"
    }
   ],
   "source": [
    "# 시드 설정 - 시드 설정을 하지 않으면 현재 시간을 기반으로 만든다.\n",
    "# 시드: 랜덤값 만들 때 특정 값을 기준으로 만들어낸다. 보통 시간값은 계속해서 달라지기 때문에 그걸 기준으로 만든다.\n",
    "# 만약 어떤 기준값을 내가 정하고 싶다면 시드값을 설정해주는 것이다.\n",
    "# 아래에 1로 설정했을 때 random값으로 0.13....이렇게 나오는데 이건 랜덤 테이블에 따라 달라진다.\n",
    "# 랜덤 테이블마다 다른데, SHA 해쉬를 사용하면 아주 랜덤한 값이 나온다. \n",
    "# SHA2는 아직 아무도 못 뚫었다. 뚫릴 수 있는지 없는지도 증명이 안 됨.\n",
    "\n",
    "#컴퓨터에서 발생시킬 수 있는 난수는 자연의 완전한 난수가 아니므로\n",
    "#파이썬은 기본적으로 시간을 기반으로 난수를 설정한다.\n",
    "\n",
    "# 1이라는 시드 넘버를 주면 새로 고쳐도 처음 생성한 랜덤값과 동일한 값을 준다.\n",
    "# 이 값을 킵해놓고 나중에 계속 사용 가능하다.\n",
    "\n",
    "random.seed(1)\n",
    "random.random()"
   ]
  },
  {
   "cell_type": "code",
   "execution_count": null,
   "metadata": {},
   "outputs": [],
   "source": [
    "# 시드 설정 후에 첫번째 값을 확인해보자"
   ]
  },
  {
   "cell_type": "code",
   "execution_count": 55,
   "metadata": {},
   "outputs": [
    {
     "name": "stdout",
     "output_type": "stream",
     "text": [
      "['sean', 'justin', 'jones']\n"
     ]
    }
   ],
   "source": [
    "# 시퀀스 객체를 임의의 순서로 섞어준다. \n",
    "names = ['jones', 'sean', 'justin']\n",
    "random.shuffle(names)\n",
    "print(names)"
   ]
  },
  {
   "cell_type": "markdown",
   "metadata": {},
   "source": [
    "# 날짜 관련 모듈\n",
    "\n",
    "## datetime"
   ]
  },
  {
   "cell_type": "code",
   "execution_count": 57,
   "metadata": {
    "scrolled": true
   },
   "outputs": [
    {
     "name": "stdout",
     "output_type": "stream",
     "text": [
      "2019-07-22 16:20:27.153868\n"
     ]
    }
   ],
   "source": [
    "# 1970년 1월 1일부터 1초씩 증가합니다.\n",
    "# 오늘을 출력해봅시다.\n",
    "\n",
    "from datetime import datetime\n",
    "now = datetime.now()   #현재 컴퓨터 시간\n",
    "print(now)"
   ]
  },
  {
   "cell_type": "code",
   "execution_count": null,
   "metadata": {},
   "outputs": [],
   "source": [
    "# 오늘을 출력하는 다른 방법도 있습니다.\n"
   ]
  },
  {
   "cell_type": "code",
   "execution_count": null,
   "metadata": {},
   "outputs": [],
   "source": [
    "# UTC기준시도 출력가능합니다.\n",
    "# UTC는 영국의 그리니치 평균시 GMT 시간이라고도 한다.\n",
    "# 우리나라는 UTC + 9 \n",
    "\n"
   ]
  },
  {
   "cell_type": "markdown",
   "metadata": {},
   "source": [
    "* 시간 형식지정\n",
    "\n",
    "|형식 지시자(directive)|의미|\n",
    "|-------------------|---|\n",
    "|%y|연도표기(00~99)|\n",
    "|%Y|연도표기(전체)|\n",
    "|%b|월 이름(축약)|\n",
    "|%B|월 이름(전체)|\n",
    "|%m|월 숫자(01~12)|\n",
    "|%d|일(01~31)|\n",
    "|%H|24시간 기준(00~23)|\n",
    "|%I|12시간 기준(01~12)|\n",
    "|%M|분(00~59)|\n",
    "|%S|초(00~61)|\n",
    "|%p|오전/오후|\n",
    "|%a|요일(축약)|\n",
    "|%A|요일(전체)|\n",
    "|%w|요일(숫자 : 일요일(0))|\n",
    "|%j|1월 1일부터 누적 날짜|"
   ]
  },
  {
   "cell_type": "code",
   "execution_count": 61,
   "metadata": {},
   "outputs": [
    {
     "data": {
      "text/plain": [
       "'&Y-07-22, Monday'"
      ]
     },
     "execution_count": 61,
     "metadata": {},
     "output_type": "execute_result"
    }
   ],
   "source": [
    "# 내가 원하는대로 예쁘게 출력해봅시다.\n",
    "now.strftime('&Y-%m-%d, %A')"
   ]
  },
  {
   "cell_type": "markdown",
   "metadata": {},
   "source": [
    "|속성/메소드|내용|\n",
    "|-------------------|---|\n",
    "|.year|년|\n",
    "|.month|월|\n",
    "|.day|일|\n",
    "|.hour|시|\n",
    "|.minute|분|\n",
    "|.second|초|\n",
    "|.weekday()|월요일을 0부터 6까지|"
   ]
  },
  {
   "cell_type": "code",
   "execution_count": 62,
   "metadata": {},
   "outputs": [
    {
     "data": {
      "text/plain": [
       "22"
      ]
     },
     "execution_count": 62,
     "metadata": {},
     "output_type": "execute_result"
    }
   ],
   "source": [
    "# 속성을 출력해봅시다.\n",
    "now.day\n"
   ]
  },
  {
   "cell_type": "code",
   "execution_count": 64,
   "metadata": {},
   "outputs": [
    {
     "data": {
      "text/plain": [
       "0"
      ]
     },
     "execution_count": 64,
     "metadata": {},
     "output_type": "execute_result"
    }
   ],
   "source": [
    "# 월요일을 시작으로 0~6 숫자가 나온다.\n",
    "now.weekday()"
   ]
  },
  {
   "cell_type": "markdown",
   "metadata": {},
   "source": [
    "* 특정한 날짜 만들기\n",
    "\n",
    "`datetime.date(year, month, day, hour, minute, second, microsecond)`"
   ]
  },
  {
   "cell_type": "code",
   "execution_count": 65,
   "metadata": {},
   "outputs": [],
   "source": [
    "# 크리스마스를 만들어봅시다.\n",
    "christmas = datetime(2018, 12, 25)"
   ]
  },
  {
   "cell_type": "code",
   "execution_count": 69,
   "metadata": {},
   "outputs": [
    {
     "name": "stdout",
     "output_type": "stream",
     "text": [
      "2018-12-25 00:00:00\n"
     ]
    },
    {
     "data": {
      "text/plain": [
       "'2018 12 25'"
      ]
     },
     "execution_count": 69,
     "metadata": {},
     "output_type": "execute_result"
    }
   ],
   "source": [
    "# 예쁘게 출력해봅시다.\n",
    "print(christmas)\n",
    "christmas.strftime('%Y %m %d')\n",
    "\n",
    "#이런 건 존재의 유무만 알고 할 때마다 찾아서 쓰면 된다."
   ]
  },
  {
   "cell_type": "markdown",
   "metadata": {},
   "source": [
    "## timedelta\n",
    "\n",
    "```python\n",
    "from datetime import timedelta\n",
    "```"
   ]
  },
  {
   "cell_type": "code",
   "execution_count": 71,
   "metadata": {},
   "outputs": [],
   "source": [
    "from datetime import timedelta"
   ]
  },
  {
   "cell_type": "code",
   "execution_count": 73,
   "metadata": {},
   "outputs": [
    {
     "name": "stdout",
     "output_type": "stream",
     "text": [
      "3 days, 0:00:00\n"
     ]
    }
   ],
   "source": [
    "# 활용해봅시다.\n",
    "\n",
    "#3일에 대한 값을 넣어줄 수 있음\n",
    "ago = timedelta(days=3)\n",
    "print(ago)"
   ]
  },
  {
   "cell_type": "code",
   "execution_count": 76,
   "metadata": {},
   "outputs": [
    {
     "data": {
      "text/plain": [
       "datetime.datetime(2019, 7, 19, 16, 20, 27, 153868)"
      ]
     },
     "execution_count": 76,
     "metadata": {},
     "output_type": "execute_result"
    }
   ],
   "source": [
    "# 비교 및 연산이 가능합니다.\n",
    "now - ago\n",
    "# 지금으로부터 3일 전이 나옴 "
   ]
  },
  {
   "cell_type": "code",
   "execution_count": 79,
   "metadata": {},
   "outputs": [
    {
     "data": {
      "text/plain": [
       "datetime.datetime(2019, 10, 8, 0, 0)"
      ]
     },
     "execution_count": 79,
     "metadata": {},
     "output_type": "execute_result"
    }
   ],
   "source": [
    "# 오늘부터 1일일때, 100일 뒤는?\n",
    "# ssafy 시작일로부터 100일은?\n",
    "datetime(2019, 7, 1) + timedelta(days=99)"
   ]
  },
  {
   "cell_type": "code",
   "execution_count": 80,
   "metadata": {},
   "outputs": [],
   "source": [
    "# 크리스마스부터 지금까지 얼마나 지났을까?"
   ]
  },
  {
   "cell_type": "code",
   "execution_count": null,
   "metadata": {},
   "outputs": [],
   "source": [
    "# 초로 만들어봅시다."
   ]
  },
  {
   "cell_type": "code",
   "execution_count": null,
   "metadata": {},
   "outputs": [],
   "source": [
    "# 아래에 초를 예쁘게 출력하는 함수를 만들어봅시다.\n",
    "# '10일 1시간 18분 51초 전'\n",
    "def print_time_delta(seconds):\n",
    "    # 여기에 코드를 입력하세요. \n",
    "    \n",
    "    return None"
   ]
  },
  {
   "cell_type": "code",
   "execution_count": null,
   "metadata": {},
   "outputs": [],
   "source": [
    "print_time_delta(diff_seconds)"
   ]
  }
 ],
 "metadata": {
  "kernelspec": {
   "display_name": "Python 3",
   "language": "python",
   "name": "python3"
  },
  "language_info": {
   "codemirror_mode": {
    "name": "ipython",
    "version": 3
   },
   "file_extension": ".py",
   "mimetype": "text/x-python",
   "name": "python",
   "nbconvert_exporter": "python",
   "pygments_lexer": "ipython3",
   "version": "3.7.3"
  },
  "latex_envs": {
   "LaTeX_envs_menu_present": true,
   "autoclose": false,
   "autocomplete": true,
   "bibliofile": "biblio.bib",
   "cite_by": "apalike",
   "current_citInitial": 1,
   "eqLabelWithNumbers": true,
   "eqNumInitial": 1,
   "hotkeys": {
    "equation": "Ctrl-E",
    "itemize": "Ctrl-I"
   },
   "labels_anchors": false,
   "latex_user_defs": false,
   "report_style_numbering": false,
   "user_envs_cfg": false
  },
  "toc": {
   "base_numbering": 1,
   "nav_menu": {},
   "number_sections": true,
   "sideBar": true,
   "skip_h1_title": false,
   "title_cell": "Table of Contents",
   "title_sidebar": "Contents",
   "toc_cell": false,
   "toc_position": {},
   "toc_section_display": true,
   "toc_window_display": false
  }
 },
 "nbformat": 4,
 "nbformat_minor": 2
}
