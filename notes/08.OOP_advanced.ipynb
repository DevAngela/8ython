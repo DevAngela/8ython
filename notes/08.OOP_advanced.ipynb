{
 "cells": [
  {
   "cell_type": "markdown",
   "metadata": {},
   "source": [
    "# OOP advanced"
   ]
  },
  {
   "cell_type": "markdown",
   "metadata": {},
   "source": [
    "## 클래스 변수 / 인스턴스 변수\n",
    "\n",
    "### 클래스 변수\n",
    "* 클래스의 속성입니다. \n",
    "* 클래스 선언 블록 최상단에 위치합니다.\n",
    "* 인스턴스들이(객체, 붕어빵들) 클래스 변수 찾으러 갈 수 있다. (인스턴스변수 > 클래스변수 순서로 탐색하므로)\n",
    "* `Class.class_variable` 과 같이 접근/할당합니다. (클래스명으로 접근한다)\n",
    "    ```python\n",
    "    class TestClass:\n",
    "        class_variable = '클래스변수'\n",
    "        ...\n",
    "        \n",
    "    TestClass.class_variable  # '클래스변수'\n",
    "    TestClass.class_variable = 'class variable'\n",
    "    TestClass.class_variable  # 'class variable'\n",
    "    \n",
    "    tc = TestClass()\n",
    "    tc.class_variable  # 인스턴스 => 클래스 => 전역 순서로 네임스페이스를 탐색하기 때문에, 접근하게 됩니다.\n",
    "    ```\n",
    "    \n",
    "### 인스턴스 변수\n",
    "* 인스턴스의 속성입니다. (붕어빵만의 변수)\n",
    "* 메서드 정의에서 `self.instance_variable` 로 접근/할당합니다.\n",
    "* 인스턴스가 생성된 이후 `instance.instance_variable` 로 접근/할당합니다. (인스턴스명으로 접근한다)\n",
    "    ```python\n",
    "    class TestClass:\n",
    "        def __init__(self, arg1, arg2):\n",
    "            self.instance_var1 = arg1\n",
    "            self.instance_var2 = arg2\n",
    "        \n",
    "        def status(self):\n",
    "            return self.instance_var1, self.instance_var2   \n",
    "        \n",
    "    tc = TestClass(1, 2)\n",
    "    tc.instance_var1  # 1\n",
    "    tc.instance_var2  # 2\n",
    "    tc.status()  # (1, 2)\n",
    "    ```"
   ]
  },
  {
   "cell_type": "code",
   "execution_count": 2,
   "metadata": {},
   "outputs": [
    {
     "data": {
      "text/plain": [
       "'클래스변수'"
      ]
     },
     "execution_count": 2,
     "metadata": {},
     "output_type": "execute_result"
    }
   ],
   "source": [
    "# 확인해 봅시다.\n",
    "class TestClass:\n",
    "    class_variable = '클래스변수'\n",
    "\n",
    "# '클래스변수'는 인스턴스 만들지 않더라도 조회가 가능하다\n",
    "TestClass.class_variable\n"
   ]
  },
  {
   "cell_type": "code",
   "execution_count": null,
   "metadata": {},
   "outputs": [],
   "source": [
    "# 클래스 변수에 접근/재할당해 봅시다"
   ]
  },
  {
   "cell_type": "code",
   "execution_count": 3,
   "metadata": {},
   "outputs": [
    {
     "data": {
      "text/plain": [
       "'changed'"
      ]
     },
     "execution_count": 3,
     "metadata": {},
     "output_type": "execute_result"
    }
   ],
   "source": [
    "TestClass.class_variable = 'changed'   #이렇게 바로 클래스변수 변경도 가능함\n",
    "TestClass.class_variable"
   ]
  },
  {
   "cell_type": "code",
   "execution_count": null,
   "metadata": {},
   "outputs": [],
   "source": [
    "# 인스턴스를 생성하고 확인해 봅시다."
   ]
  },
  {
   "cell_type": "code",
   "execution_count": 4,
   "metadata": {},
   "outputs": [
    {
     "data": {
      "text/plain": [
       "'changed'"
      ]
     },
     "execution_count": 4,
     "metadata": {},
     "output_type": "execute_result"
    }
   ],
   "source": [
    "tc = TestClass()\n",
    "tc.class_variable"
   ]
  },
  {
   "cell_type": "code",
   "execution_count": null,
   "metadata": {},
   "outputs": [],
   "source": [
    "# 인스턴스 변수를 재할당해 봅시다."
   ]
  },
  {
   "cell_type": "code",
   "execution_count": 5,
   "metadata": {},
   "outputs": [
    {
     "data": {
      "text/plain": [
       "'이건 인스턴스변수가 클래스변수를 변경한 것'"
      ]
     },
     "execution_count": 5,
     "metadata": {},
     "output_type": "execute_result"
    }
   ],
   "source": [
    "tc.class_variable = '이건 인스턴스변수가 클래스변수를 변경한 것'\n",
    "tc.class_variable"
   ]
  },
  {
   "cell_type": "code",
   "execution_count": 6,
   "metadata": {},
   "outputs": [
    {
     "data": {
      "text/plain": [
       "'changed'"
      ]
     },
     "execution_count": 6,
     "metadata": {},
     "output_type": "execute_result"
    }
   ],
   "source": [
    "# 테스트클래스에서 다시 클래스변수를 접근해보면?\n",
    "# 클래스변수는 다시 호출되면서 (마치 초기화하듯이) 변경되어 버린다.\n",
    "TestClass.class_variable"
   ]
  },
  {
   "cell_type": "markdown",
   "metadata": {},
   "source": [
    "## 인스턴스 메서드 / 클래스 메서드 / 스태틱(정적) 메서드 \n",
    "\n",
    "### 인스턴스 메서드\n",
    "* 인스턴스가 사용할 메서드 입니다.\n",
    "* **정의 위에 어떠한 데코레이터도 없으면, 자동으로 인스턴스 메서드가 됩니다.**\n",
    "* **첫 번째 인자로 `self` 를 받도록 정의합니다. 이 때, 자동으로 인스턴스 객체가 `self` 가 됩니다.**\n",
    "    ```python\n",
    "    class MyClass:\n",
    "        def instance_method_name(self, arg1, arg2, ...):\n",
    "            ...\n",
    "    \n",
    "    my_instance = MyClass()\n",
    "    my_instance.instance_method_name(.., ..)  # 자동으로 첫 번째 인자로 인스턴스(my_instance)가 들어갑니다.\n",
    "    ```\n",
    "    \n",
    "### 클래스 메서드\n",
    "* 클래스가 사용할 메서드 입니다.\n",
    "* 클래스가 직접 사용하는 기능들을 넣는다.\n",
    "* **정의 위에 `@classmethod` 데코레이터를 사용합니다.** (몰라도 됨)\n",
    "* **첫 번째 인자로 `cls` 를 받도록 정의합니다. 이 때, 자동으로 클래스 객체가 `cls` 가 됩니다.**\n",
    "    ```python\n",
    "    class MyClass:\n",
    "        @classmethod\n",
    "        def class_method_name(cls, arg1, arg2, ...):\n",
    "            ...\n",
    "            \n",
    "    MyClass.class_method_name(.., ..)  # 자동으로 첫 번째 인자로 클래스(MyClass)가 들어갑니다.\n",
    "    ```\n",
    "* 붕어빵틀이 할 수 있는 메서드들도 정의할 수 있다.\n",
    "* 클래스 메서드가 호출됐을 당시에 첫 번째 인자로 클래스명을 받는다. 클래스 메서드가 불려올 때 클래스 자신을 핸들링해줄 필요가 있다. class는 예약어니까 쓸 수 없으니 cls로 보통 사용하고, 때로는 klass로 쓰기도 한다. \n",
    "\n",
    "\n",
    "### 스태틱(정적) 메서드\n",
    "* 클래스가 사용할 메서드 입니다.\n",
    "* 꼭 클래스가 쓰지 않더라도, 단순 연산 같은 거나 그냥 연관되어 사용하는 것들을 넣어둔다.\n",
    "* 다만 접근방식이 클래스를 통해서 접근할 수 있는 것\n",
    "* **정의 위에 `@staticmethod` 데코레이터를 사용합니다.**\n",
    "* **인자 정의는 자유롭게 합니다. 어떠한 인자도 자동으로 넘어가지 않습니다!!!**\n",
    "    ```python\n",
    "    class MyClass:\n",
    "        @staticmethod\n",
    "        def static_method_name(arg1, arg2, ...):\n",
    "            ...\n",
    "    \n",
    "    MyClass.static_method_name(.., ..)  # 아무일도 자동으로 일어나지 않습니다.\n",
    "    ```"
   ]
  },
  {
   "cell_type": "code",
   "execution_count": 15,
   "metadata": {},
   "outputs": [],
   "source": [
    "class MyClass:\n",
    "    \n",
    "    def instance_method(self):\n",
    "        return '저는 인스턴스 메서드입니다.'\n",
    "    \n",
    "    @classmethod\n",
    "    def class_method(cls):\n",
    "        #여기 cls를 안 적으면 () 0개의 인자를 정의해놨는데, 자동으로 자기 자신을 1인자로 넣으므로 에러난다.\n",
    "        #자동으로 들어가는 자기 자신을 인자로 인식할 수 있게끔 꼭 cls를 인자로 넣어준다.\n",
    "        return f'저는 클래스 메서드입니다. 저를 호출한 사람은 {cls}입니다.'\n",
    "    \n"
   ]
  },
  {
   "cell_type": "code",
   "execution_count": 16,
   "metadata": {},
   "outputs": [],
   "source": [
    "# 인스턴스 입장에서 확인해 봅시다.\n",
    "mc = MyClass()"
   ]
  },
  {
   "cell_type": "code",
   "execution_count": 17,
   "metadata": {},
   "outputs": [
    {
     "data": {
      "text/plain": [
       "\"저는 클래스 메서드입니다. 저를 호출한 사람은 <class '__main__.MyClass'>입니다.\""
      ]
     },
     "execution_count": 17,
     "metadata": {},
     "output_type": "execute_result"
    }
   ],
   "source": [
    "MyClass.class_method()"
   ]
  },
  {
   "cell_type": "code",
   "execution_count": 14,
   "metadata": {},
   "outputs": [
    {
     "data": {
      "text/plain": [
       "'저는 인스턴스 메서드입니다.'"
      ]
     },
     "execution_count": 14,
     "metadata": {},
     "output_type": "execute_result"
    }
   ],
   "source": [
    "# 인스턴스는 인스턴스 메서드에 접근 가능합니다.\n",
    "mc.instance_method()"
   ]
  },
  {
   "cell_type": "code",
   "execution_count": 18,
   "metadata": {},
   "outputs": [
    {
     "data": {
      "text/plain": [
       "\"저는 클래스 메서드입니다. 저를 호출한 사람은 <class '__main__.MyClass'>입니다.\""
      ]
     },
     "execution_count": 18,
     "metadata": {},
     "output_type": "execute_result"
    }
   ],
   "source": [
    "# 인스턴스는 클래스 메서드에 접근 가능합니다.\n",
    "mc.class_method()\n",
    "\n",
    "# 클래스 이름으로도 접근 가능하고, 인스턴스로부터도 접근 가능하다. \n",
    "# 다만 차이점은!\n",
    "# 인스턴스가 호출하더라도 첫번째 인자로는 class가 들어간다!!!!!!!! (쭝요)"
   ]
  },
  {
   "cell_type": "code",
   "execution_count": 19,
   "metadata": {},
   "outputs": [],
   "source": [
    "class MyClass:\n",
    "    \n",
    "    def instance_method(self):\n",
    "        return self\n",
    "    \n",
    "    @classmethod\n",
    "    def class_method(cls):\n",
    "        return cls\n"
   ]
  },
  {
   "cell_type": "code",
   "execution_count": 20,
   "metadata": {},
   "outputs": [],
   "source": [
    "mc = MyClass()"
   ]
  },
  {
   "cell_type": "code",
   "execution_count": 21,
   "metadata": {},
   "outputs": [
    {
     "data": {
      "text/plain": [
       "__main__.MyClass"
      ]
     },
     "execution_count": 21,
     "metadata": {},
     "output_type": "execute_result"
    }
   ],
   "source": [
    "mc.class_method()"
   ]
  },
  {
   "cell_type": "code",
   "execution_count": 22,
   "metadata": {},
   "outputs": [
    {
     "data": {
      "text/plain": [
       "101322008"
      ]
     },
     "execution_count": 22,
     "metadata": {},
     "output_type": "execute_result"
    }
   ],
   "source": [
    "id(mc.class_method())"
   ]
  },
  {
   "cell_type": "code",
   "execution_count": 23,
   "metadata": {},
   "outputs": [
    {
     "data": {
      "text/plain": [
       "101322008"
      ]
     },
     "execution_count": 23,
     "metadata": {},
     "output_type": "execute_result"
    }
   ],
   "source": [
    "id(MyClass)"
   ]
  },
  {
   "cell_type": "code",
   "execution_count": 24,
   "metadata": {},
   "outputs": [
    {
     "data": {
      "text/plain": [
       "True"
      ]
     },
     "execution_count": 24,
     "metadata": {},
     "output_type": "execute_result"
    }
   ],
   "source": [
    "id(mc.class_method()) == id(MyClass)"
   ]
  },
  {
   "cell_type": "code",
   "execution_count": 25,
   "metadata": {},
   "outputs": [],
   "source": [
    "class MyClass:\n",
    "    \n",
    "    def instance_method(self):\n",
    "        return self\n",
    "    \n",
    "    @classmethod\n",
    "    def class_method(cls):\n",
    "        return cls\n",
    "    \n",
    "    @staticmethod\n",
    "    def static_method():\n",
    "        return '저는 스태틱 메서드입니다.'\n",
    "\n",
    "mc = MyClass()"
   ]
  },
  {
   "cell_type": "code",
   "execution_count": null,
   "metadata": {},
   "outputs": [],
   "source": [
    "# 인스턴스는 스태틱 메서드에 접근 가능합니다."
   ]
  },
  {
   "cell_type": "code",
   "execution_count": 27,
   "metadata": {},
   "outputs": [
    {
     "data": {
      "text/plain": [
       "'저는 스태틱 메서드입니다.'"
      ]
     },
     "execution_count": 27,
     "metadata": {},
     "output_type": "execute_result"
    }
   ],
   "source": [
    "mc.static_method()  #인자 없어도 에러 안 난다! 자기 자신을 인자로 넣지 않기 때문이다!!"
   ]
  },
  {
   "cell_type": "markdown",
   "metadata": {},
   "source": [
    "#### 정리\n",
    "- 인스턴스는, 3가지 메서드 모두에 접근할 수 있습니다.\n",
    "- 하지만 인스턴스에서 클래스메서드와 스태틱메서드는 호출하지 않아야 합니다. (가능하다 != 사용한다) \n",
    "- (하지 마라)\n",
    "- 인스턴스가 할 행동은 모두 인스턴스 메서드로 한정 지어서 설계합니다."
   ]
  },
  {
   "cell_type": "code",
   "execution_count": 7,
   "metadata": {},
   "outputs": [],
   "source": [
    "class MyClass:\n",
    "    \n",
    "    def instance_method(self):\n",
    "        return f'저는 {self}입니다.'\n",
    "    \n",
    "    @classmethod\n",
    "    def class_method(cls):\n",
    "        return cls\n",
    "    \n",
    "    @staticmethod\n",
    "    def static_method():\n",
    "        return '저는 스태틱 메서드입니다.'\n",
    "\n",
    "mc = MyClass()"
   ]
  },
  {
   "cell_type": "code",
   "execution_count": null,
   "metadata": {},
   "outputs": [],
   "source": [
    "# 클래스 입장에서는"
   ]
  },
  {
   "cell_type": "code",
   "execution_count": 8,
   "metadata": {},
   "outputs": [
    {
     "data": {
      "text/plain": [
       "'저는 스태틱 메서드입니다.'"
      ]
     },
     "execution_count": 8,
     "metadata": {},
     "output_type": "execute_result"
    }
   ],
   "source": [
    "MyClass.static_method()"
   ]
  },
  {
   "cell_type": "code",
   "execution_count": 9,
   "metadata": {},
   "outputs": [
    {
     "data": {
      "text/plain": [
       "__main__.MyClass"
      ]
     },
     "execution_count": 9,
     "metadata": {},
     "output_type": "execute_result"
    }
   ],
   "source": [
    "MyClass.class_method()"
   ]
  },
  {
   "cell_type": "code",
   "execution_count": 10,
   "metadata": {},
   "outputs": [
    {
     "ename": "TypeError",
     "evalue": "instance_method() missing 1 required positional argument: 'self'",
     "output_type": "error",
     "traceback": [
      "\u001b[1;31m---------------------------------------------------------------------------\u001b[0m",
      "\u001b[1;31mTypeError\u001b[0m                                 Traceback (most recent call last)",
      "\u001b[1;32m<ipython-input-10-f85c69d0fccd>\u001b[0m in \u001b[0;36m<module>\u001b[1;34m\u001b[0m\n\u001b[1;32m----> 1\u001b[1;33m \u001b[0mMyClass\u001b[0m\u001b[1;33m.\u001b[0m\u001b[0minstance_method\u001b[0m\u001b[1;33m(\u001b[0m\u001b[1;33m)\u001b[0m\u001b[1;33m\u001b[0m\u001b[1;33m\u001b[0m\u001b[0m\n\u001b[0m\u001b[0;32m      2\u001b[0m \u001b[1;33m\u001b[0m\u001b[0m\n\u001b[0;32m      3\u001b[0m \u001b[1;31m# 지금은 에러가 나는 것 같다. self가 들어가야 하는데요?라고 한다.\u001b[0m\u001b[1;33m\u001b[0m\u001b[1;33m\u001b[0m\u001b[1;33m\u001b[0m\u001b[0m\n\u001b[0;32m      4\u001b[0m \u001b[1;31m# 클래스 입장에서 부르니까 self가 자동으로 들어가지 않는다. 그럼 어떻게 넣는가? = instance를 넣는다.\u001b[0m\u001b[1;33m\u001b[0m\u001b[1;33m\u001b[0m\u001b[1;33m\u001b[0m\u001b[0m\n",
      "\u001b[1;31mTypeError\u001b[0m: instance_method() missing 1 required positional argument: 'self'"
     ]
    }
   ],
   "source": [
    "MyClass.instance_method()\n",
    "\n",
    "# 지금은 에러가 나는 것 같다. self가 들어가야 하는데요?라고 한다.\n",
    "# 클래스 입장에서 부르니까 self가 자동으로 들어가지 않는다. 그럼 어떻게 넣는가? = instance를 넣는다."
   ]
  },
  {
   "cell_type": "code",
   "execution_count": 11,
   "metadata": {},
   "outputs": [
    {
     "data": {
      "text/plain": [
       "'저는 <__main__.MyClass object at 0x06BFB7F0>입니다.'"
      ]
     },
     "execution_count": 11,
     "metadata": {},
     "output_type": "execute_result"
    }
   ],
   "source": [
    "# 인자로 instance명을 넣으면 된다.\n",
    "MyClass.instance_method(mc)"
   ]
  },
  {
   "cell_type": "code",
   "execution_count": 12,
   "metadata": {},
   "outputs": [],
   "source": [
    "# 되긴 하지만 하지 마세요. 대장내시경하는데 입으로 넣는 것 같은 느낌..."
   ]
  },
  {
   "cell_type": "code",
   "execution_count": null,
   "metadata": {},
   "outputs": [],
   "source": []
  },
  {
   "cell_type": "markdown",
   "metadata": {},
   "source": [
    "---"
   ]
  },
  {
   "cell_type": "markdown",
   "metadata": {},
   "source": [
    "- 오픈소스, API가 생기게 된 이유도 OOP 덕분이다"
   ]
  },
  {
   "cell_type": "markdown",
   "metadata": {},
   "source": [
    "https://docs.python.org/3.3/library/turtle.html?highlight=turtle"
   ]
  },
  {
   "cell_type": "code",
   "execution_count": 1,
   "metadata": {},
   "outputs": [],
   "source": [
    "import turtle\n",
    "\n",
    "turtle.forward(100)\n",
    "turtle.right(90)\n",
    "turtle.forward(100)\n",
    "turtle.right(90)\n",
    "turtle.forward(100)\n",
    "turtle.right(90)\n",
    "turtle.forward(100)"
   ]
  },
  {
   "cell_type": "code",
   "execution_count": null,
   "metadata": {},
   "outputs": [],
   "source": []
  },
  {
   "cell_type": "code",
   "execution_count": null,
   "metadata": {},
   "outputs": [],
   "source": []
  },
  {
   "cell_type": "markdown",
   "metadata": {},
   "source": [
    "#### 정리\n",
    "- 클래스는, 3가지 메서드 모두에 접근할 수 있습니다.\n",
    "- 하지만 클래스에서 인스턴스메서드는 호출하지 않습니다. (가능하다 != 사용한다)\n",
    "- 클래스가 할 행동은 다음 원칙에 따라 설계합니다.\n",
    "    - 클래스 자체(`cls`)와 그 속성에 접근할 필요가 있다면 클래스메서드로 정의합니다.\n",
    "    - 클래스와 클래스 속성에 접근할 필요가 없다면 스태틱메서드로 정의합니다."
   ]
  },
  {
   "cell_type": "markdown",
   "metadata": {},
   "source": [
    "---"
   ]
  },
  {
   "cell_type": "code",
   "execution_count": 13,
   "metadata": {
    "scrolled": true
   },
   "outputs": [],
   "source": [
    "# Person 클래스가 인사할 수 있는지 확인해보겠습니다."
   ]
  },
  {
   "cell_type": "code",
   "execution_count": 17,
   "metadata": {
    "scrolled": true
   },
   "outputs": [
    {
     "name": "stdout",
     "output_type": "stream",
     "text": [
      "john이 타계하였습니다\n",
      "ash이 타계하였습니다\n",
      "Hello, I am john\n",
      "Hello, I am ash\n",
      "Hello, I am abe\n",
      "현재 인구는 1\n",
      "현재 인구는 1\n",
      "abe님이 타계하였습니다\n",
      "현재 인구는 0\n"
     ]
    }
   ],
   "source": [
    "class Person:\n",
    "    #클래스변수\n",
    "    population = 0\n",
    "    \n",
    "    def __init__(self, name):\n",
    "        self.name = name\n",
    "        # 생성될 때마다 인원수 클래스변수를 +1해준다.\n",
    "        Person.population += 1\n",
    "    \n",
    "    def __del__(self):\n",
    "        Person.population -= 1\n",
    "        print(f'{self.name}님이 타계하였습니다')\n",
    "        \n",
    "    def greeting(self):\n",
    "        print(f'Hello, I am {self.name}')\n",
    "        \n",
    "    #클래스메서드? 스태틱메서드? 크게 상관없지만, 클래스변수에 국한된 건 클래스메서드로 주로 사용함\n",
    "    @classmethod\n",
    "    def show_population(cls):\n",
    "        #클래스변수를 출력하게 하기\n",
    "        print(f'현재 인구는 {cls.population}')\n",
    "    \n",
    "    #스태틱으로는 아래와 같이 쓸 수 있음\n",
    "    @staticmethod\n",
    "    def show_population_static():\n",
    "        print(f'현재 인구는 {Person.population}')\n",
    "\n",
    "john = Person('john')\n",
    "ash = Person('ash')\n",
    "abe = Person('abe')\n",
    "\n",
    "john.greeting()\n",
    "ash.greeting()\n",
    "abe.greeting()\n",
    "\n",
    "Person.show_population()\n",
    "Person.show_population_static()\n",
    "\n",
    "del abe\n",
    "Person.show_population()\n"
   ]
  },
  {
   "cell_type": "markdown",
   "metadata": {},
   "source": [
    "### 실습 : Puppy class\n",
    "> 1. 클래스 변수 num_of_dogs 통해 개가 생성될 때마다 증가시키도록 하겠습니다. \n",
    "> 2. 개들은 각자의 이름과 나이를 가지고 있습니다. \n",
    "> 3. 그리고 bark() 메서드를 통해 짖을 수 있습니다. "
   ]
  },
  {
   "cell_type": "code",
   "execution_count": 26,
   "metadata": {},
   "outputs": [],
   "source": [
    "class Puppy:\n",
    "    num_of_dogs = 0\n",
    "    \n",
    "    def __init__(self, name, age):\n",
    "        self.name = name\n",
    "        self.age = age\n",
    "        # num_of_dogs += 1    #이렇게 그냥 쓰면 안 됨!\n",
    "        Puppy.num_of_dogs += 1\n",
    "        \n",
    "    def bark(self):\n",
    "        print(f'{self.name}견공 짖기 시작: 왕왕!')\n",
    "        \n",
    "    @classmethod\n",
    "    def show_dogs(cls):\n",
    "        print(f'현재 강아지의 수는 {cls.num_of_dogs}마리')"
   ]
  },
  {
   "cell_type": "code",
   "execution_count": 27,
   "metadata": {
    "scrolled": true
   },
   "outputs": [],
   "source": [
    "# 각각 이름과 나이가 다른 인스턴스를 3개 만들어봅시다.\n",
    "ggori = Puppy('ggori', 5)\n",
    "jumbak = Puppy('jumbak', 2)\n",
    "ssong = Puppy('ssong', 3)"
   ]
  },
  {
   "cell_type": "code",
   "execution_count": 28,
   "metadata": {
    "scrolled": true
   },
   "outputs": [
    {
     "name": "stdout",
     "output_type": "stream",
     "text": [
      "ggori견공 짖기 시작: 왕왕!\n",
      "jumbak견공 짖기 시작: 왕왕!\n",
      "ssong견공 짖기 시작: 왕왕!\n",
      "현재 강아지의 수는 3마리\n"
     ]
    }
   ],
   "source": [
    "ggori.bark()\n",
    "jumbak.bark()\n",
    "ssong.bark()\n",
    "Puppy.show_dogs()"
   ]
  },
  {
   "cell_type": "markdown",
   "metadata": {},
   "source": [
    "- classmethod를 떼보면??\n",
    "- 마치 인스터스 메서드인 것처럼 돌아간다. \n",
    "- 클래스변수처럼 쓰려면? 인자로 클래스명을 넣어주면 됨"
   ]
  },
  {
   "cell_type": "code",
   "execution_count": 29,
   "metadata": {},
   "outputs": [
    {
     "name": "stdout",
     "output_type": "stream",
     "text": [
      "ggori견공 짖기 시작: 왕왕!\n",
      "jumbak견공 짖기 시작: 왕왕!\n",
      "ssong견공 짖기 시작: 왕왕!\n"
     ]
    }
   ],
   "source": [
    "class Puppy:\n",
    "    num_of_dogs = 0\n",
    "    \n",
    "    def __init__(self, name, age):\n",
    "        self.name = name\n",
    "        self.age = age\n",
    "        # num_of_dogs += 1    #이렇게 그냥 쓰면 안 됨!\n",
    "        Puppy.num_of_dogs += 1\n",
    "        \n",
    "    def bark(self):\n",
    "        print(f'{self.name}견공 짖기 시작: 왕왕!')\n",
    "        \n",
    "    def show_dogs(cls):\n",
    "        print(f'현재 강아지의 수는 {cls.num_of_dogs}마리')\n",
    "        \n",
    "ggori = Puppy('ggori', 5)\n",
    "jumbak = Puppy('jumbak', 2)\n",
    "ssong = Puppy('ssong', 3)\n",
    "ggori.bark()\n",
    "jumbak.bark()\n",
    "ssong.bark()"
   ]
  },
  {
   "cell_type": "code",
   "execution_count": 32,
   "metadata": {
    "scrolled": true
   },
   "outputs": [
    {
     "name": "stdout",
     "output_type": "stream",
     "text": [
      "현재 강아지의 수는 3마리\n",
      "현재 강아지의 수는 3마리\n"
     ]
    }
   ],
   "source": [
    "ggori.show_dogs()\n",
    "jumbak.show_dogs()"
   ]
  },
  {
   "cell_type": "code",
   "execution_count": 33,
   "metadata": {},
   "outputs": [
    {
     "name": "stdout",
     "output_type": "stream",
     "text": [
      "현재 강아지의 수는 3마리\n"
     ]
    }
   ],
   "source": [
    "Puppy.show_dogs(Puppy)"
   ]
  },
  {
   "cell_type": "markdown",
   "metadata": {},
   "source": [
    "- 하지만 이렇게 위처럼 쓰지는 마세요"
   ]
  },
  {
   "cell_type": "markdown",
   "metadata": {},
   "source": [
    "* 클래스메서드는 다음과 같이 정의됩니다.\n",
    "\n",
    "```python\n",
    "\n",
    "@classmethod\n",
    "def methodname(cls):\n",
    "    codeblock\n",
    "```"
   ]
  },
  {
   "cell_type": "code",
   "execution_count": null,
   "metadata": {},
   "outputs": [],
   "source": [
    "# Doggy 클래스의 속성에 접근하는 클래스메서드를 생성해 보겠습니다."
   ]
  },
  {
   "cell_type": "code",
   "execution_count": null,
   "metadata": {},
   "outputs": [],
   "source": []
  },
  {
   "cell_type": "code",
   "execution_count": null,
   "metadata": {},
   "outputs": [],
   "source": [
    "# Dog 3 마리를 만들어보고,"
   ]
  },
  {
   "cell_type": "code",
   "execution_count": null,
   "metadata": {},
   "outputs": [],
   "source": []
  },
  {
   "cell_type": "code",
   "execution_count": null,
   "metadata": {},
   "outputs": [],
   "source": [
    "# 함수를 호출해봅시다."
   ]
  },
  {
   "cell_type": "code",
   "execution_count": null,
   "metadata": {},
   "outputs": [],
   "source": []
  },
  {
   "cell_type": "code",
   "execution_count": null,
   "metadata": {},
   "outputs": [],
   "source": []
  },
  {
   "cell_type": "markdown",
   "metadata": {},
   "source": [
    "* 스태틱메서드는 다음과 같이 정의됩니다.\n",
    "\n",
    "```python\n",
    "\n",
    "@staticmethod\n",
    "def methodname():\n",
    "    codeblock\n",
    "```"
   ]
  },
  {
   "cell_type": "code",
   "execution_count": 35,
   "metadata": {},
   "outputs": [
    {
     "name": "stdout",
     "output_type": "stream",
     "text": [
      "ggori견공 짖기 시작: 왕왕!\n",
      "jumbak견공 짖기 시작: 왕왕!\n",
      "ssong견공 짖기 시작: 왕왕!\n"
     ]
    }
   ],
   "source": [
    "# Dog 에 어떠한 속성에도 접근하지 않는 스태틱메서드를 만들어보겠습니다.\n",
    "\n",
    "class Puppy:\n",
    "    num_of_dogs = 0\n",
    "    \n",
    "    def __init__(self, name, age):\n",
    "        self.name = name\n",
    "        self.age = age\n",
    "        # num_of_dogs += 1    #이렇게 그냥 쓰면 안 됨!\n",
    "        Puppy.num_of_dogs += 1\n",
    "        \n",
    "    def bark(self):\n",
    "        print(f'{self.name}견공 짖기 시작: 왕왕!')\n",
    "        \n",
    "    @classmethod\n",
    "    def show_dogs(cls):\n",
    "        print(f'현재 강아지의 수는 {cls.num_of_dogs}마리')\n",
    "        \n",
    "    @staticmethod\n",
    "    def info():\n",
    "        #스태틱함수로는 일반연산함수를 쓰거나, 이렇게 클래스 정보를 보여주는 식으로 많이 사용한다.\n",
    "        print('Puppy클래스는 강아지를 만들어주는 클래스다.')\n",
    "        \n",
    "ggori = Puppy('ggori', 5)\n",
    "jumbak = Puppy('jumbak', 2)\n",
    "ssong = Puppy('ssong', 3)\n",
    "ggori.bark()\n",
    "jumbak.bark()\n",
    "ssong.bark()"
   ]
  },
  {
   "cell_type": "code",
   "execution_count": 37,
   "metadata": {
    "scrolled": true
   },
   "outputs": [
    {
     "name": "stdout",
     "output_type": "stream",
     "text": [
      "Puppy클래스는 강아지를 만들어주는 클래스다.\n",
      "Puppy클래스는 강아지를 만들어주는 클래스다.\n"
     ]
    }
   ],
   "source": [
    "#인스턴스, 클래스명 둘다로 접근 가능\n",
    "Puppy.info()\n",
    "ggori.info()"
   ]
  },
  {
   "cell_type": "code",
   "execution_count": 40,
   "metadata": {},
   "outputs": [
    {
     "data": {
      "text/plain": [
       "['__class__',\n",
       " '__delattr__',\n",
       " '__dict__',\n",
       " '__dir__',\n",
       " '__doc__',\n",
       " '__eq__',\n",
       " '__format__',\n",
       " '__ge__',\n",
       " '__getattribute__',\n",
       " '__gt__',\n",
       " '__hash__',\n",
       " '__init__',\n",
       " '__init_subclass__',\n",
       " '__le__',\n",
       " '__lt__',\n",
       " '__module__',\n",
       " '__ne__',\n",
       " '__new__',\n",
       " '__reduce__',\n",
       " '__reduce_ex__',\n",
       " '__repr__',\n",
       " '__setattr__',\n",
       " '__sizeof__',\n",
       " '__str__',\n",
       " '__subclasshook__',\n",
       " '__weakref__',\n",
       " 'bark',\n",
       " 'info',\n",
       " 'num_of_dogs',\n",
       " 'show_dogs']"
      ]
     },
     "execution_count": 40,
     "metadata": {},
     "output_type": "execute_result"
    }
   ],
   "source": [
    "dir(Puppy)\n",
    "# static메서드 뭐 있는지, class method 뭐 있는지 보여주는 것도 있음\n",
    "# 그러니 정확하게 어떤 역할을 하는지 명시해주는 것이 좋습니다."
   ]
  },
  {
   "cell_type": "code",
   "execution_count": null,
   "metadata": {},
   "outputs": [],
   "source": [
    "# Dog 3 마리를 만들어보고,"
   ]
  },
  {
   "cell_type": "code",
   "execution_count": null,
   "metadata": {},
   "outputs": [],
   "source": []
  },
  {
   "cell_type": "code",
   "execution_count": null,
   "metadata": {
    "scrolled": true
   },
   "outputs": [],
   "source": [
    "# 함수를 호출해봅시다."
   ]
  },
  {
   "cell_type": "code",
   "execution_count": null,
   "metadata": {
    "scrolled": true
   },
   "outputs": [],
   "source": []
  },
  {
   "cell_type": "markdown",
   "metadata": {},
   "source": [
    "## 실습문제 - 스태틱(정적) 메소드\n",
    "\n",
    "> 계산기 class인 `Calculator`를 만들어봅시다.\n",
    "\n",
    "* 다음과 같이 정적 메소드를 구성한다. \n",
    "* 모든 정적 메서드는, 두 수를 받아서 각각의 연산을 한 결과를 리턴한다.\n",
    "* `a` 연산자 `b` 의 순서로 연산한다. (`a - b`, `a / b`)\n",
    "    1. `add(a, b)` : 덧셈\n",
    "    2. `sub(a, b)` : 뺄셈 \n",
    "    3. `mul(a, b)` : 곱셈\n",
    "    4. `div(a, b)` : 나눗셈"
   ]
  },
  {
   "cell_type": "code",
   "execution_count": null,
   "metadata": {},
   "outputs": [],
   "source": [
    "# 아래에 코드를 작성해주세요."
   ]
  },
  {
   "cell_type": "code",
   "execution_count": 41,
   "metadata": {},
   "outputs": [],
   "source": [
    "class Calculator:\n",
    "    \n",
    "    @staticmethod\n",
    "    def add(a, b):\n",
    "        return a + b\n",
    "    \n",
    "    @staticmethod\n",
    "    def sub(a, b):\n",
    "        return a - b\n",
    "    \n",
    "    @staticmethod\n",
    "    def mul(a, b):\n",
    "        return a * b\n",
    "    \n",
    "    @staticmethod\n",
    "    def div(a, b):\n",
    "        return a / b\n",
    "    \n",
    "    "
   ]
  },
  {
   "cell_type": "code",
   "execution_count": null,
   "metadata": {},
   "outputs": [],
   "source": [
    "# 정적메소드를 호출해보세요."
   ]
  },
  {
   "cell_type": "code",
   "execution_count": 42,
   "metadata": {},
   "outputs": [
    {
     "data": {
      "text/plain": [
       "3"
      ]
     },
     "execution_count": 42,
     "metadata": {},
     "output_type": "execute_result"
    }
   ],
   "source": [
    "Calculator.add(1, 2)"
   ]
  },
  {
   "cell_type": "code",
   "execution_count": 45,
   "metadata": {},
   "outputs": [
    {
     "data": {
      "text/plain": [
       "3"
      ]
     },
     "execution_count": 45,
     "metadata": {},
     "output_type": "execute_result"
    }
   ],
   "source": [
    "Calculator.mul(1, 3)"
   ]
  },
  {
   "cell_type": "markdown",
   "metadata": {},
   "source": [
    "- 이런 식으로 데이터에 접근하지 않고 사용하는 메서드인 경우에 스태틱으로 쓴다."
   ]
  },
  {
   "cell_type": "markdown",
   "metadata": {},
   "source": [
    "## 연산자 오버로딩(중복 정의, 덮어 쓰기)\n",
    "\n",
    "* 파이썬에 기본적으로 정의된 연산자를 직접적으로 정의하여 활용할 수 있습니다. \n",
    "\n",
    "* 몇가지만 소개하고 활용해봅시다.\n",
    "\n",
    "```\n",
    "+  __add__   \n",
    "-  __sub__\n",
    "*  __mul__\n",
    "<  __lt__\n",
    "<= __le__\n",
    "== __eq__  equality\n",
    "!= __ne__\n",
    ">= __ge__  greater than or equal to\n",
    ">  __gt__  greater than\n",
    "```"
   ]
  },
  {
   "cell_type": "markdown",
   "metadata": {},
   "source": [
    "- 우리가 생성한 객체도 계층화, 조직적으로 수학적으로든 비교 가능한지를 보고 싶은 경우가 있을 것"
   ]
  },
  {
   "cell_type": "code",
   "execution_count": null,
   "metadata": {},
   "outputs": [],
   "source": [
    "# 사람과 사람을 같은지 비교하면, 이는 나이가 같은지 비교한 결과를 반환하도록 만들어봅시다."
   ]
  },
  {
   "cell_type": "code",
   "execution_count": 61,
   "metadata": {},
   "outputs": [
    {
     "name": "stdout",
     "output_type": "stream",
     "text": [
      "john입니다. 반갑습니다!\n",
      "ash입니다. 반갑습니다!\n"
     ]
    }
   ],
   "source": [
    "class Person:\n",
    "    population = 0\n",
    "    \n",
    "    def __init__(self, name, age):\n",
    "        self.name = name\n",
    "        self.age = age\n",
    "        Person.population += 1\n",
    "        \n",
    "    def greeting(self):\n",
    "        print(f'{self.name}입니다. 반갑습니다!')\n",
    "        \n",
    "    def __repr__(self):\n",
    "        return f'< \"name:\" {self.name}, \"age\": {self.age} >'\n",
    "    \n",
    "    def __gt__(self, other):\n",
    "#         if self.age > other.age:\n",
    "#             return True\n",
    "        return self.age > other.age\n",
    "\n",
    "    def __eq__(self, other):\n",
    "        return self.age == other.age\n",
    "    \n",
    "    def __ge__(self, other):\n",
    "        return self.age >= other.age\n",
    "\n",
    "john = Person('john', 34)\n",
    "ash = Person('ash', 32)\n",
    "eric = Person('eric', 32)\n",
    "john.greeting()\n",
    "ash.greeting()"
   ]
  },
  {
   "cell_type": "code",
   "execution_count": null,
   "metadata": {},
   "outputs": [],
   "source": [
    "# 연산자를 호출해 봅시다."
   ]
  },
  {
   "cell_type": "code",
   "execution_count": 52,
   "metadata": {
    "collapsed": true
   },
   "outputs": [
    {
     "ename": "SyntaxError",
     "evalue": "invalid syntax (<ipython-input-52-21b10f2031e0>, line 2)",
     "output_type": "error",
     "traceback": [
      "\u001b[1;36m  File \u001b[1;32m\"<ipython-input-52-21b10f2031e0>\"\u001b[1;36m, line \u001b[1;32m2\u001b[0m\n\u001b[1;33m    1.__gt__(2)\u001b[0m\n\u001b[1;37m           ^\u001b[0m\n\u001b[1;31mSyntaxError\u001b[0m\u001b[1;31m:\u001b[0m invalid syntax\n"
     ]
    }
   ],
   "source": [
    "# 여태까지 썼던 연산자는 이런 것\n",
    "1 > 2\n",
    "1.__gt__(2)"
   ]
  },
  {
   "cell_type": "code",
   "execution_count": 58,
   "metadata": {
    "scrolled": true
   },
   "outputs": [
    {
     "data": {
      "text/plain": [
       "False"
      ]
     },
     "execution_count": 58,
     "metadata": {},
     "output_type": "execute_result"
    }
   ],
   "source": [
    "ash.__gt__(john)"
   ]
  },
  {
   "cell_type": "code",
   "execution_count": 59,
   "metadata": {},
   "outputs": [
    {
     "data": {
      "text/plain": [
       "True"
      ]
     },
     "execution_count": 59,
     "metadata": {},
     "output_type": "execute_result"
    }
   ],
   "source": [
    "ash.__eq__(eric)"
   ]
  },
  {
   "cell_type": "code",
   "execution_count": 60,
   "metadata": {},
   "outputs": [
    {
     "ename": "TypeError",
     "evalue": "'>=' not supported between instances of 'Person' and 'Person'",
     "output_type": "error",
     "traceback": [
      "\u001b[1;31m---------------------------------------------------------------------------\u001b[0m",
      "\u001b[1;31mTypeError\u001b[0m                                 Traceback (most recent call last)",
      "\u001b[1;32m<ipython-input-60-226f1fffdf77>\u001b[0m in \u001b[0;36m<module>\u001b[1;34m\u001b[0m\n\u001b[1;32m----> 1\u001b[1;33m \u001b[0meric\u001b[0m \u001b[1;33m>=\u001b[0m \u001b[0mash\u001b[0m\u001b[1;33m\u001b[0m\u001b[1;33m\u001b[0m\u001b[0m\n\u001b[0m",
      "\u001b[1;31mTypeError\u001b[0m: '>=' not supported between instances of 'Person' and 'Person'"
     ]
    }
   ],
   "source": [
    "# ge를 정의해야 이것도 사용 가능\n",
    "eric >= ash"
   ]
  },
  {
   "cell_type": "code",
   "execution_count": 62,
   "metadata": {},
   "outputs": [
    {
     "data": {
      "text/plain": [
       "True"
      ]
     },
     "execution_count": 62,
     "metadata": {},
     "output_type": "execute_result"
    }
   ],
   "source": [
    "eric >= ash"
   ]
  },
  {
   "cell_type": "code",
   "execution_count": 64,
   "metadata": {},
   "outputs": [
    {
     "data": {
      "text/plain": [
       "False"
      ]
     },
     "execution_count": 64,
     "metadata": {},
     "output_type": "execute_result"
    }
   ],
   "source": [
    "# 반대쪽 연산은 알아서 인식하고 해준다!!!\n",
    "eric < ash"
   ]
  },
  {
   "cell_type": "code",
   "execution_count": 65,
   "metadata": {
    "scrolled": true
   },
   "outputs": [
    {
     "data": {
      "text/plain": [
       "False"
      ]
     },
     "execution_count": 65,
     "metadata": {},
     "output_type": "execute_result"
    }
   ],
   "source": [
    "# ! not 연산도 알아서 해준다!!\n",
    "eric != ash"
   ]
  },
  {
   "cell_type": "code",
   "execution_count": 66,
   "metadata": {},
   "outputs": [
    {
     "data": {
      "text/plain": [
       "False"
      ]
     },
     "execution_count": 66,
     "metadata": {},
     "output_type": "execute_result"
    }
   ],
   "source": [
    "eric.__ne__(ash)"
   ]
  },
  {
   "cell_type": "code",
   "execution_count": 68,
   "metadata": {},
   "outputs": [
    {
     "data": {
      "text/plain": [
       "[< \"name:\" ash, \"age\": 32 >,\n",
       " < \"name:\" eric, \"age\": 32 >,\n",
       " < \"name:\" john, \"age\": 34 >]"
      ]
     },
     "execution_count": 68,
     "metadata": {},
     "output_type": "execute_result"
    }
   ],
   "source": [
    "people = [john, ash, eric]\n",
    "sorted(people)\n",
    "# 나이순으로 소트해준다!!!\n",
    "# 파이썬 똑똑쓰: sort도 gt, eq 했던 기준으로 소트해준다."
   ]
  },
  {
   "cell_type": "markdown",
   "metadata": {},
   "source": [
    "equal이 오버로드 되는 순간,  \n",
    "더 이상 변수명으로 비교하는 equal, not equal 연산을 못 쓰게 되니까 동일한 것으로 바꿔주는 것임"
   ]
  },
  {
   "cell_type": "markdown",
   "metadata": {},
   "source": [
    "# 상속 \n",
    "\n",
    "## 기초\n",
    "\n",
    "* 클래스에서 가장 큰 특징은 '상속' 기능을 가지고 있다는 것이다. \n",
    "\n",
    "* 부모 클래스의 모든 속성이 자식 클래스에게 상속 되므로 코드재사용성이 높아집니다.\n",
    "* 하위 클래스는 Super-Sub, Parent-Child 관계로 이름을 붙이곤 합니다.\n",
    "\n",
    "```python\n",
    "class DerivedClassName(BaseClassName):\n",
    "    code block\n",
    "    \n",
    "class SubClass(SuperClass):\n",
    "    code block\n",
    "\n",
    "class ChildClass(ParentClass):\n",
    "    code block\n",
    "```\n",
    "- 1) 상위 클래스의 함수를 하위 클래스가 들고 와서 쓸 수 있음 = 코드 재사용성!\n",
    "- 2) 계층 구조를 보일 수 있어서 직관적임 !"
   ]
  },
  {
   "cell_type": "code",
   "execution_count": null,
   "metadata": {},
   "outputs": [],
   "source": [
    "# 인사만 할 수 있는 간단한 사람 클래스를 만들어봅시다."
   ]
  },
  {
   "cell_type": "code",
   "execution_count": 70,
   "metadata": {},
   "outputs": [
    {
     "name": "stdout",
     "output_type": "stream",
     "text": [
      "john입니다. 반갑습니다!\n",
      "ash입니다. 반갑습니다!\n"
     ]
    }
   ],
   "source": [
    "class Person:\n",
    "    population = 0\n",
    "    \n",
    "    def __init__(self, name, age):\n",
    "        self.name = name\n",
    "        self.age = age\n",
    "        Person.population += 1\n",
    "        \n",
    "    def greeting(self):\n",
    "        print(f'{self.name}입니다. 반갑습니다!')\n",
    "        \n",
    "    def __repr__(self):\n",
    "        return f'< \"name:\" {self.name}, \"age\": {self.age} >'\n",
    "    \n",
    "    def __gt__(self, other):\n",
    "        return self.age > other.age\n",
    "\n",
    "    def __eq__(self, other):\n",
    "        return self.age == other.age\n",
    "    \n",
    "    def __ge__(self, other):\n",
    "        return self.age >= other.age\n",
    "\n",
    "john = Person('john', 34)\n",
    "ash = Person('ash', 32)\n",
    "eric = Person('eric', 32)\n",
    "john.greeting()\n",
    "ash.greeting()"
   ]
  },
  {
   "cell_type": "code",
   "execution_count": null,
   "metadata": {},
   "outputs": [],
   "source": [
    "# 사람 클래스를 상속받아 학생 클래스를 만들어봅시다."
   ]
  },
  {
   "cell_type": "code",
   "execution_count": 74,
   "metadata": {},
   "outputs": [],
   "source": [
    "# 상속받을 상위 클래스명을 적어주면 됩니다.\n",
    "class Student(Person):\n",
    "    \n",
    "    # 이것도 똑같이 instance method라서 self를 붙여줘야\n",
    "    def study(self):\n",
    "        print(f'{self.name} 공부 중...')"
   ]
  },
  {
   "cell_type": "code",
   "execution_count": null,
   "metadata": {},
   "outputs": [],
   "source": [
    "# 학생을 만들어봅시다."
   ]
  },
  {
   "cell_type": "code",
   "execution_count": 75,
   "metadata": {},
   "outputs": [],
   "source": [
    "# 하위클래스에서 객체 생성하는 건 상위클래스의 객체 생성과 동일하다!\n",
    "student1 = Student('yojin', 20)"
   ]
  },
  {
   "cell_type": "code",
   "execution_count": null,
   "metadata": {},
   "outputs": [],
   "source": [
    "# 부모 클래스에 정의를 했음에도 메소드를 호출 할 수 있습니다."
   ]
  },
  {
   "cell_type": "code",
   "execution_count": 73,
   "metadata": {},
   "outputs": [
    {
     "name": "stdout",
     "output_type": "stream",
     "text": [
      "yojin입니다. 반갑습니다!\n"
     ]
    }
   ],
   "source": [
    "student1.greeting()"
   ]
  },
  {
   "cell_type": "code",
   "execution_count": 77,
   "metadata": {},
   "outputs": [],
   "source": [
    "# 자식 클래스의 메소드를 사용할 수 있습니다.\n",
    "# 자식만 할 수 있는 걸 부모는 못 한다. (like. 사람이 할 수 있는 것 동물은 못 하는 것처럼)"
   ]
  },
  {
   "cell_type": "code",
   "execution_count": 76,
   "metadata": {},
   "outputs": [
    {
     "name": "stdout",
     "output_type": "stream",
     "text": [
      "yojin 공부 중...\n"
     ]
    }
   ],
   "source": [
    "student1.study()"
   ]
  },
  {
   "cell_type": "code",
   "execution_count": 78,
   "metadata": {},
   "outputs": [
    {
     "ename": "AttributeError",
     "evalue": "'Person' object has no attribute 'study'",
     "output_type": "error",
     "traceback": [
      "\u001b[1;31m---------------------------------------------------------------------------\u001b[0m",
      "\u001b[1;31mAttributeError\u001b[0m                            Traceback (most recent call last)",
      "\u001b[1;32m<ipython-input-78-2a96a916fbd8>\u001b[0m in \u001b[0;36m<module>\u001b[1;34m\u001b[0m\n\u001b[1;32m----> 1\u001b[1;33m \u001b[0mjohn\u001b[0m\u001b[1;33m.\u001b[0m\u001b[0mstudy\u001b[0m\u001b[1;33m(\u001b[0m\u001b[1;33m)\u001b[0m\u001b[1;33m\u001b[0m\u001b[1;33m\u001b[0m\u001b[0m\n\u001b[0m",
      "\u001b[1;31mAttributeError\u001b[0m: 'Person' object has no attribute 'study'"
     ]
    }
   ],
   "source": [
    "# 자식만 할 수 있는 걸 부모는 못 한다. (like. 사람이 할 수 있는 것 동물은 못 하는 것처럼)\n",
    "john.study()"
   ]
  },
  {
   "cell_type": "markdown",
   "metadata": {},
   "source": [
    "* 이처럼 상속은 공통된 속성이나 메소드를 부모 클래스에 정의하고, 이를 상속받아 다양한 형태의 사람들을 만들 수 있습니다."
   ]
  },
  {
   "cell_type": "code",
   "execution_count": 79,
   "metadata": {},
   "outputs": [],
   "source": [
    "# 상속받을 상위 클래스명을 적어주면 됩니다.\n",
    "class Student(Person):\n",
    "    # 아예 Student 객체가 다르게 생성되게 만드는 방법\n",
    "    def __init__(self, name, age, student_id):\n",
    "        self.name = name\n",
    "        self.age = age\n",
    "        self.student_id = student_id\n",
    "\n",
    "    def study(self):\n",
    "        print(f'{self.name} 공부 중...')"
   ]
  },
  {
   "cell_type": "code",
   "execution_count": 80,
   "metadata": {},
   "outputs": [],
   "source": [
    "student1 = Student('yojin', 20, 20151234)"
   ]
  },
  {
   "cell_type": "code",
   "execution_count": 82,
   "metadata": {
    "scrolled": true
   },
   "outputs": [
    {
     "data": {
      "text/plain": [
       "20151234"
      ]
     },
     "execution_count": 82,
     "metadata": {},
     "output_type": "execute_result"
    }
   ],
   "source": [
    "student1.student_id"
   ]
  },
  {
   "cell_type": "code",
   "execution_count": 83,
   "metadata": {},
   "outputs": [],
   "source": [
    "# 상위 클래스의 코드 재사용해서 __init__ 가져오기 : super 라는 키워드 사용!"
   ]
  },
  {
   "cell_type": "code",
   "execution_count": 84,
   "metadata": {},
   "outputs": [],
   "source": [
    "class Student(Person):\n",
    "    # 아예 Student 객체가 다르게 생성되게 만드는 방법\n",
    "    def __init__(self, name, age, student_id):\n",
    "        super().__init__(name, age)       #Person.__init__과 같다고 생각하면 된다\n",
    "        self.student_id = student_id\n",
    "\n",
    "    def study(self):\n",
    "        print(f'{self.name} 공부 중...')"
   ]
  },
  {
   "cell_type": "code",
   "execution_count": 85,
   "metadata": {},
   "outputs": [],
   "source": [
    "student1 = Student('yojin', 20, 20151234)"
   ]
  },
  {
   "cell_type": "code",
   "execution_count": 86,
   "metadata": {
    "scrolled": true
   },
   "outputs": [
    {
     "name": "stdout",
     "output_type": "stream",
     "text": [
      "yojin입니다. 반갑습니다!\n"
     ]
    }
   ],
   "source": [
    "# 부모 메서드를 그대로 사용 가능한데.. 좀 더 공손하게 만들어보자\n",
    "student1.greeting()"
   ]
  },
  {
   "cell_type": "code",
   "execution_count": 87,
   "metadata": {},
   "outputs": [],
   "source": [
    "class Student(Person):\n",
    "    # 아예 Student 객체가 다르게 생성되게 만드는 방법\n",
    "    def __init__(self, name, age, student_id):\n",
    "        super().__init__(name, age)       #Person.__init__과 같다고 생각하면 된다\n",
    "        self.student_id = student_id\n",
    "\n",
    "    def study(self):\n",
    "        print(f'{self.name} 공부 중...')\n",
    "    \n",
    "    #원래 있던 부모메서드의 greeting을 덮어쓴다.\n",
    "    def greeting(self):\n",
    "        print(f'안녕하세요. {self.student_id}학번 {self.name}입니다.')\n",
    "    \n",
    "student1 = Student('yojin', 20, 2015)"
   ]
  },
  {
   "cell_type": "code",
   "execution_count": 88,
   "metadata": {},
   "outputs": [
    {
     "name": "stdout",
     "output_type": "stream",
     "text": [
      "안녕하세요. 2015학번 yojin입니다.\n"
     ]
    }
   ],
   "source": [
    "student1.greeting()"
   ]
  },
  {
   "cell_type": "code",
   "execution_count": 90,
   "metadata": {},
   "outputs": [
    {
     "name": "stdout",
     "output_type": "stream",
     "text": [
      "john입니다. 반갑습니다!\n"
     ]
    }
   ],
   "source": [
    "# 부모 메서드는 그대로다.\n",
    "john.greeting()"
   ]
  },
  {
   "cell_type": "code",
   "execution_count": 92,
   "metadata": {},
   "outputs": [
    {
     "data": {
      "text/plain": [
       "< \"name:\" yojin, \"age\": 20 >"
      ]
     },
     "execution_count": 92,
     "metadata": {},
     "output_type": "execute_result"
    }
   ],
   "source": [
    "# repr도 그대로 쓰인다.\n",
    "student1"
   ]
  },
  {
   "cell_type": "code",
   "execution_count": 93,
   "metadata": {},
   "outputs": [],
   "source": [
    "# 그냥 사람은 나이 기준이지만, 학생은 학번을 기준으로 우열관계를 나누고 싶다면?? "
   ]
  },
  {
   "cell_type": "code",
   "execution_count": 98,
   "metadata": {},
   "outputs": [],
   "source": [
    "class Student(Person):\n",
    "\n",
    "    def __init__(self, name, age, student_id):\n",
    "        super().__init__(name, age)       \n",
    "        self.student_id = student_id\n",
    "\n",
    "    def study(self):\n",
    "        print(f'{self.name} 공부 중...')\n",
    "    \n",
    "    def greeting(self):\n",
    "        print(f'안녕하세요. {self.student_id}학번 {self.name}입니다.')\n",
    "    \n",
    "    # 여기는 학번 숫자가 낮을 수록 갑인 것\n",
    "    def __gt__(self, other):\n",
    "        return self.student_id < other.student_id\n",
    "\n",
    "    def __eq__(self, other):\n",
    "        return self.student_id == other.student_id\n",
    "    \n",
    "    def __ge__(self, other):\n",
    "        return self.student_id <= other.student_id\n",
    "\n",
    "        \n",
    "student1 = Student('yojin', 20, 2015)\n",
    "student2 = Student('kevin', 20, 2016)"
   ]
  },
  {
   "cell_type": "code",
   "execution_count": 99,
   "metadata": {},
   "outputs": [
    {
     "data": {
      "text/plain": [
       "True"
      ]
     },
     "execution_count": 99,
     "metadata": {},
     "output_type": "execute_result"
    }
   ],
   "source": [
    "student1 > student2"
   ]
  },
  {
   "cell_type": "code",
   "execution_count": null,
   "metadata": {},
   "outputs": [],
   "source": [
    "# 진짜 상속관계인지 확인해봅시다."
   ]
  },
  {
   "cell_type": "code",
   "execution_count": null,
   "metadata": {},
   "outputs": [],
   "source": []
  },
  {
   "cell_type": "code",
   "execution_count": null,
   "metadata": {},
   "outputs": [],
   "source": []
  },
  {
   "cell_type": "markdown",
   "metadata": {},
   "source": [
    "## super()\n",
    "\n",
    "* 자식 클래스에 메서드를 추가 구현할 수 있습니다.\n",
    "\n",
    "* 부모 클래스의 내용을 사용하고자 할 때, `super()`를 사용할 수 있습니다."
   ]
  },
  {
   "cell_type": "code",
   "execution_count": null,
   "metadata": {},
   "outputs": [],
   "source": []
  },
  {
   "cell_type": "markdown",
   "metadata": {},
   "source": [
    "* 위의 코드를 보면, 상속을 했음에도 불구하고 동일한 코드가 반복됩니다. "
   ]
  },
  {
   "cell_type": "code",
   "execution_count": null,
   "metadata": {},
   "outputs": [],
   "source": [
    "# 이를 수정해봅시다."
   ]
  },
  {
   "cell_type": "code",
   "execution_count": null,
   "metadata": {},
   "outputs": [],
   "source": []
  },
  {
   "cell_type": "markdown",
   "metadata": {},
   "source": [
    "## 메서드 오버라이딩\n",
    "\n",
    "* 메서드를 재정의할 수도 있습니다."
   ]
  },
  {
   "cell_type": "code",
   "execution_count": null,
   "metadata": {},
   "outputs": [],
   "source": [
    "# 군인은 다른 인사를 합니다."
   ]
  },
  {
   "cell_type": "code",
   "execution_count": null,
   "metadata": {},
   "outputs": [],
   "source": [
    "# 군인은 다른 인사를 합니다."
   ]
  },
  {
   "cell_type": "markdown",
   "metadata": {},
   "source": [
    "## 상속관계에서의 이름공간\n",
    "\n",
    "* 기존에 인스턴스 -> 클래스순으로 이름 공간을 탐색해나가는 과정에서 상속관계에 있으면 아래와 같이 확장됩니다.\n",
    "\n",
    "* instance => class => global\n",
    "* 인스턴스 -> 자식 클래스 -> 부모 클래스 -> 전역"
   ]
  },
  {
   "cell_type": "markdown",
   "metadata": {},
   "source": [
    "- 클래스: 마치 함수를 만들 듯이 하나의 Local Scope를 만드는데\n",
    "- 변수를 찾을 때: 인스턴스 > 클래스 > 전역 변수 순으로 찾는다.\n",
    "- 다만, 상속 관계가 있을 때는\n",
    "- 상속받고 있는 클래스 전체를 찾아보고 그 안에서 못 찾으면 그 때 에러를 내게 된다. (장고를 보면 class가 다단으로 이루어지는데, 그 공간을 다 탐색하게 될 것)\n",
    "- 인스턴스 > 자식클래스 > 부모클래스 > 전역"
   ]
  },
  {
   "cell_type": "markdown",
   "metadata": {},
   "source": [
    "## 실습1 \n",
    "\n",
    "> Teacher 클래스를 만들어보고 Student와 Teacher 클래스에 각각 다른 행동의 메소드들을 하나씩 추가해봅시다."
   ]
  },
  {
   "cell_type": "code",
   "execution_count": 103,
   "metadata": {},
   "outputs": [
    {
     "name": "stdout",
     "output_type": "stream",
     "text": [
      "john입니다. 반갑습니다!\n",
      "ash입니다. 반갑습니다!\n",
      "안녕하세요. 2015학번 yojin입니다.\n",
      "john입니다. 여러분 coding 공부합시다~!\n"
     ]
    }
   ],
   "source": [
    "# 아래에 코드를 작성해주세요.\n",
    "\n",
    "class Person:\n",
    "    population = 0\n",
    "    \n",
    "    def __init__(self, name, age):\n",
    "        self.name = name\n",
    "        self.age = age\n",
    "        Person.population += 1\n",
    "        \n",
    "    def greeting(self):\n",
    "        print(f'{self.name}입니다. 반갑습니다!')\n",
    "    \n",
    "    def eating(self):\n",
    "        print(f'점심먹자 냠냠쓰')\n",
    "    \n",
    "    def __repr__(self):\n",
    "        return f'< \"name:\" {self.name}, \"age\": {self.age} >'\n",
    "    \n",
    "    def __gt__(self, other):\n",
    "        return self.age > other.age\n",
    "\n",
    "    def __eq__(self, other):\n",
    "        return self.age == other.age\n",
    "    \n",
    "    def __ge__(self, other):\n",
    "        return self.age >= other.age\n",
    "\n",
    "class Student(Person):\n",
    "\n",
    "    def __init__(self, name, age, student_id):\n",
    "        super().__init__(name, age)       \n",
    "        self.student_id = student_id\n",
    "\n",
    "    def study(self):\n",
    "        print(f'{self.name} 공부 중...')\n",
    "    \n",
    "    def greeting(self):\n",
    "        print(f'안녕하세요. {self.student_id}학번 {self.name}입니다.')\n",
    "    \n",
    "    # 여기는 학번 숫자가 낮을 수록 갑인 것\n",
    "    def __gt__(self, other):\n",
    "        return self.student_id < other.student_id\n",
    "\n",
    "    def __eq__(self, other):\n",
    "        return self.student_id == other.student_id\n",
    "    \n",
    "    def __ge__(self, other):\n",
    "        return self.student_id <= other.student_id\n",
    "\n",
    "class Teacher(Person):\n",
    "    def __init__(self, name, age, subject):\n",
    "        super().__init__(name, age)\n",
    "        self.subject = subject\n",
    "        \n",
    "    def greeting(self):\n",
    "        print(f'{self.name}입니다. 여러분 {self.subject} 공부합시다~!')\n",
    "\n",
    "john = Person('john', 34)\n",
    "ash = Person('ash', 32)\n",
    "john.greeting()\n",
    "ash.greeting()\n",
    "\n",
    "student1 = Student('yojin', 20, 2015)\n",
    "student2 = Student('kevin', 20, 2016)    \n",
    "student1.greeting()\n",
    "\n",
    "john = Teacher('john', 34, 'coding')\n",
    "john.greeting()"
   ]
  },
  {
   "cell_type": "code",
   "execution_count": 104,
   "metadata": {},
   "outputs": [
    {
     "name": "stdout",
     "output_type": "stream",
     "text": [
      "점심먹자 냠냠쓰\n"
     ]
    }
   ],
   "source": [
    "john.eating()"
   ]
  },
  {
   "cell_type": "markdown",
   "metadata": {},
   "source": [
    "## 실습2\n",
    "\n",
    "> 사실 사람은 포유류입니다. \n",
    ">\n",
    "> Animal Class를 만들고, Person클래스가 상속받도록 구성해봅시다.\n",
    ">\n",
    "> 변수나, 메소드는 자유롭게 만들어봅시다."
   ]
  },
  {
   "cell_type": "code",
   "execution_count": 105,
   "metadata": {},
   "outputs": [],
   "source": [
    "# 아래에 코드를 작성해주세요.\n",
    "class Animal:\n",
    "    animal_popul = 0\n",
    "    \n",
    "    def __init__(self, age):\n",
    "        self.age = age\n",
    "        Animal.animal_popul += 1\n",
    "    \n",
    "    def pooping(self):\n",
    "        print('뿡~!')\n",
    "    "
   ]
  },
  {
   "cell_type": "code",
   "execution_count": 117,
   "metadata": {},
   "outputs": [],
   "source": [
    "class Person(Animal):\n",
    "    population = 0\n",
    "    \n",
    "    def __init__(self, name, age):\n",
    "        super().__init__(age)\n",
    "        self.name = name\n",
    "        Person.population += 1\n",
    "        \n",
    "    def greeting(self):\n",
    "        print(f'{self.name}입니다. 반갑습니다!')\n",
    "    \n",
    "    def eating(self):\n",
    "        print(f'점심먹자 냠냠쓰')\n",
    "        Person.pooping(self)\n",
    "    \n",
    "    def __repr__(self):\n",
    "        return f'< \"name:\" {self.name}, \"age\": {self.age} >'\n",
    "    \n",
    "    def __gt__(self, other):\n",
    "        return self.age > other.age\n",
    "\n",
    "    def __eq__(self, other):\n",
    "        return self.age == other.age\n",
    "    \n",
    "    def __ge__(self, other):\n",
    "        return self.age >= other.age"
   ]
  },
  {
   "cell_type": "code",
   "execution_count": 118,
   "metadata": {},
   "outputs": [],
   "source": [
    "a1 = Animal(20)\n",
    "p1= Person('john', 34)\n"
   ]
  },
  {
   "cell_type": "code",
   "execution_count": 119,
   "metadata": {},
   "outputs": [
    {
     "name": "stdout",
     "output_type": "stream",
     "text": [
      "뿡~!\n",
      "뿡~!\n",
      "점심먹자 냠냠쓰\n",
      "뿡~!\n"
     ]
    }
   ],
   "source": [
    "a1.pooping()\n",
    "p1.pooping()\n",
    "p1.eating()"
   ]
  },
  {
   "cell_type": "code",
   "execution_count": 111,
   "metadata": {},
   "outputs": [
    {
     "ename": "AttributeError",
     "evalue": "'Animal' object has no attribute 'greeting'",
     "output_type": "error",
     "traceback": [
      "\u001b[1;31m---------------------------------------------------------------------------\u001b[0m",
      "\u001b[1;31mAttributeError\u001b[0m                            Traceback (most recent call last)",
      "\u001b[1;32m<ipython-input-111-47ff40f88541>\u001b[0m in \u001b[0;36m<module>\u001b[1;34m\u001b[0m\n\u001b[1;32m----> 1\u001b[1;33m \u001b[0ma1\u001b[0m\u001b[1;33m.\u001b[0m\u001b[0mgreeting\u001b[0m\u001b[1;33m(\u001b[0m\u001b[1;33m)\u001b[0m\u001b[1;33m\u001b[0m\u001b[1;33m\u001b[0m\u001b[0m\n\u001b[0m",
      "\u001b[1;31mAttributeError\u001b[0m: 'Animal' object has no attribute 'greeting'"
     ]
    }
   ],
   "source": [
    "a1.greeting()"
   ]
  },
  {
   "cell_type": "markdown",
   "metadata": {},
   "source": [
    "## 다중 상속\n",
    "두개 이상의 클래스를 상속받는 경우, 다중상속이 됩니다.\n",
    "- 실제로는 안 쓴다. 지금 할 필요는 없을 것. 되긴 되지만\n",
    "- 이걸 쓰면 서칭되는 순서가 빡치기 때문에 나~중에 할 것.."
   ]
  },
  {
   "cell_type": "code",
   "execution_count": null,
   "metadata": {},
   "outputs": [],
   "source": [
    "# Person 클래스를 정의합니다."
   ]
  },
  {
   "cell_type": "code",
   "execution_count": null,
   "metadata": {},
   "outputs": [],
   "source": []
  },
  {
   "cell_type": "code",
   "execution_count": null,
   "metadata": {},
   "outputs": [],
   "source": [
    "# Mom 클래스를 정의합니다."
   ]
  },
  {
   "cell_type": "code",
   "execution_count": null,
   "metadata": {},
   "outputs": [],
   "source": []
  },
  {
   "cell_type": "code",
   "execution_count": null,
   "metadata": {},
   "outputs": [],
   "source": [
    "# Dad 클래스를 정의합니다."
   ]
  },
  {
   "cell_type": "code",
   "execution_count": null,
   "metadata": {},
   "outputs": [],
   "source": []
  },
  {
   "cell_type": "code",
   "execution_count": null,
   "metadata": {},
   "outputs": [],
   "source": [
    "# Child 클래스를 정의합니다."
   ]
  },
  {
   "cell_type": "code",
   "execution_count": null,
   "metadata": {},
   "outputs": [],
   "source": []
  },
  {
   "cell_type": "code",
   "execution_count": null,
   "metadata": {},
   "outputs": [],
   "source": [
    "# Child 의 인스턴스 객체를 확인합니다."
   ]
  },
  {
   "cell_type": "code",
   "execution_count": null,
   "metadata": {},
   "outputs": [],
   "source": []
  },
  {
   "cell_type": "code",
   "execution_count": null,
   "metadata": {},
   "outputs": [],
   "source": [
    "# cry 메서드를 실행합니다."
   ]
  },
  {
   "cell_type": "code",
   "execution_count": null,
   "metadata": {},
   "outputs": [],
   "source": []
  },
  {
   "cell_type": "code",
   "execution_count": null,
   "metadata": {},
   "outputs": [],
   "source": [
    "# swim 메서드를 실행합니다."
   ]
  },
  {
   "cell_type": "code",
   "execution_count": null,
   "metadata": {},
   "outputs": [],
   "source": []
  },
  {
   "cell_type": "code",
   "execution_count": null,
   "metadata": {},
   "outputs": [],
   "source": [
    "# walk 메서드를 실행합니다."
   ]
  },
  {
   "cell_type": "code",
   "execution_count": null,
   "metadata": {},
   "outputs": [],
   "source": []
  },
  {
   "cell_type": "code",
   "execution_count": null,
   "metadata": {},
   "outputs": [],
   "source": [
    "# gene 은 누구의 속성을 참조할까요?"
   ]
  },
  {
   "cell_type": "code",
   "execution_count": null,
   "metadata": {},
   "outputs": [],
   "source": []
  },
  {
   "cell_type": "code",
   "execution_count": null,
   "metadata": {},
   "outputs": [],
   "source": [
    "# 상속 순서를 바꿔봅시다."
   ]
  },
  {
   "cell_type": "code",
   "execution_count": null,
   "metadata": {},
   "outputs": [],
   "source": []
  },
  {
   "cell_type": "code",
   "execution_count": null,
   "metadata": {},
   "outputs": [],
   "source": [
    "# Child 의 인스턴스 객체를 확인합니다."
   ]
  },
  {
   "cell_type": "code",
   "execution_count": null,
   "metadata": {},
   "outputs": [],
   "source": []
  },
  {
   "cell_type": "code",
   "execution_count": null,
   "metadata": {},
   "outputs": [],
   "source": [
    "# cry메서드를 실행합니다."
   ]
  },
  {
   "cell_type": "code",
   "execution_count": null,
   "metadata": {},
   "outputs": [],
   "source": []
  },
  {
   "cell_type": "code",
   "execution_count": null,
   "metadata": {},
   "outputs": [],
   "source": [
    "# swim 메서드를 실행합니다."
   ]
  },
  {
   "cell_type": "code",
   "execution_count": null,
   "metadata": {},
   "outputs": [],
   "source": []
  },
  {
   "cell_type": "code",
   "execution_count": null,
   "metadata": {},
   "outputs": [],
   "source": [
    "# walk 메서드를 실행합니다."
   ]
  },
  {
   "cell_type": "code",
   "execution_count": null,
   "metadata": {},
   "outputs": [],
   "source": []
  },
  {
   "cell_type": "code",
   "execution_count": null,
   "metadata": {},
   "outputs": [],
   "source": [
    "# gene 은 누구의 속성을 참조할까요?"
   ]
  },
  {
   "cell_type": "code",
   "execution_count": null,
   "metadata": {},
   "outputs": [],
   "source": []
  },
  {
   "cell_type": "markdown",
   "metadata": {},
   "source": [
    "## 포켓몬 구현하기\n",
    "\n",
    "> 포켓몬을 상속하는 이상해씨, 파이리, 꼬부기를 구현해 봅시다. 게임을 만든다면 아래와 같이 먼저 기획을 하고 코드로 구현하게 됩니다.\n",
    "우선 아래와 같이 구현해 보고, 추가로 본인이 원하는 대로 구현 및 수정해 봅시다.\n",
    "\n",
    "모든 포켓몬은 다음과 같은 속성을 갖습니다.\n",
    "* `name`: 이름\n",
    "* `level`: 레벨\n",
    "    * 레벨은 시작할 때 모두 5 입니다.\n",
    "* `hp`: 체력\n",
    "    * 체력은 `level` * 20 입니다.\n",
    "* `exp`: 경험치\n",
    "    * 상대방을 쓰러뜨리면 상대방 `level` * 15 를 획득합니다.\n",
    "    * 경험치는 `level` * 100 이 되면, 레벨이 하나 올라가고 0부터 추가 됩니다. \n",
    "\n",
    "이후 이상해씨, 파이리, 꼬부기는 포켓몬을 상속하여 자유롭게 구현해 봅시다.\n",
    "\n",
    "추가적으로 \n",
    "\n",
    "* 포켓몬 => 물포켓몬 => 꼬부기 \n",
    "* 포켓몬 => 물포켓몬 => 잉어킹\n",
    "* 포켓몬 => 비행포켓몬, 불포켓몬 => 파이어\n",
    "\n",
    "와 같이 다양한 추가 상속관계도 구현해 봅시다."
   ]
  },
  {
   "cell_type": "code",
   "execution_count": 5,
   "metadata": {},
   "outputs": [],
   "source": [
    "from PIL import Image"
   ]
  },
  {
   "cell_type": "code",
   "execution_count": 7,
   "metadata": {},
   "outputs": [],
   "source": [
    "volt_im = Image.open('pika_thousand_volt.jpg')\n",
    "volt_im.show()"
   ]
  },
  {
   "cell_type": "code",
   "execution_count": 36,
   "metadata": {},
   "outputs": [],
   "source": [
    "class Pocketmon:\n",
    "    \n",
    "    pocketmon_list = []\n",
    "    type_id_list = ['water', 'electric']\n",
    "    \n",
    "    def __init__(self, name, level):\n",
    "        self.name = name\n",
    "        self.level = level\n",
    "        self.hp = level * 20\n",
    "        self.exp = 0\n",
    "        Pocketmon.pocketmon_list.append(self)\n",
    "    \n",
    "    def bark(self):\n",
    "        print(f'{self.name}~!!!')\n",
    "    \n",
    "    def hp_check(self, target):\n",
    "        print(f'{self.name}의 HP: {self.hp}, {target.name}의 HP: {target.hp}')\n",
    "        if target.hp <= 0:\n",
    "            print('~~~~~~~~~~~~~~~~~~~~~~~')\n",
    "            print(f'{target.name} 쓰러졌다. {self.name} 승리!!')\n",
    "            return True\n",
    "    \n",
    "    def exp_lev_up(self, target):\n",
    "        self.exp += target.level * 15\n",
    "        if self.exp >= self.level * 100:\n",
    "            self.level += 1\n",
    "            self.exp = 0\n",
    "            print('~~~~~~~~~~~~~~~~~~~~~~~')\n",
    "            print(f'{self.name} LEVEL UP~!! Lv.{self.level}') \n",
    "    \n",
    "    def gotoCenter(self):\n",
    "        self.hp = self.level * 20\n",
    "        print('.................')\n",
    "        print('┌(◉ ͜ʖ◉)つ┣▇▇▇═──')\n",
    "        print('................!')\n",
    "        print(f'{self.name} 회복완료 hp:{self.hp}')"
   ]
  },
  {
   "cell_type": "code",
   "execution_count": 37,
   "metadata": {},
   "outputs": [],
   "source": [
    "class WaterPocketmon(Pocketmon):\n",
    "    \n",
    "    water_list = []\n",
    "    weight = {'water' : 1, 'elec' : 0.5}\n",
    "    \n",
    "    def __init__(self, name, level, type_id):\n",
    "        super().__init__(name, level)\n",
    "        self.type_id = type_id\n",
    "        WaterPocketmon.water_list.append(self)\n",
    "    \n",
    "    def shooting_water(self, target):\n",
    "        print('쏴아~!! (๑╹ڡ╹)╭ ～~～~')\n",
    "        target.hp -= self.level * 5 * WaterPocketmon.weight[target.type_id]\n",
    "        if super().hp_check(target):  #super()의 함수를 가져다 쓸 때는 self 안 넣는다!\n",
    "            super().exp_lev_up(target)"
   ]
  },
  {
   "cell_type": "code",
   "execution_count": 38,
   "metadata": {},
   "outputs": [],
   "source": [
    "class ElecPocketmon(Pocketmon):\n",
    "    \n",
    "    elec_list = []\n",
    "    weight = {'water' : 1.5, 'elec' : 1}\n",
    "    \n",
    "    def __init__(self, name, level, type_id):\n",
    "        super().__init__(name, level)\n",
    "        self.type_id = type_id\n",
    "        ElecPocketmon.elec_list.append(self)\n",
    "    \n",
    "    def thousand_volt(self, target):\n",
    "        print('파지직~!! ϞϞ(๑⚈ ․̫ ⚈๑)∩')\n",
    "        target.hp -= self.level * 5 * ElecPocketmon.weight[target.type_id]\n",
    "        if super().hp_check(target):\n",
    "            super().exp_lev_up(target)\n",
    "        "
   ]
  },
  {
   "cell_type": "code",
   "execution_count": 39,
   "metadata": {
    "scrolled": false
   },
   "outputs": [
    {
     "name": "stdout",
     "output_type": "stream",
     "text": [
      "2\n",
      "1 1\n"
     ]
    }
   ],
   "source": [
    "pikachu = ElecPocketmon('pikachu', 10, 'elec')\n",
    "ggobugi = WaterPocketmon('ggobugi', 10, 'water')\n",
    "print(len(Pocketmon.pocketmon_list))\n",
    "print(len(WaterPocketmon.water_list), len(ElecPocketmon.elec_list))"
   ]
  },
  {
   "cell_type": "code",
   "execution_count": 44,
   "metadata": {
    "scrolled": false
   },
   "outputs": [
    {
     "name": "stdout",
     "output_type": "stream",
     "text": [
      "쏴아~!! (๑╹ڡ╹)╭ ～~～~\n",
      "ggobugi의 HP: 50.0, pikachu의 HP: 125.0\n"
     ]
    }
   ],
   "source": [
    "ggobugi.shooting_water(pikachu)"
   ]
  },
  {
   "cell_type": "code",
   "execution_count": 45,
   "metadata": {},
   "outputs": [
    {
     "name": "stdout",
     "output_type": "stream",
     "text": [
      "파지직~!! ϞϞ(๑⚈ ․̫ ⚈๑)∩\n",
      "pikachu의 HP: 125.0, ggobugi의 HP: -25.0\n",
      "~~~~~~~~~~~~~~~~~~~~~~~\n",
      "ggobugi 쓰러졌다. pikachu 승리!!\n"
     ]
    }
   ],
   "source": [
    "pikachu.thousand_volt(ggobugi)"
   ]
  },
  {
   "cell_type": "code",
   "execution_count": 46,
   "metadata": {},
   "outputs": [
    {
     "name": "stdout",
     "output_type": "stream",
     "text": [
      ".................\n",
      "┌(◉ ͜ʖ◉)つ┣▇▇▇═──\n",
      "................!\n",
      "ggobugi 회복완료 hp:200\n"
     ]
    }
   ],
   "source": [
    "ggobugi.gotoCenter()"
   ]
  },
  {
   "cell_type": "code",
   "execution_count": null,
   "metadata": {},
   "outputs": [],
   "source": []
  }
 ],
 "metadata": {
  "kernelspec": {
   "display_name": "Python 3",
   "language": "python",
   "name": "python3"
  },
  "language_info": {
   "codemirror_mode": {
    "name": "ipython",
    "version": 3
   },
   "file_extension": ".py",
   "mimetype": "text/x-python",
   "name": "python",
   "nbconvert_exporter": "python",
   "pygments_lexer": "ipython3",
   "version": "3.7.3"
  },
  "latex_envs": {
   "LaTeX_envs_menu_present": true,
   "autoclose": false,
   "autocomplete": true,
   "bibliofile": "biblio.bib",
   "cite_by": "apalike",
   "current_citInitial": 1,
   "eqLabelWithNumbers": true,
   "eqNumInitial": 1,
   "hotkeys": {
    "equation": "Ctrl-E",
    "itemize": "Ctrl-I"
   },
   "labels_anchors": false,
   "latex_user_defs": false,
   "report_style_numbering": false,
   "user_envs_cfg": false
  },
  "toc": {
   "base_numbering": 1,
   "nav_menu": {},
   "number_sections": true,
   "sideBar": true,
   "skip_h1_title": false,
   "title_cell": "Table of Contents",
   "title_sidebar": "Contents",
   "toc_cell": false,
   "toc_position": {},
   "toc_section_display": true,
   "toc_window_display": false
  }
 },
 "nbformat": 4,
 "nbformat_minor": 2
}
