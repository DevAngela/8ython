{
 "cells": [
  {
   "cell_type": "markdown",
   "metadata": {},
   "source": [
    "# 문자열 메소드 활용하기"
   ]
  },
  {
   "cell_type": "markdown",
   "metadata": {},
   "source": [
    "## 변형\n",
    "\n",
    "### `.capitalize()`, `title()`, `.upper()`\n",
    "\n",
    "`.capitalize()` : 맨앞글자만 대문자로 만들고 나머지는 소문자로 반환합니다.\n",
    "\n",
    "`.title()` : 어포스트로피나 공백 이후를 대문자로 만들어 반환합니다.\n",
    "\n",
    "`.upper()` : 모두 대문자로 만들어 반환합니다.  \n",
    "  \n",
    "- .capitalize()와 .upper()은 서로 구별해야 한다. 헷갈리는 사람 많음!!"
   ]
  },
  {
   "cell_type": "code",
   "execution_count": 6,
   "metadata": {},
   "outputs": [
    {
     "name": "stdout",
     "output_type": "stream",
     "text": [
      "Hi! everyone, i'm kim\n",
      "hI! Everyone, I'm kim\n",
      "Hi! everyone, i'm kim\n",
      "Hi! Everyone, I'M Kim HI! EVERYONE, I'M KIM\n"
     ]
    }
   ],
   "source": [
    "a = \"hI! Everyone, I'm kim\"\n",
    "# 아래에 코드를 작성하세요.\n",
    "\n",
    "print(a.capitalize())\n",
    "print(a)    #원래의 a가 그대로 나오므로 non-destructive하다.\n",
    "\n",
    "#이렇게 non-destructive한 것은 반드시 변수에 저장해서 그 상태를 저장해주자\n",
    "b = a.capitalize()\n",
    "print(b)\n",
    "\n",
    "titlea = a.title()    #News Title을 이런 형태로 많이 사용한다.\n",
    "uppera = a.upper()\n",
    "print(titlea, uppera)  #둘다 리턴값이 있다"
   ]
  },
  {
   "cell_type": "markdown",
   "metadata": {},
   "source": [
    "### `lower()`, `swapcase()`\n",
    "\n",
    "`lower()` : 모두 소문자로 만들어 반환합니다.\n",
    "\n",
    "`swapcase()` : 대 ↔ 소문자로 변경하여 반환합니다."
   ]
  },
  {
   "cell_type": "code",
   "execution_count": null,
   "metadata": {},
   "outputs": [],
   "source": [
    "a = \"hI! Everyone, I'm kim\"\n",
    "# 아래에 코드를 작성하세요."
   ]
  },
  {
   "cell_type": "markdown",
   "metadata": {},
   "source": [
    "### `.join(iterable)`  \n",
    "(아주 아주 아주 중요)\n",
    "Iterable 을 해당 문자열을 separator 로 합쳐서 문자열로 반환합니다."
   ]
  },
  {
   "cell_type": "code",
   "execution_count": 12,
   "metadata": {},
   "outputs": [
    {
     "data": {
      "text/plain": [
       "(['This', 'is', 'awesome'], 'This is awesome')"
      ]
     },
     "execution_count": 12,
     "metadata": {},
     "output_type": "execute_result"
    }
   ],
   "source": [
    "# 아래에 코드를 작성하세요.\n",
    "'8 3 5 6 9 10'.split(' ')\n",
    "'010-1234-5678'.split('-')\n",
    "#문장을 단어단위로 쪼개고 가공 후 다시 문장으로 만들기 자주 씀\n",
    "split_sent = 'This is awesome'.split(' ')\n",
    "join_sent = ' '.join(split_sent)   #리턴값이 있다\n",
    "split_sent, join_sent   #원본을 유지한다."
   ]
  },
  {
   "cell_type": "markdown",
   "metadata": {},
   "source": [
    "### `.replace(old, new[, count])`\n",
    "\n",
    "바꿀 대상 글자를 새로운 글자로 바꿔서 반환합니다. \n",
    "\n",
    "count를 지정하면 해당 갯수만큼만 시행합니다."
   ]
  },
  {
   "cell_type": "code",
   "execution_count": 16,
   "metadata": {},
   "outputs": [
    {
     "data": {
      "text/plain": [
       "'This is awesome'"
      ]
     },
     "execution_count": 16,
     "metadata": {},
     "output_type": "execute_result"
    }
   ],
   "source": [
    "# 아래에 코드를 작성하세요.\n",
    "join_sent.replace('is', '15')\n",
    "join_sent   #원본 변경 안 함"
   ]
  },
  {
   "cell_type": "markdown",
   "metadata": {},
   "source": [
    "### 글씨 제거 (`strip([chars])`)\n",
    "\n",
    "특정한 문자들을 지정하면,  양쪽을 제거하거나 왼쪽을 제거하거나(lstrip) 오른쪽을 제거합니다(rstrip)\n",
    "\n",
    "지정하지 않으면 공백을 제거합니다.  \n",
    "  \n",
    "- 줄바꿈 캐릭터가 많은데 그걸 제거할 때 주로 사용한다. "
   ]
  },
  {
   "cell_type": "code",
   "execution_count": 25,
   "metadata": {},
   "outputs": [
    {
     "name": "stdout",
     "output_type": "stream",
     "text": [
      "This is strip. \n",
      "\n",
      "This is strip. \n"
     ]
    }
   ],
   "source": [
    "# 아래에 코드를 작성하세요.\n",
    "c = 'This is strip. \\n'\n",
    "print(c)  #줄바꿈나옴\n",
    "print(c.strip('\\n'))"
   ]
  },
  {
   "cell_type": "markdown",
   "metadata": {},
   "source": [
    "## 탐색 및 검증\n",
    "\n",
    "### `.find(x)` : x의 첫 번째 위치를 반환합니다. 없으면, -1을 반환합니다."
   ]
  },
  {
   "cell_type": "code",
   "execution_count": 28,
   "metadata": {},
   "outputs": [
    {
     "data": {
      "text/plain": [
       "-1"
      ]
     },
     "execution_count": 28,
     "metadata": {},
     "output_type": "execute_result"
    }
   ],
   "source": [
    "# 아래에 코드를 작성하세요.\n",
    "'ssafy'.find('f')  #글자의 위치가 리턴된다.\n",
    "'ssafy'.find('s')  #중복되는 글자가 있을 경우: 첫번째 위치를 찾아버리고 끝낸다. (주의!!!)\n",
    "'ssafy'.find('z')  #없는 글자 찾으면 -1"
   ]
  },
  {
   "cell_type": "markdown",
   "metadata": {},
   "source": [
    "### `.index(x)` : x의 첫번째 위치를 반환합니다. 없으면, 오류가 발생합니다."
   ]
  },
  {
   "cell_type": "code",
   "execution_count": 30,
   "metadata": {},
   "outputs": [
    {
     "ename": "ValueError",
     "evalue": "substring not found",
     "output_type": "error",
     "traceback": [
      "\u001b[1;31m---------------------------------------------------------------------------\u001b[0m",
      "\u001b[1;31mValueError\u001b[0m                                Traceback (most recent call last)",
      "\u001b[1;32m<ipython-input-30-218a007f2809>\u001b[0m in \u001b[0;36m<module>\u001b[1;34m\u001b[0m\n\u001b[0;32m      2\u001b[0m \u001b[1;31m# 위와의 차이는 없을 때 '오류'가 발생된다는 것이다!!!!!\u001b[0m\u001b[1;33m\u001b[0m\u001b[1;33m\u001b[0m\u001b[1;33m\u001b[0m\u001b[0m\n\u001b[0;32m      3\u001b[0m \u001b[1;34m'ssafy'\u001b[0m\u001b[1;33m.\u001b[0m\u001b[0mindex\u001b[0m\u001b[1;33m(\u001b[0m\u001b[1;34m's'\u001b[0m\u001b[1;33m)\u001b[0m\u001b[1;33m\u001b[0m\u001b[1;33m\u001b[0m\u001b[0m\n\u001b[1;32m----> 4\u001b[1;33m \u001b[1;34m'ssafy'\u001b[0m\u001b[1;33m.\u001b[0m\u001b[0mindex\u001b[0m\u001b[1;33m(\u001b[0m\u001b[1;34m'z'\u001b[0m\u001b[1;33m)\u001b[0m\u001b[1;33m\u001b[0m\u001b[1;33m\u001b[0m\u001b[0m\n\u001b[0m",
      "\u001b[1;31mValueError\u001b[0m: substring not found"
     ]
    }
   ],
   "source": [
    "# 아래에 코드를 작성하세요.\n",
    "# 위와의 차이는 없을 때 '오류'가 발생된다는 것이다!!!!! \n",
    "'ssafy'.index('s')\n",
    "'ssafy'.index('z')"
   ]
  },
  {
   "cell_type": "markdown",
   "metadata": {},
   "source": [
    "## `split()`\n",
    "\n",
    "문자열을 특정한 단위로 나누어 리스트로 반환합니다."
   ]
  },
  {
   "cell_type": "code",
   "execution_count": 31,
   "metadata": {},
   "outputs": [
    {
     "data": {
      "text/plain": [
       "['this', 'is', 'ssafy']"
      ]
     },
     "execution_count": 31,
     "metadata": {},
     "output_type": "execute_result"
    }
   ],
   "source": [
    "# 아래에 코드를 작성하세요.\n",
    "'this is ssafy'.split(' ')"
   ]
  },
  {
   "cell_type": "markdown",
   "metadata": {},
   "source": [
    "## 다양한 확인 메소드 : 참/거짓 반환\n",
    "```\n",
    ".isalpha(), .isdecimal(), .isdigit(), .isnumeric(), .isspace(), .issuper(), .istitle(), .islower()\n",
    "```  \n",
    "- isalpha(): 알파벳인가. 한글은? =True나옴. 숫자가 아닌 글자면 True다!\n",
    "\n",
    "```python\n",
    "dir('string')\n",
    "```"
   ]
  },
  {
   "cell_type": "code",
   "execution_count": 34,
   "metadata": {},
   "outputs": [
    {
     "data": {
      "text/plain": [
       "True"
      ]
     },
     "execution_count": 34,
     "metadata": {},
     "output_type": "execute_result"
    }
   ],
   "source": [
    "'나나'.isalpha()\n",
    "'A'.islower()\n",
    "' '.isspace()"
   ]
  },
  {
   "cell_type": "markdown",
   "metadata": {},
   "source": [
    "# 리스트 메소드 활용하기\n",
    "  \n",
    "- 가장 빈번하게 다루는 자료형이 리스트이기 때무넹, 이 리스트를 다루는 Method들을 이해하는 것은 아주 중요하다 \n",
    "\n",
    "## 값 추가 및 삭제\n",
    "\n",
    "### `.append(x)`\n",
    "\n",
    "리스트에 값을 추가할 수 있습니다. 실수가 적으므로 이걸 많이 쓴다!  \n",
    "요소를 넣을 때는 append 쓰기"
   ]
  },
  {
   "cell_type": "code",
   "execution_count": 43,
   "metadata": {},
   "outputs": [
    {
     "name": "stdout",
     "output_type": "stream",
     "text": [
      "['starbucks', 'tomntoms', 'hollys']\n"
     ]
    }
   ],
   "source": [
    "# 카페 리스트를 만들어봅시다.\n",
    "caffe = ['starbucks', 'tomntoms', 'hollys']\n",
    "print(caffe)"
   ]
  },
  {
   "cell_type": "code",
   "execution_count": 44,
   "metadata": {},
   "outputs": [
    {
     "name": "stdout",
     "output_type": "stream",
     "text": [
      "['starbucks', 'tomntoms', 'hollys', 'w cafe']\n"
     ]
    }
   ],
   "source": [
    "# 값을 추가해봅시다.\n",
    "caffe.append('w cafe')   # .append()는 실행할 때마다 새로 값이 들어가기 때문에 쓸 때 조심해야 한다.\n",
    "print(caffe)"
   ]
  },
  {
   "cell_type": "code",
   "execution_count": 50,
   "metadata": {},
   "outputs": [
    {
     "name": "stdout",
     "output_type": "stream",
     "text": [
      "['starbucks', 'tomntoms', 'hollys', 'ediya']\n",
      "['starbucks', 'tomntoms', 'hollys', 'baeks']\n"
     ]
    }
   ],
   "source": [
    "# 어렵게 넣어보도록 해봅시다.\n",
    "caffe = ['starbucks', 'tomntoms', 'hollys']\n",
    "caffe[len(caffe):] = ['ediya']    #맨 끝 index로 추가해서 넣겠다고 쓸 수도 있긴 함\n",
    "print(caffe)\n",
    "caffe[3] = 'baeks'   #이렇게 index로 하면 요소를 바꿔버린다\n",
    "print(caffe)"
   ]
  },
  {
   "cell_type": "markdown",
   "metadata": {},
   "source": [
    "### `.extend(iterable)`\n",
    "\n",
    "리스트에 **iterable**(list, range, tuple, string*유의*) 값을 붙일 수가 있습니다.  \n",
    "요소를 넣는다기보다는 리스트를 붙인다는 개념이므로 인자로 []리스트가 오게 하고, 요소를 넣을 땐 주로 append사용함  \n",
    "굳이 extend로 요소를 넣어야 한다면 꼭 []로 싸서 넣어야 함"
   ]
  },
  {
   "cell_type": "code",
   "execution_count": 47,
   "metadata": {},
   "outputs": [
    {
     "name": "stdout",
     "output_type": "stream",
     "text": [
      "['starbucks', 'tomntoms', 'hollys', 'w cafe', 'banapresso', 'cloud caffe']\n"
     ]
    }
   ],
   "source": [
    "# 앞서 만든 리스트에 추가해봅시다.\n",
    "# str을 넣으면 한 글자씩 따로 들어가기 때문에, []리스트로 묶어서 넣는 습관 들이자\n",
    "caffe.extend( ['cloud caffe'] )\n",
    "print(caffe)"
   ]
  },
  {
   "cell_type": "code",
   "execution_count": null,
   "metadata": {},
   "outputs": [],
   "source": [
    "# 앞서 배운 list concatenate와 동일합니다.\n",
    "# + 먹히는지 해보자\n",
    "#caffe += 'banapresso' \n",
    "print(caffe)\n",
    "# ['starbucks', 'tomntoms', 'hollys', 'w cafe', 'b', 'a', 'n', 'a', 'p', 'r', 'e', 's', 's', 'o'] 이렇게 들어가버린다!\n",
    "# string은 문자열 하나하나를 가져오게 됨\n",
    "\n",
    "caffe += ['banapresso']\n",
    "print(caffe)\n",
    "# +는 아래의 extend 메서드와 같다고 생각하면 된다!!!! 인자로 iterable이 들어간다는 점!! "
   ]
  },
  {
   "cell_type": "code",
   "execution_count": null,
   "metadata": {},
   "outputs": [],
   "source": [
    "# append와 비교해봅시다."
   ]
  },
  {
   "cell_type": "markdown",
   "metadata": {},
   "source": [
    "### `insert(i, x)`\n",
    "\n",
    "정해진 위치 `i`에 값을 추가합니다. "
   ]
  },
  {
   "cell_type": "code",
   "execution_count": 53,
   "metadata": {},
   "outputs": [],
   "source": [
    "# 앞서 만든 리스트의 가장 앞에 'hi'를 넣어봅시다.\n",
    "# 그냥 인덱스에 지정하면 기존에 있던 값이 교체되어 버린다!!!!\n",
    "caffe.insert(0, 'hi')"
   ]
  },
  {
   "cell_type": "code",
   "execution_count": 54,
   "metadata": {},
   "outputs": [
    {
     "name": "stdout",
     "output_type": "stream",
     "text": [
      "['hi', 'starbucks', 'starbucks', 'tomntoms', 'hollys', 'baeks']\n"
     ]
    }
   ],
   "source": [
    "print(caffe)"
   ]
  },
  {
   "cell_type": "code",
   "execution_count": 58,
   "metadata": {},
   "outputs": [
    {
     "name": "stdout",
     "output_type": "stream",
     "text": [
      "['hi', 'starbucks', 'starbucks', 'tomntoms', 'hollys', 'bye', 'bye', 'baeks', 'bye']\n",
      "['hi', 'starbucks', 'starbucks', 'tomntoms', 'hollys', 'bye', 'bye', 'baeks', 'bye', 'bye']\n"
     ]
    }
   ],
   "source": [
    "# 앞서 만든 리스트의 가장 뒤에 'bye'를 넣어봅시다\n",
    "# 몇개인지 세지 말고 -1 인덱스 주면 되나??\n",
    "#caffe.insert(-1, 'bye')\n",
    "print(caffe)  \n",
    "#이상한 곳에 가버림!!\n",
    "#가장 마지막의 앞쪽에 넣고 원래의 -1번째 요소는 뒤로 밀려버린다.\n",
    "\n",
    "# 맨 뒤에 넣으려면 반드시!!!! len()에 넣어야 함!\n",
    "caffe.insert(len(caffe), 'bye')\n",
    "print(caffe)"
   ]
  },
  {
   "cell_type": "code",
   "execution_count": 60,
   "metadata": {},
   "outputs": [
    {
     "name": "stdout",
     "output_type": "stream",
     "text": [
      "['hi', 'starbucks', 'starbucks', 'tomntoms', 'hollys', 'bye', 'bye', 'baeks', 'bye', 'bye', 'hundred', 'hundred']\n"
     ]
    }
   ],
   "source": [
    "# 길이를 넘어서는 인덱스는 무조건 마지막에 하나만 붙습니다.\n",
    "# 에러를 안 낸다.\n",
    "caffe.insert(100, 'hundred')\n",
    "print(caffe)"
   ]
  },
  {
   "cell_type": "markdown",
   "metadata": {},
   "source": [
    "### `remove(x)`\n",
    "\n",
    "리스트에서 값이 x인 것을 삭제합니다.  \n",
    "복수의 값을 지우고 싶다면 (1이 몇 개 있는지 모르는데 1을 다 지워야 한다면)  \n",
    "1이 더 이상 없을 때까지 지워야 하는데 더 이상 없어지면 \"에러\"를 내버리므로  \n",
    "이 때는 나중에 배울 예외처리를 통해 에러 안 나도록 처리해주면 된다.  \n",
    "  \n",
    "remove의 메모리 코스트: 하나하나 탐색해야 해서 조금 높은 편"
   ]
  },
  {
   "cell_type": "code",
   "execution_count": 66,
   "metadata": {},
   "outputs": [
    {
     "name": "stdout",
     "output_type": "stream",
     "text": [
      "[1, 2, 3, 1, 2]\n"
     ]
    }
   ],
   "source": [
    "# remove를 사용해봅시다.\n",
    "numbers = [1, 2, 3, 1, 2]\n",
    "print(numbers)"
   ]
  },
  {
   "cell_type": "code",
   "execution_count": 67,
   "metadata": {},
   "outputs": [
    {
     "name": "stdout",
     "output_type": "stream",
     "text": [
      "[2, 3, 1, 2]\n"
     ]
    }
   ],
   "source": [
    "# 중복된 값 1을 삭제 해봅시다.\n",
    "numbers.remove(1)\n",
    "print(numbers)   #첫번째 것 하나만 지워준다."
   ]
  },
  {
   "cell_type": "code",
   "execution_count": 68,
   "metadata": {},
   "outputs": [
    {
     "name": "stdout",
     "output_type": "stream",
     "text": [
      "[2, 3, 2]\n"
     ]
    }
   ],
   "source": [
    "# 한번 더 삭제해봅시다.\n",
    "numbers.remove(1)\n",
    "print(numbers)"
   ]
  },
  {
   "cell_type": "code",
   "execution_count": 69,
   "metadata": {},
   "outputs": [
    {
     "ename": "ValueError",
     "evalue": "list.remove(x): x not in list",
     "output_type": "error",
     "traceback": [
      "\u001b[1;31m---------------------------------------------------------------------------\u001b[0m",
      "\u001b[1;31mValueError\u001b[0m                                Traceback (most recent call last)",
      "\u001b[1;32m<ipython-input-69-3c002b34729b>\u001b[0m in \u001b[0;36m<module>\u001b[1;34m\u001b[0m\n\u001b[0;32m      1\u001b[0m \u001b[1;31m# remove는 값이 없으면 오류가 발생합니다. 확인해봅시다.\u001b[0m\u001b[1;33m\u001b[0m\u001b[1;33m\u001b[0m\u001b[1;33m\u001b[0m\u001b[0m\n\u001b[1;32m----> 2\u001b[1;33m \u001b[0mnumbers\u001b[0m\u001b[1;33m.\u001b[0m\u001b[0mremove\u001b[0m\u001b[1;33m(\u001b[0m\u001b[1;36m1\u001b[0m\u001b[1;33m)\u001b[0m\u001b[1;33m\u001b[0m\u001b[1;33m\u001b[0m\u001b[0m\n\u001b[0m\u001b[0;32m      3\u001b[0m \u001b[0mprint\u001b[0m\u001b[1;33m(\u001b[0m\u001b[0mnumbers\u001b[0m\u001b[1;33m)\u001b[0m\u001b[1;33m\u001b[0m\u001b[1;33m\u001b[0m\u001b[0m\n",
      "\u001b[1;31mValueError\u001b[0m: list.remove(x): x not in list"
     ]
    }
   ],
   "source": [
    "# remove는 값이 없으면 오류가 발생합니다. 확인해봅시다.\n",
    "numbers.remove(1)\n",
    "print(numbers)"
   ]
  },
  {
   "cell_type": "markdown",
   "metadata": {},
   "source": [
    "### `.pop(i)`\n",
    "\n",
    "정해진 위치 `i`에 있는 값을 삭제하며, 그 항목을 **반환**합니다. (엄청 중요!!)  \n",
    "  \n",
    "- 아무 위치를 지정 안 하면 맨 끝 위치의 요소를 삭제한다.\n",
    "- remove 등등은 반환값이 없었다. pop은 뽑아낸 요소를 리턴한다!\n",
    "- 리턴도 하고, Destructive하기도 하다.\n",
    "  \n",
    "`i`가 지정되지 않으면 마지막 항목을 삭제하고 되돌려줍니다.  \n",
    "  \n",
    "인덱스 값으로 뽑아내는 메소드들은 탐색을 다 안해도 되니까 메모리 소모 덜하다."
   ]
  },
  {
   "cell_type": "code",
   "execution_count": 70,
   "metadata": {},
   "outputs": [
    {
     "data": {
      "text/plain": [
       "6"
      ]
     },
     "execution_count": 70,
     "metadata": {},
     "output_type": "execute_result"
    }
   ],
   "source": [
    "# pop을 사용해봅시다.\n",
    "numbers = [1, 2, 3, 4, 5, 6]\n",
    "numbers.pop()"
   ]
  },
  {
   "cell_type": "code",
   "execution_count": 71,
   "metadata": {},
   "outputs": [
    {
     "name": "stdout",
     "output_type": "stream",
     "text": [
      "[1, 2, 3, 4, 5]\n"
     ]
    }
   ],
   "source": [
    "print(numbers)"
   ]
  },
  {
   "cell_type": "code",
   "execution_count": 72,
   "metadata": {},
   "outputs": [
    {
     "data": {
      "text/plain": [
       "1"
      ]
     },
     "execution_count": 72,
     "metadata": {},
     "output_type": "execute_result"
    }
   ],
   "source": [
    "# 가장 앞에 있는 것을 삭제해봅시다. return도 확인해보세요.  pop() 인자로 index를 받는다.\n",
    "numbers.pop(0)"
   ]
  },
  {
   "cell_type": "code",
   "execution_count": 73,
   "metadata": {},
   "outputs": [
    {
     "name": "stdout",
     "output_type": "stream",
     "text": [
      "[2, 3, 4, 5]\n"
     ]
    }
   ],
   "source": [
    "print(numbers)"
   ]
  },
  {
   "cell_type": "code",
   "execution_count": 75,
   "metadata": {},
   "outputs": [
    {
     "name": "stdout",
     "output_type": "stream",
     "text": [
      "2\n"
     ]
    }
   ],
   "source": [
    "# 값이 return이 된다는 것은 별도의 변수에 저장할 수 있다는 것입니다. \n",
    "num = numbers.pop(0)\n",
    "print(num)"
   ]
  },
  {
   "cell_type": "code",
   "execution_count": 76,
   "metadata": {},
   "outputs": [
    {
     "name": "stdout",
     "output_type": "stream",
     "text": [
      "[3, 4, 5]\n"
     ]
    }
   ],
   "source": [
    "print(numbers)"
   ]
  },
  {
   "cell_type": "markdown",
   "metadata": {},
   "source": [
    "## 탐색 및 정렬"
   ]
  },
  {
   "cell_type": "markdown",
   "metadata": {},
   "source": [
    "### `.index(x)`\n",
    "\n",
    "x 값을 찾아 해당 index 값을 반환합니다."
   ]
  },
  {
   "cell_type": "code",
   "execution_count": 77,
   "metadata": {},
   "outputs": [
    {
     "name": "stdout",
     "output_type": "stream",
     "text": [
      "2\n"
     ]
    }
   ],
   "source": [
    "# index를 사용해봅시다.\n",
    "numbers = [1, 2, 3, 4, 5]\n",
    "print(numbers.index(3))"
   ]
  },
  {
   "cell_type": "code",
   "execution_count": 78,
   "metadata": {},
   "outputs": [
    {
     "ename": "ValueError",
     "evalue": "8 is not in list",
     "output_type": "error",
     "traceback": [
      "\u001b[1;31m---------------------------------------------------------------------------\u001b[0m",
      "\u001b[1;31mValueError\u001b[0m                                Traceback (most recent call last)",
      "\u001b[1;32m<ipython-input-78-e4455e985b8b>\u001b[0m in \u001b[0;36m<module>\u001b[1;34m\u001b[0m\n\u001b[0;32m      2\u001b[0m \u001b[1;31m# 앞서 remove 역시도 같은 에러가 발생하였습니다. (ValueError)\u001b[0m\u001b[1;33m\u001b[0m\u001b[1;33m\u001b[0m\u001b[1;33m\u001b[0m\u001b[0m\n\u001b[0;32m      3\u001b[0m \u001b[1;33m\u001b[0m\u001b[0m\n\u001b[1;32m----> 4\u001b[1;33m \u001b[0mprint\u001b[0m\u001b[1;33m(\u001b[0m\u001b[0mnumbers\u001b[0m\u001b[1;33m.\u001b[0m\u001b[0mindex\u001b[0m\u001b[1;33m(\u001b[0m\u001b[1;36m8\u001b[0m\u001b[1;33m)\u001b[0m\u001b[1;33m)\u001b[0m\u001b[1;33m\u001b[0m\u001b[1;33m\u001b[0m\u001b[0m\n\u001b[0m",
      "\u001b[1;31mValueError\u001b[0m: 8 is not in list"
     ]
    }
   ],
   "source": [
    "# index는 없을 시 오류가 발생합니다. 확인해봅시다. \n",
    "# 앞서 remove 역시도 같은 에러가 발생하였습니다. (ValueError)\n",
    "print(numbers.index(8))"
   ]
  },
  {
   "cell_type": "markdown",
   "metadata": {},
   "source": [
    "### `.count(x)`\n",
    "\n",
    "원하는 값의 갯수를 확인할 수 있습니다."
   ]
  },
  {
   "cell_type": "code",
   "execution_count": 79,
   "metadata": {},
   "outputs": [
    {
     "data": {
      "text/plain": [
       "3"
      ]
     },
     "execution_count": 79,
     "metadata": {},
     "output_type": "execute_result"
    }
   ],
   "source": [
    "# count를 사용해봅시다.\n",
    "numbers = [1, 2, 5, 1, 5, 1]\n",
    "numbers.count(1)"
   ]
  },
  {
   "cell_type": "code",
   "execution_count": 86,
   "metadata": {},
   "outputs": [
    {
     "name": "stdout",
     "output_type": "stream",
     "text": [
      "[2, 5, 5]\n"
     ]
    }
   ],
   "source": [
    "# 따라서 원하는 값을 모두 삭제하려면 다음과 같이 할 수 있습니다.\n",
    "numbers = [1, 2, 5, 1, 5, 1]\n",
    "target = 1\n",
    "\n",
    "cnt = numbers.count(target)\n",
    "for i in range(cnt):\n",
    "    numbers.remove(target)\n",
    "print(numbers)\n",
    "\n",
    "\n",
    "#함수로 설정할 수도 있다!!!\n",
    "numbers = [1, 2, 5, 1, 5, 1]\n",
    "\n",
    "def delete_all(li, target):\n",
    "    for i in range(li.count(target)):\n",
    "        li.remove(target)\n",
    "\n",
    "delete_all(numbers, 1)"
   ]
  },
  {
   "cell_type": "code",
   "execution_count": 84,
   "metadata": {},
   "outputs": [
    {
     "name": "stdout",
     "output_type": "stream",
     "text": [
      "True\n",
      "[2]\n"
     ]
    }
   ],
   "source": [
    "# 모두 삭제되었는지 검증해봅시다.\n",
    "# 1: count가 0인지 보기\n",
    "if numbers.count(1) == 0:\n",
    "    print(True)\n",
    "\n",
    "# 2: in으로 보기!! =True값 만드니까 while 조건문으로 써서 5 다 지워보기\n",
    "while 5 in numbers:\n",
    "    numbers.remove(5)\n",
    "\n",
    "print(numbers)"
   ]
  },
  {
   "cell_type": "markdown",
   "metadata": {},
   "source": [
    "< 짝꿍들 >\n",
    "\n",
    "- (1),   (2)\n",
    "- sort() , sorted()\n",
    "- reverse() , resversed()\n",
    "- (1)에 해당하는 것: return값이 없다. Destructive하다.\n",
    "- (2)에 해당하는 것: return값이 있다. Non-destructive하다. =이걸 활용하는 것이 낫다. 원본 파괴하면 안 되니까..."
   ]
  },
  {
   "cell_type": "markdown",
   "metadata": {},
   "source": [
    "### `.sort()`\n",
    "\n",
    "정렬을 합니다. \n",
    "\n",
    "`sorted()`와는 다르게 원본 list를 변형시키고, None을 리턴합니다."
   ]
  },
  {
   "cell_type": "code",
   "execution_count": 87,
   "metadata": {},
   "outputs": [
    {
     "name": "stdout",
     "output_type": "stream",
     "text": [
      "[11, 28, 32, 2, 26, 45]\n"
     ]
    }
   ],
   "source": [
    "import random\n",
    "lotto = random.sample(range(1, 46), 6)\n",
    "print(lotto)"
   ]
  },
  {
   "cell_type": "code",
   "execution_count": 89,
   "metadata": {},
   "outputs": [
    {
     "name": "stdout",
     "output_type": "stream",
     "text": [
      "[2, 11, 26, 28, 32, 45]\n",
      "[11, 28, 32, 2, 26, 45]\n"
     ]
    }
   ],
   "source": [
    "# sort를 사용해봅시다.\n",
    "print(sorted(lotto))   #non-destructive\n",
    "print(lotto)"
   ]
  },
  {
   "cell_type": "code",
   "execution_count": 94,
   "metadata": {},
   "outputs": [
    {
     "name": "stdout",
     "output_type": "stream",
     "text": [
      "[2, 11, 26, 28, 32, 45]\n"
     ]
    }
   ],
   "source": [
    "lotto.sort()  #destructive하고 None리턴\n",
    "print(lotto)"
   ]
  },
  {
   "cell_type": "code",
   "execution_count": 100,
   "metadata": {},
   "outputs": [
    {
     "name": "stdout",
     "output_type": "stream",
     "text": [
      "[45, 32, 28, 26, 11, 2]\n"
     ]
    }
   ],
   "source": [
    "lotto.sort(reverse=True)   #내림차순으로 '정렬'하는 법!! \n",
    "print(lotto)"
   ]
  },
  {
   "cell_type": "markdown",
   "metadata": {},
   "source": [
    "### `reverse()`\n",
    "\n",
    "반대로 뒤집습니다. (정렬 아님: 원래 있던 순서를 바꾸는 것 뿐)"
   ]
  },
  {
   "cell_type": "code",
   "execution_count": 99,
   "metadata": {},
   "outputs": [
    {
     "name": "stdout",
     "output_type": "stream",
     "text": [
      "['Justin', 'David', 'Tom']\n"
     ]
    }
   ],
   "source": [
    "classroom = ['Tom', 'David', 'Justin']\n",
    "classroom.reverse()\n",
    "print(classroom)"
   ]
  },
  {
   "cell_type": "markdown",
   "metadata": {},
   "source": [
    "## 복사"
   ]
  },
  {
   "cell_type": "code",
   "execution_count": 101,
   "metadata": {},
   "outputs": [
    {
     "name": "stdout",
     "output_type": "stream",
     "text": [
      "<function hello at 0x061B4150>\n"
     ]
    }
   ],
   "source": [
    "def hello():\n",
    "    pass\n",
    "print(hello)"
   ]
  },
  {
   "cell_type": "code",
   "execution_count": null,
   "metadata": {},
   "outputs": [],
   "source": [
    "# 리스트 복사를 해봅시다.\n",
    "original_list = [1, 2, 3]"
   ]
  },
  {
   "cell_type": "code",
   "execution_count": null,
   "metadata": {},
   "outputs": [],
   "source": [
    "# b의 값을 바꾸고 a를 출력해봅시다."
   ]
  },
  {
   "cell_type": "code",
   "execution_count": null,
   "metadata": {},
   "outputs": [],
   "source": [
    "# id 값을 확안해봅시다."
   ]
  },
  {
   "cell_type": "code",
   "execution_count": null,
   "metadata": {},
   "outputs": [],
   "source": [
    "# 숫자를 확인해봅시다."
   ]
  },
  {
   "cell_type": "code",
   "execution_count": null,
   "metadata": {},
   "outputs": [],
   "source": [
    "# 딕셔너리도 확인해봅시다."
   ]
  },
  {
   "cell_type": "markdown",
   "metadata": {},
   "source": [
    "### copy\n",
    "> [pythontutor](http://pythontutor.com/visualize.html#code=lunch%20%3D%20%7B'%EA%B9%80%EB%B0%A5%EC%B2%9C%EA%B5%AD'%3A%20'%EC%B9%98%EC%A6%88%EB%9D%BC%EB%A9%B4',%20'%EA%B9%80%EA%B0%80%EB%84%A4'%3A%20'%EC%A0%9C%EC%9C%A1%EB%B3%B6%EC%9D%8C'%7D%0Aprint%28lunch%29%0Adinner%20%3D%20lunch%0Adinner%5B'%EA%B9%80%EB%B0%A5%EC%B2%9C%EA%B5%AD'%5D%20%3D%20'%EC%B0%B8%EC%B9%98%EA%B9%80%EB%B0%A5'%0Aprint%28lunch%29&cumulative=false&curInstr=0&heapPrimitives=nevernest&mode=display&origin=opt-frontend.js&py=3&rawInputLstJSON=%5B%5D&textReferences=false)를 활용하여 자세하게 알아봅시다.\n",
    "\n",
    "* 파이썬에서 모든 변수는 객체의 주소를 가지고 있을 뿐입니다. \n",
    "\n",
    "```\n",
    "num = [1, 2, 3]\n",
    "```\n",
    "\n",
    "* 위와 같이 변수를 생성하면 hong이라는 객체를 생성하고, 변수에는 객체의 주소가 저장됩니다.\n",
    "\n",
    "* 변경가능한(mutable) 자료형과 변경불가능한(immutable) 자료형은 서로 다르게 동작합니다.\n",
    "\n",
    "따라서, 복사를 하고 싶을 때에는 다음과 같이 해야한다."
   ]
  },
  {
   "cell_type": "code",
   "execution_count": 108,
   "metadata": {},
   "outputs": [
    {
     "name": "stdout",
     "output_type": "stream",
     "text": [
      "[0, 2, 3]\n",
      "[0, 2, 3]\n"
     ]
    }
   ],
   "source": [
    "# 리스트를 복사해봅시다.\n",
    "num = [1, 2, 3]\n",
    "\n",
    "#새 변수명에 이 리스트를 넣어주기만 하면 복사가 될 것만 같은데...\n",
    "num2 = num      #이건 실제로 복사하는 것이 아니라 별명을 붙여주는 것이다.\n",
    "num2[0] = 0\n",
    "\n",
    "print(num2)\n",
    "print(num)      #num2를 변경했더니 num이 변경되어 버린다."
   ]
  },
  {
   "cell_type": "code",
   "execution_count": 109,
   "metadata": {},
   "outputs": [
    {
     "name": "stdout",
     "output_type": "stream",
     "text": [
      "[0, 2, 3]\n",
      "[1, 2, 3]\n"
     ]
    }
   ],
   "source": [
    "# 복사하기 1\n",
    "num = [1, 2, 3]\n",
    "\n",
    "#원본 list를 새로 만든다는 느낌으로! 대표적인 것이 slicing operator다.\n",
    "num3 = num[:]   #slicing하는 척 해서 복사하기\n",
    "\n",
    "num3[0] = 0\n",
    "print(num3)\n",
    "print(num)"
   ]
  },
  {
   "cell_type": "code",
   "execution_count": 110,
   "metadata": {},
   "outputs": [
    {
     "name": "stdout",
     "output_type": "stream",
     "text": [
      "[4, 2, 3]\n",
      "[1, 2, 3]\n"
     ]
    }
   ],
   "source": [
    "# 다른 방법으로 복사해봅시다.\n",
    "\n",
    "num4 = list(num)    #list()를 만드는데 그 인자로 원본리스트를 넣기\n",
    "\n",
    "num4[0] = 4\n",
    "\n",
    "print(num4)\n",
    "print(num)"
   ]
  },
  {
   "cell_type": "markdown",
   "metadata": {},
   "source": [
    "* 하지만, 이렇게 하는 것도 일부 상황에만 서로 다른 **얕은 복사(shallow copy)**입니다."
   ]
  },
  {
   "cell_type": "code",
   "execution_count": 111,
   "metadata": {},
   "outputs": [
    {
     "data": {
      "text/plain": [
       "5"
      ]
     },
     "execution_count": 111,
     "metadata": {},
     "output_type": "execute_result"
    }
   ],
   "source": [
    "# 2차원 배열을 복사해봅시다.\n",
    "\n",
    "# list 안의 list = 2차원배열\n",
    "matrix = [[1, 2, 3],[4, 5, 6]]\n",
    "\n",
    "# 이 경우에는 접근 방법도 색다르다. \n",
    "# 만약 5에 접근하고 싶다면 두 번째의 두 번째 요소로 가야 함 (마치 dict처럼)\n",
    "matrix[1][1]\n",
    "\n",
    "# 행렬을 표현하는 이유?: 좌표값으로 나타낼 수 있으므로(0,1)번째, (0,2)번째 각 데이터 포인트 찍어볼 수 있음\n",
    "# csv가 자료를 다루는 형태가 이러한 2차원 배열이라서 이를 다룰 일이 많을 것이다 ! \n",
    "\n",
    "matrix2 = matrix[:]\n",
    "\n",
    "#잠시 다른 길을 돌아갔을 뿐 (서울-대구-부산이나, 서울-대전-부산이나 둘 다 부산으로 가는 것처럼)\n",
    "#그래도 안에 들어있는 list들은 똑같은 것을 가리키고 있다. \n",
    "#한 꺼풀까지만 복사가 가능하지, 더 깊은 곳의 값까지 접근은 못 하기 때문에 \n",
    "#=> 이런 것을 얕은 복사(shallow copy)라고 한다."
   ]
  },
  {
   "cell_type": "markdown",
   "metadata": {},
   "source": [
    "* 만일 중첩된 상황에서 복사를 하고 싶다면, 깊은 복사(deep copy)를 해야합니다. \n",
    "\n",
    "* 즉, 내부에 있는 모든 객체까지 새롭게 값이 변경됩니다."
   ]
  },
  {
   "cell_type": "code",
   "execution_count": 112,
   "metadata": {},
   "outputs": [
    {
     "name": "stdout",
     "output_type": "stream",
     "text": [
      "[[1, 2, 3], [4, 5, 6]]\n"
     ]
    }
   ],
   "source": [
    "# 깊은 복사를 사용해봅시다.\n",
    "\n",
    "# 끝까지 내려가서 원래 데이터를 가져올 것이냐\n",
    "# 복사를 끝까지 재귀해서 복사할 것이냐\n",
    "# 이거 하나하나 코딩...?!\n",
    "\n",
    "# 외장함수지만 파이썬 내부 기능인 copy 모듈을 사용하면 된다\n",
    "import copy\n",
    "matrix = [[1, 2, 3],[4, 5, 6]]\n",
    "\n",
    "matrix3 = copy.deepcopy(matrix)\n",
    "\n",
    "# deep copy는 몇 겹의 데이터든지 타고 들어가서 복사해온다. 원본 손상이 없다.\n",
    "\n",
    "matrix3[0][0] = 0\n",
    "print(matrix)"
   ]
  },
  {
   "cell_type": "code",
   "execution_count": 113,
   "metadata": {},
   "outputs": [
    {
     "name": "stdout",
     "output_type": "stream",
     "text": [
      "{'name': 'jones', 'job': 'the whitehand'}\n"
     ]
    }
   ],
   "source": [
    "# 딕셔너리도 깊은 복사를 할 수 있다.\n",
    "\n",
    "import copy\n",
    "\n",
    "student = {\n",
    "    'name' : 'angela',\n",
    "    'job' : 'the whitehand'\n",
    "}\n",
    "\n",
    "student2 = student\n",
    "student3 = copy.deepcopy(student)\n",
    "student2['name'] = 'jones'\n",
    "student3['name'] = 'emily'\n",
    "\n",
    "print(student)"
   ]
  },
  {
   "cell_type": "code",
   "execution_count": 116,
   "metadata": {},
   "outputs": [
    {
     "name": "stdout",
     "output_type": "stream",
     "text": [
      "{'name': 'angela', 'job': 'the whitehand', 'company': {'name': 'house', 'address': 'ydp'}}\n"
     ]
    }
   ],
   "source": [
    "# 딕셔너리 얕은 복사 하기\n",
    "student = {\n",
    "    'name' : 'angela',\n",
    "    'job' : 'the whitehand',\n",
    "    'company' : {'name' : 'house',\n",
    "                 'address' : 'sadang'}\n",
    "}\n",
    "\n",
    "student2 = dict(student)\n",
    "\n",
    "student2['name'] = 'jones'\n",
    "student2['company']['address'] = 'ydp'\n",
    "\n",
    "print(student)"
   ]
  },
  {
   "cell_type": "code",
   "execution_count": 117,
   "metadata": {},
   "outputs": [
    {
     "ename": "TypeError",
     "evalue": "'tuple' object does not support item assignment",
     "output_type": "error",
     "traceback": [
      "\u001b[1;31m---------------------------------------------------------------------------\u001b[0m",
      "\u001b[1;31mTypeError\u001b[0m                                 Traceback (most recent call last)",
      "\u001b[1;32m<ipython-input-117-1dd72e6dd4fa>\u001b[0m in \u001b[0;36m<module>\u001b[1;34m\u001b[0m\n\u001b[0;32m      3\u001b[0m \u001b[0mnum\u001b[0m \u001b[1;33m=\u001b[0m \u001b[1;33m(\u001b[0m\u001b[1;36m1\u001b[0m\u001b[1;33m,\u001b[0m \u001b[1;36m2\u001b[0m\u001b[1;33m,\u001b[0m \u001b[1;36m3\u001b[0m\u001b[1;33m,\u001b[0m \u001b[1;36m4\u001b[0m\u001b[1;33m,\u001b[0m \u001b[1;36m5\u001b[0m\u001b[1;33m)\u001b[0m\u001b[1;33m\u001b[0m\u001b[1;33m\u001b[0m\u001b[0m\n\u001b[0;32m      4\u001b[0m \u001b[0mnum2\u001b[0m \u001b[1;33m=\u001b[0m \u001b[0mnum\u001b[0m\u001b[1;33m\u001b[0m\u001b[1;33m\u001b[0m\u001b[0m\n\u001b[1;32m----> 5\u001b[1;33m \u001b[0mnum\u001b[0m\u001b[1;33m[\u001b[0m\u001b[1;36m0\u001b[0m\u001b[1;33m]\u001b[0m \u001b[1;33m=\u001b[0m \u001b[1;36m0\u001b[0m\u001b[1;33m\u001b[0m\u001b[1;33m\u001b[0m\u001b[0m\n\u001b[0m",
      "\u001b[1;31mTypeError\u001b[0m: 'tuple' object does not support item assignment"
     ]
    }
   ],
   "source": [
    "# Tuple은 변경 불가능하기 때문에 별명복사를 해도 의도치 않은 변경이 일어날 수 없다.\n",
    "# 원본변경인지 deepcopy인지 신경쓰는 건 변경가능한 자료들(=list, dict)만 기억하면 된다.\n",
    "\n",
    "num = (1, 2, 3, 4, 5)\n",
    "num2 = num\n",
    "num[0] = 0\n",
    "# TypeError: 'tuple' object does not support item assignment 에러 뜬다"
   ]
  },
  {
   "cell_type": "code",
   "execution_count": 124,
   "metadata": {},
   "outputs": [
    {
     "name": "stdout",
     "output_type": "stream",
     "text": [
      "(['꽝', 2, 3], ['꽝', 5, 6]) (['꽝', 2, 3], ['꽝', 5, 6])\n"
     ]
    }
   ],
   "source": [
    "# 튜플 안에 리스트를 넣으면?\n",
    "\n",
    "num = ([1, 2, 3], [4, 5, 6])\n",
    "num2 = num\n",
    "\n",
    "#인덱싱은 불가능하지만, iteration을 넣어서 값 변경해보자\n",
    "for i in num:\n",
    "    i[0] = '꽝'  #이렇게 이 안에 들어가서 리스트의 내용은 변경할 수 있지만\n",
    "print(num, num2) #튜플 원본 자체는 절대 안바뀐다. 애초에 변경불가라서"
   ]
  },
  {
   "cell_type": "markdown",
   "metadata": {},
   "source": [
    "## `.clear()`\n",
    "\n",
    "리스트의 모든 항목을 삭제합니다."
   ]
  },
  {
   "cell_type": "code",
   "execution_count": null,
   "metadata": {},
   "outputs": [],
   "source": [
    "# clear를 사용해봅시다."
   ]
  },
  {
   "cell_type": "markdown",
   "metadata": {},
   "source": [
    "# List Comprehension\n",
    "\n",
    "List를 만들 수 있는 간단한 방법이 있습니다."
   ]
  },
  {
   "cell_type": "markdown",
   "metadata": {},
   "source": [
    "### 세제곱리스트\n",
    "\n",
    "> 다음의 리스트를 만들어보세요. \n",
    "\n",
    "- 1~10까지의 숫자로 만든 세제곱 담긴 리스트 `cubic_list`"
   ]
  },
  {
   "cell_type": "code",
   "execution_count": 125,
   "metadata": {},
   "outputs": [
    {
     "name": "stdout",
     "output_type": "stream",
     "text": [
      "[1, 2, 3, 4, 5, 6, 7, 8, 9, 10]\n"
     ]
    }
   ],
   "source": [
    "numbers = range(1, 11)\n",
    "\n",
    "numbers = list(range(1, 11))\n",
    "print(numbers)"
   ]
  },
  {
   "cell_type": "code",
   "execution_count": 126,
   "metadata": {},
   "outputs": [
    {
     "name": "stdout",
     "output_type": "stream",
     "text": [
      "[1, 8, 27, 64, 125, 216, 343, 512, 729, 1000]\n"
     ]
    }
   ],
   "source": [
    "# 기존의방법: 하나씩 기존 리스트 돌면서 세제곱한 리스트 생성\n",
    "result = []\n",
    "for num in numbers:\n",
    "    result.append(num ** 3)\n",
    "\n",
    "print(result)"
   ]
  },
  {
   "cell_type": "code",
   "execution_count": 129,
   "metadata": {},
   "outputs": [
    {
     "name": "stdout",
     "output_type": "stream",
     "text": [
      "[1, 8, 27, 64, 125, 216, 343, 512, 729, 1000]\n"
     ]
    }
   ],
   "source": [
    "# List Comprehension\n",
    "# 이제까지는 빈 리스트 먼저 생성하고 > 그 안을 우리가 for문 돌면서 > 빈리스트에 .append로 채웠다면\n",
    "# List comprehension은 리스트 안 for문 돌면서 알아서 파이썬이 넣게끔\n",
    "\n",
    "cubic_list = [num ** 3 for num in numbers]\n",
    "print(cubic_list)"
   ]
  },
  {
   "cell_type": "code",
   "execution_count": null,
   "metadata": {},
   "outputs": [],
   "source": [
    "# set도 이런 comprehension문법을 이용해서 쓸 수 있다.\n",
    "# 처음에는 반복문을 만들고, append하는 내용 줄여서 넣는다고 생각하면 된다."
   ]
  },
  {
   "cell_type": "markdown",
   "metadata": {},
   "source": [
    "### 짝수리스트\n",
    "> 다음의 리스트를 만들어보세요. \n",
    "\n",
    "- 1~10까지의 숫자중 짝수만 담긴 리스트 `even_list`\n",
    "- 여러개의 `for` 혹은 `if`문을 중첩적으로 사용 가능합니다."
   ]
  },
  {
   "cell_type": "code",
   "execution_count": 131,
   "metadata": {},
   "outputs": [],
   "source": [
    "numbers = list(range(1, 11))"
   ]
  },
  {
   "cell_type": "code",
   "execution_count": null,
   "metadata": {},
   "outputs": [],
   "source": [
    "# 기존의방법"
   ]
  },
  {
   "cell_type": "code",
   "execution_count": 135,
   "metadata": {},
   "outputs": [
    {
     "name": "stdout",
     "output_type": "stream",
     "text": [
      "[2, 4, 6, 8, 10]\n"
     ]
    }
   ],
   "source": [
    "# List Comprehension으로는 for를 도는데 if조건에 해당하는 것으로만 돌겠다.\n",
    "even_list = [num for num in numbers if num%2 == 0]\n",
    "even_list = [num for num in numbers if not num%2]   #조금 줄이기\n",
    "print(even_list)"
   ]
  },
  {
   "cell_type": "markdown",
   "metadata": {},
   "source": [
    "### 곱집합\n",
    "\n",
    "> 주어진 두 list의 가능한 모든 조합을 담은 `pair` 리스트를 만들어주세요.\n",
    "\n",
    "1. 반복문 활용\n",
    "2. list comprehension 활용\n",
    "\n",
    "---\n",
    "\n",
    "```\n",
    "girls = ['jane', 'iu', 'mary']\n",
    "boys = ['justin', 'david', 'kim']\n",
    "\n",
    "예시 출력) 최종출력은 이렇게 list 안에 넣어서 모든 combination을 튜플로 보여줌\n",
    "    \n",
    "[('justin', 'jane'), ('justin', 'iu'), ('justin', 'mary'), ('david', 'jane'), ('david', 'iu'), ('david', 'mary'), ('kim', 'jane'), ('kim', 'iu'), ('kim', 'mary')]\n",
    "```  \n",
    "  \n",
    "   \n",
    "- 곱집합 문제 생각보다 많이 나온다. 가능성 경우의 개수를 다 펼쳐놓고 풀어야 하는 알고리즘 문제 꽤 많이 나온다!\n",
    "\n"
   ]
  },
  {
   "cell_type": "code",
   "execution_count": 136,
   "metadata": {},
   "outputs": [],
   "source": [
    "girls = ['jane', 'iu', 'mary']\n",
    "boys = ['justin', 'david', 'kim']"
   ]
  },
  {
   "cell_type": "code",
   "execution_count": 146,
   "metadata": {},
   "outputs": [
    {
     "name": "stdout",
     "output_type": "stream",
     "text": [
      "[('jane', 'justin'), ('jane', 'david'), ('jane', 'kim'), ('iu', 'justin'), ('iu', 'david'), ('iu', 'kim'), ('mary', 'justin'), ('mary', 'david'), ('mary', 'kim')]\n"
     ]
    }
   ],
   "source": [
    "# 반복문을 활용하여 만들어주세요.\n",
    "pair = []\n",
    "for girl in girls:   #girls라는 리스트 돌면서 \n",
    "    for boy in boys:   #boys를 같이 돌기\n",
    "        pair.append((girl, boy))   #결과물은 튜플로 넣기\n",
    "print(pair)"
   ]
  },
  {
   "cell_type": "code",
   "execution_count": 170,
   "metadata": {},
   "outputs": [
    {
     "name": "stdout",
     "output_type": "stream",
     "text": [
      "[('justin', 'jane'), ('justin', 'iu'), ('justin', 'mary'), ('david', 'jane'), ('david', 'iu'), ('david', 'mary'), ('kim', 'jane'), ('kim', 'iu'), ('kim', 'mary')]\n"
     ]
    }
   ],
   "source": [
    "# List comprehension을 활용하여 만들어주세요.\n",
    "# for문 두번 돌리기: [ (list에 넣을 최종형태) for문 중첩for문 ] 왼쪽 for하나씩 돌 때마다 뒤for문 돈다.\n",
    "\n",
    "pair = [(boy, girl) for boy in boys for girl in girls]\n",
    "print(pair)"
   ]
  },
  {
   "cell_type": "markdown",
   "metadata": {},
   "source": [
    "### 피타고라스 정리\n",
    "\n",
    "> 주어진 조건(x < y < z < 50) 내에서 피타고라스 방정식의 해를 찾아보세요.\n",
    "\n",
    "1. 반복문 활용\n",
    "\n",
    "2. list comprehension 활용\n",
    "\n",
    "```\n",
    "예시 출력)\n",
    "[(3, 4, 5), (5, 12, 13), (6, 8, 10), (7, 24, 25), (8, 15, 17), (9, 12, 15), (9, 40, 41), (10, 24, 26), (12, 16, 20), (12, 35, 37), (15, 20, 25), (15, 36, 39), (16, 30, 34), (18, 24, 30), (20, 21, 29), (21, 28, 35), (24, 32, 40), (27, 36, 45)]\n",
    "```"
   ]
  },
  {
   "cell_type": "code",
   "execution_count": 171,
   "metadata": {},
   "outputs": [
    {
     "name": "stdout",
     "output_type": "stream",
     "text": [
      "[(3, 4, 5), (5, 12, 13), (6, 8, 10), (7, 24, 25), (8, 15, 17), (9, 12, 15), (9, 40, 41), (10, 24, 26), (12, 16, 20), (12, 35, 37), (15, 20, 25), (15, 36, 39), (16, 30, 34), (18, 24, 30), (20, 21, 29), (21, 28, 35), (24, 32, 40), (27, 36, 45)]\n"
     ]
    }
   ],
   "source": [
    "# 반복문을 활용하여 만들어주세요.\n",
    "pita = []\n",
    "\n",
    "for x in range(1, 50):\n",
    "    for y in range(1, 50):\n",
    "        for z in range(1, 50): \n",
    "            if x<y<z and x**2 + y**2 == z**2:\n",
    "                pita.append((x, y, z))\n",
    "print(pita)"
   ]
  },
  {
   "cell_type": "code",
   "execution_count": 172,
   "metadata": {},
   "outputs": [
    {
     "name": "stdout",
     "output_type": "stream",
     "text": [
      "[(3, 4, 5), (5, 12, 13), (6, 8, 10), (7, 24, 25), (8, 15, 17), (9, 12, 15), (9, 40, 41), (10, 24, 26), (12, 16, 20), (12, 35, 37), (15, 20, 25), (15, 36, 39), (16, 30, 34), (18, 24, 30), (20, 21, 29), (21, 28, 35), (24, 32, 40), (27, 36, 45)]\n"
     ]
    }
   ],
   "source": [
    "# List comprehension을 활용하여 만들어주세요.\n",
    "\n",
    "pita= [ (x, y, z) for x in range(1, 50) for y in range(1, 50) for z in range(1, 50) if x<y<z<50 and x**2 + y**2 == z**2 ]\n",
    "\n",
    "print(pita)"
   ]
  },
  {
   "cell_type": "markdown",
   "metadata": {},
   "source": [
    "### 모음 제거하기\n",
    "\n",
    "> 다음의 문장에서 모음(a, e, i, o, u)를 모두 제거하시오.\n",
    "\n",
    "1. list comprehension만 사용해보세요.\n",
    "\n",
    "``` \n",
    "    words = 'Life is too short, you need python!'\n",
    "\n",
    "    예시출력)\n",
    "    Lf s t shrt, y nd pythn!\n",
    "```"
   ]
  },
  {
   "cell_type": "code",
   "execution_count": 174,
   "metadata": {},
   "outputs": [
    {
     "name": "stdout",
     "output_type": "stream",
     "text": [
      "Lf s t shrt, y nd pythn!\n"
     ]
    }
   ],
   "source": [
    "# List comprehension을 활용하여 만들어주세요.\n",
    "words = 'Life is too short, you need python!'\n",
    "vowels = 'aeiou'  # =['a', 'e', 'i', 'o', 'u']인 리스트와 본질적으로 똑같다.\n",
    "removed_words = ''.join([ w for w in words if w not in vowels ])\n",
    "print(removed_words)"
   ]
  },
  {
   "cell_type": "markdown",
   "metadata": {},
   "source": [
    "# 딕셔너리 메소드 활용"
   ]
  },
  {
   "cell_type": "markdown",
   "metadata": {},
   "source": [
    "## 추가 및 삭제\n",
    "\n",
    "### `.pop(key[, default])`\n",
    "\n",
    "key가 딕셔너리에 있으면 제거하고 그 값을 돌려줍니다. 그렇지 않으면 default를 반환합니다.\n",
    "\n",
    "default가 없는 상태에서 딕셔너리에 없으면 KeyError가 발생합니다."
   ]
  },
  {
   "cell_type": "code",
   "execution_count": 189,
   "metadata": {},
   "outputs": [
    {
     "data": {
      "text/plain": [
       "'사과'"
      ]
     },
     "execution_count": 189,
     "metadata": {},
     "output_type": "execute_result"
    }
   ],
   "source": [
    "# pop을 사용해봅시다.\n",
    "my_dict = {'apple': '사과', 'banana': '바나나'}\n",
    "\n",
    "#딕셔너리에서 pop은 인자로 key값을 받는다.\n",
    "my_dict.pop('apple')"
   ]
  },
  {
   "cell_type": "code",
   "execution_count": 190,
   "metadata": {},
   "outputs": [
    {
     "name": "stdout",
     "output_type": "stream",
     "text": [
      "{'banana': '바나나'}\n"
     ]
    }
   ],
   "source": [
    "print(my_dict)    #사과 뽑아내고 바나나만 남았다."
   ]
  },
  {
   "cell_type": "code",
   "execution_count": 191,
   "metadata": {},
   "outputs": [
    {
     "ename": "KeyError",
     "evalue": "'apple'",
     "output_type": "error",
     "traceback": [
      "\u001b[1;31m---------------------------------------------------------------------------\u001b[0m",
      "\u001b[1;31mKeyError\u001b[0m                                  Traceback (most recent call last)",
      "\u001b[1;32m<ipython-input-191-85ceb1e0a39f>\u001b[0m in \u001b[0;36m<module>\u001b[1;34m\u001b[0m\n\u001b[0;32m      1\u001b[0m \u001b[1;31m# 딕셔너리에 없으면 에러가 발생합니다\u001b[0m\u001b[1;33m\u001b[0m\u001b[1;33m\u001b[0m\u001b[1;33m\u001b[0m\u001b[0m\n\u001b[1;32m----> 2\u001b[1;33m \u001b[0mmy_dict\u001b[0m\u001b[1;33m.\u001b[0m\u001b[0mpop\u001b[0m\u001b[1;33m(\u001b[0m\u001b[1;34m'apple'\u001b[0m\u001b[1;33m)\u001b[0m\u001b[1;33m\u001b[0m\u001b[1;33m\u001b[0m\u001b[0m\n\u001b[0m",
      "\u001b[1;31mKeyError\u001b[0m: 'apple'"
     ]
    }
   ],
   "source": [
    "# 딕셔너리에 없으면 에러가 발생합니다\n",
    "#이미 뽑아낸 것 또 뽑으면 없다고 에러가 난다. 그러니 key checking을 먼저 하고 빼야 한다! (에러방지)\n",
    "my_dict.pop('apple')"
   ]
  },
  {
   "cell_type": "code",
   "execution_count": 192,
   "metadata": {},
   "outputs": [
    {
     "data": {
      "text/plain": [
       "'키 없음'"
      ]
     },
     "execution_count": 192,
     "metadata": {},
     "output_type": "execute_result"
    }
   ],
   "source": [
    "# 두번째 인자로 default를 설정할 수 있습니다\n",
    "my_dict.pop('apple', '키 없음')  #없으면 '키 없음'으로 한다. 에러 안 난다"
   ]
  },
  {
   "cell_type": "markdown",
   "metadata": {},
   "source": [
    "### `.update()`\n",
    "\n",
    "값을 제공하는 key, value로 덮어씁니다. "
   ]
  },
  {
   "cell_type": "code",
   "execution_count": 195,
   "metadata": {},
   "outputs": [
    {
     "name": "stdout",
     "output_type": "stream",
     "text": [
      "{'apple': '사과아아아', 'banana': '바나나', 'melon': '멜론'}\n",
      "{'apple': '사과예요', 'banana': '바나나', 'melon': '멜론'}\n",
      "{'apple': '사과아아아', 'banana': '바나나아아아', 'melon': '멜로오오온'}\n",
      "{'apple': '사과찡', 'banana': '바나나찡', 'melon': '멜론찡'}\n"
     ]
    }
   ],
   "source": [
    "# update를 사용해봅시다.\n",
    "my_dict = {'apple': '사과', 'banana': '바나나', 'melon': '멜론'}\n",
    "\n",
    "#인자로 뭘 쓰는지 공식문서에서 확인해보자.\n",
    "# 인자로 키워드 인자를 받게끔 되어 있다! **kwargs 즉 인자로dict를 넣거나 unpacking된 것을 넣어야 함\n",
    "my_dict.update(apple='사과아아아')\n",
    "print(my_dict)\n",
    "\n",
    "my_dict['apple'] = '사과예요'   #원래 이렇게 쓰던 거랑 똑같은데??\n",
    "print(my_dict)\n",
    "\n",
    "#update는 한번에 여러 개를 바꿀 수가 있다!!!\n",
    "my_dict.update(apple='사과아아아', banana='바나나아아아', melon='멜로오오온')\n",
    "print(my_dict)\n",
    "\n",
    "# 이걸 좀 더 쉽게 쓸 수 있지 않을까? 새로 Dict를 만들어서 Dict 자체를 넣을 수도 있겠다!\n",
    "# 그래서 사전 자체를 매우 많이 바꿀 필요 있을 때, mass update가 필요할 때 (갈아엎을 때) 사용한다.\n",
    "change_dict = {'apple': '사과찡', 'banana': '바나나찡', 'melon': '멜론찡'}\n",
    "my_dict.update(change_dict)\n",
    "print(my_dict)"
   ]
  },
  {
   "cell_type": "markdown",
   "metadata": {},
   "source": [
    "### `.get(key[, default])`\n",
    "\n",
    "key를 통해 value를 가져옵니다. \n",
    "\n",
    "절대로 KeyError가 발생하지 않습니다. default는 기본적으로 None입니다."
   ]
  },
  {
   "cell_type": "code",
   "execution_count": 198,
   "metadata": {},
   "outputs": [
    {
     "name": "stdout",
     "output_type": "stream",
     "text": [
      "None\n"
     ]
    }
   ],
   "source": [
    "# get을 사용해봅시다.\n",
    "my_dict = {'apple': '사과', 'banana': '바나나', 'melon': '멜론'}\n",
    "\n",
    "#my_dict['pineapple']  #KeyError 뜬다 이 키 없으니까\n",
    "print(my_dict.get('pineapple'))   #에러 방지하기 위해 .get(key) 적는다."
   ]
  },
  {
   "cell_type": "markdown",
   "metadata": {},
   "source": [
    "## dictionary comprehension\n",
    "\n",
    "dictionary도 comprehension을 활용하여 만들 수 있습니다. "
   ]
  },
  {
   "cell_type": "code",
   "execution_count": 201,
   "metadata": {},
   "outputs": [
    {
     "name": "stdout",
     "output_type": "stream",
     "text": [
      "{1, 2, 3, 4, 5, 6, 7, 8, 9, 10}\n"
     ]
    },
    {
     "data": {
      "text/plain": [
       "set"
      ]
     },
     "execution_count": 201,
     "metadata": {},
     "output_type": "execute_result"
    }
   ],
   "source": [
    "# dictionary comprehension\n",
    "cubic_dict = {x for x in range(1, 11)}\n",
    "print(cubic_dict)\n",
    "type(cubic_dict)   #이렇게만 쓰면 set이 되어 버림 같은{}를 사용하므로 "
   ]
  },
  {
   "cell_type": "code",
   "execution_count": 202,
   "metadata": {},
   "outputs": [
    {
     "name": "stdout",
     "output_type": "stream",
     "text": [
      "{1: 1, 2: 8, 3: 27, 4: 64, 5: 125, 6: 216, 7: 343, 8: 512, 9: 729, 10: 1000}\n"
     ]
    }
   ],
   "source": [
    "# dictionary comprehension\n",
    "cubic_dict = {x : x**3 for x in range(1, 11)}   #이렇게 dict로 key : value 지정해서 이후에 for문 쓰면 됨\n",
    "print(cubic_dict)"
   ]
  },
  {
   "cell_type": "markdown",
   "metadata": {},
   "source": [
    "### dictionary comprehension 사용해보기"
   ]
  },
  {
   "cell_type": "markdown",
   "metadata": {},
   "source": [
    "- dict = { < key : value 최종형태로 써주고> for 반복문 if 조건문  }"
   ]
  },
  {
   "cell_type": "code",
   "execution_count": 203,
   "metadata": {},
   "outputs": [],
   "source": [
    "dusts = {'서울': 72, '대전': 82, '구미': 29, '광주': 45, '중국': 200}"
   ]
  },
  {
   "cell_type": "code",
   "execution_count": 207,
   "metadata": {},
   "outputs": [
    {
     "name": "stdout",
     "output_type": "stream",
     "text": [
      "{'대전': 82, '중국': 200}\n"
     ]
    }
   ],
   "source": [
    "# 미세먼지 농도가 80 초과 지역만 뽑아 봅시다.\n",
    "# 예) {'대전': 82, '중국': 200}\n",
    "\n",
    "munji = {k : v for k, v in dusts.items() if v > 80}\n",
    "print(munji)"
   ]
  },
  {
   "cell_type": "raw",
   "metadata": {},
   "source": [
    "{ (some_key if condition else default_key):(something_if_true if condition \n",
    "          else something_if_false) for key, value in dict_.items() }"
   ]
  },
  {
   "cell_type": "code",
   "execution_count": 223,
   "metadata": {},
   "outputs": [
    {
     "name": "stdout",
     "output_type": "stream",
     "text": [
      "{'대전': '나쁨', '중국': '나쁨'}\n",
      "{'서울': '보통', '대전': '나쁨', '구미': '보통', '광주': '보통', '중국': '나쁨'}\n"
     ]
    }
   ],
   "source": [
    "# 미세먼지 농도가 80초과는 나쁨 80이하는 보통으로 하는 value를 가지도록 바꿔봅시다.\n",
    "# key는 그대로 지역 이름 들어가면 되는데,\n",
    "# value는 '나쁨'이나 '보통'이 들어가야 한다.\n",
    "# 1단계; 나쁨만 넣어보기\n",
    "dust_check = { key : '나쁨' for key, value in dusts.items() if value > 80 }\n",
    "print(dust_check)\n",
    "\n",
    "# 2단계; \n",
    "# 조건문이 2개가 들어가야 한다면, 해당 값 자체를 조건식으로 만들어야 한다!!\n",
    "# 간단하게 생각하면: if가 else 이상으로 분기된다면 for 앞으로 당긴다고 생각하면 됨\n",
    "# value에 조건식을 넣어서 하기\n",
    "dust_check = { key : '나쁨' if value > 80 else '보통' for key, value in dusts.items()  }\n",
    "print(dust_check)\n"
   ]
  },
  {
   "cell_type": "code",
   "execution_count": 220,
   "metadata": {
    "scrolled": true
   },
   "outputs": [
    {
     "name": "stdout",
     "output_type": "stream",
     "text": [
      "{'서울': '보통', '대전': '나쁨', '구미': '보통', '광주': '보통', '중국': '나쁨'}\n"
     ]
    }
   ],
   "source": [
    "# 미세먼지 농도가 80초과는 나쁨 80이하는 보통으로 하는 value를 가지도록 바꿔봅시다.\n",
    "# 이렇게 구분지어서 생각하면 이해하기 편하다.\n",
    "munji_status = { (key) : ('나쁨' if value > 80 else '보통') for key, value in dusts.items() }\n",
    "print(munji_status)"
   ]
  },
  {
   "cell_type": "code",
   "execution_count": 224,
   "metadata": {},
   "outputs": [
    {
     "name": "stdout",
     "output_type": "stream",
     "text": [
      "{'서울': '나쁨', '대전': '나쁨', '구미': '보통', '광주': '나쁨', '중국': '매우나쁨'}\n"
     ]
    }
   ],
   "source": [
    "# elif 도 사용할 수 있습니다.\n",
    "# if - else 안에 또 if - else를 넣는 구조로 이중분기를 계속한다고 생각하면 됩니다.\n",
    "\n",
    "dust_check = { key : '매우나쁨' if value > 150 else '나쁨' if value > 30 else '보통' if value >30 else '보통' for key, value in dusts.items()  }\n",
    "print(dust_check)"
   ]
  },
  {
   "cell_type": "markdown",
   "metadata": {},
   "source": [
    "# 세트 메소드 활용"
   ]
  },
  {
   "cell_type": "markdown",
   "metadata": {},
   "source": [
    "## 추가 및 삭제\n",
    "\n",
    "  \n",
    "- 웹에서 자료를 다룰 때는: CRUD Operation (Create, Read, Update, Delete) 만들고 읽고 수정하고 지운다\n",
    "- 어떤 언어, 프로그래밍을 하든 이 4가지를 어떤 방식으로 하는지를 염두에 두자\n",
    "  \n",
    "- Python은 복합 자료형마다 추가, 삭제 메소드 이름들이 제각각이라 불편하긴 하다..\n",
    "\n",
    "### `.add(elem)`\n",
    "elem을 세트에 추가합니다. "
   ]
  },
  {
   "cell_type": "code",
   "execution_count": 225,
   "metadata": {},
   "outputs": [
    {
     "name": "stdout",
     "output_type": "stream",
     "text": [
      "{'수박', '사과', '바나나', '천도복숭아'}\n"
     ]
    }
   ],
   "source": [
    "# add를 사용해봅시다.\n",
    "fruits = {\"사과\", \"바나나\", \"수박\"}\n",
    "fruits.add('천도복숭아')\n",
    "print(fruits)"
   ]
  },
  {
   "cell_type": "markdown",
   "metadata": {},
   "source": [
    "### `update(*others)`\n",
    "\n",
    "여러가지의 값을 추가합니다.\n",
    "\n",
    "여기서 반드시 **iterable**한 값을 넣어야합니다."
   ]
  },
  {
   "cell_type": "code",
   "execution_count": 228,
   "metadata": {},
   "outputs": [
    {
     "name": "stdout",
     "output_type": "stream",
     "text": [
      "{'자두', '바나나', '사과', '천도복숭아', '수박'}\n",
      "{'자두', '바나나', '사과', '천도복숭아', '수박'}\n"
     ]
    }
   ],
   "source": [
    "# update를 사용해봅시다.\n",
    "fruits = {\"사과\", \"바나나\", \"수박\"}\n",
    "fruits.update(['천도복숭아', '자두'])\n",
    "print(fruits)\n",
    "\n",
    "fruits.update(['천도복숭아', '천도복숭아'])   #set이기 때문에 중복해서 계속 넣지 않음\n",
    "print(fruits)"
   ]
  },
  {
   "cell_type": "markdown",
   "metadata": {},
   "source": [
    "### `.remove(elem)`\n",
    "\n",
    "elem을 세트에서 삭제하고, 없으면 KeyError가 발생합니다. "
   ]
  },
  {
   "cell_type": "code",
   "execution_count": 231,
   "metadata": {},
   "outputs": [
    {
     "name": "stdout",
     "output_type": "stream",
     "text": [
      "{'사과', '바나나'}\n"
     ]
    },
    {
     "ename": "KeyError",
     "evalue": "'수박'",
     "output_type": "error",
     "traceback": [
      "\u001b[1;31m---------------------------------------------------------------------------\u001b[0m",
      "\u001b[1;31mKeyError\u001b[0m                                  Traceback (most recent call last)",
      "\u001b[1;32m<ipython-input-231-3343f3133f5e>\u001b[0m in \u001b[0;36m<module>\u001b[1;34m\u001b[0m\n\u001b[0;32m      3\u001b[0m \u001b[0mfruits\u001b[0m\u001b[1;33m.\u001b[0m\u001b[0mremove\u001b[0m\u001b[1;33m(\u001b[0m\u001b[1;34m'수박'\u001b[0m\u001b[1;33m)\u001b[0m\u001b[1;33m\u001b[0m\u001b[1;33m\u001b[0m\u001b[0m\n\u001b[0;32m      4\u001b[0m \u001b[0mprint\u001b[0m\u001b[1;33m(\u001b[0m\u001b[0mfruits\u001b[0m\u001b[1;33m)\u001b[0m\u001b[1;33m\u001b[0m\u001b[1;33m\u001b[0m\u001b[0m\n\u001b[1;32m----> 5\u001b[1;33m \u001b[0mfruits\u001b[0m\u001b[1;33m.\u001b[0m\u001b[0mremove\u001b[0m\u001b[1;33m(\u001b[0m\u001b[1;34m'수박'\u001b[0m\u001b[1;33m)\u001b[0m\u001b[1;33m\u001b[0m\u001b[1;33m\u001b[0m\u001b[0m\n\u001b[0m\u001b[0;32m      6\u001b[0m \u001b[0mprint\u001b[0m\u001b[1;33m(\u001b[0m\u001b[0mfruits\u001b[0m\u001b[1;33m)\u001b[0m\u001b[1;33m\u001b[0m\u001b[1;33m\u001b[0m\u001b[0m\n",
      "\u001b[1;31mKeyError\u001b[0m: '수박'"
     ]
    }
   ],
   "source": [
    "# remove를 사용해봅시다.\n",
    "fruits = {\"사과\", \"바나나\", \"수박\"}\n",
    "fruits.remove('수박')\n",
    "print(fruits)\n",
    "fruits.remove('수박')   #key 없으면 에러남\n",
    "print(fruits)\n"
   ]
  },
  {
   "cell_type": "markdown",
   "metadata": {},
   "source": [
    "### `discard(elem)`\n",
    "x를 세트에서 삭제하고 없어도 에러가 발생하지 않습니다."
   ]
  },
  {
   "cell_type": "code",
   "execution_count": 232,
   "metadata": {},
   "outputs": [
    {
     "name": "stdout",
     "output_type": "stream",
     "text": [
      "{'사과', '바나나'}\n",
      "{'사과', '바나나'}\n"
     ]
    }
   ],
   "source": [
    "# discard를 사용해봅시다.\n",
    "fruits = {\"사과\", \"바나나\", \"수박\"}\n",
    "\n",
    "fruits.discard('수박')\n",
    "print(fruits)\n",
    "fruits.discard('수박')   #없어도 에러 안 남\n",
    "print(fruits)"
   ]
  },
  {
   "cell_type": "markdown",
   "metadata": {},
   "source": [
    "### `pop()`\n",
    "\n",
    "임의의 원소를 제거해 반환합니다.  \n",
    "pop은 자료형들에 다 가능함!"
   ]
  },
  {
   "cell_type": "code",
   "execution_count": 238,
   "metadata": {},
   "outputs": [
    {
     "data": {
      "text/plain": [
       "'사과'"
      ]
     },
     "execution_count": 238,
     "metadata": {},
     "output_type": "execute_result"
    }
   ],
   "source": [
    "# pop을 사용해봅시다.\n",
    "a = {\"사과\", \"바나나\", \"수박\", \"아보카도\"}\n",
    "a.pop()\n",
    "a.pop()\n",
    "# list 기준으로 생각했을 때, 인자가 없으면 마지막부터 pop이 되는 건데 \n",
    "# set은 인자를 정하지 않으면 pop하면 임의의 값(=랜덤)을 팝한다."
   ]
  },
  {
   "cell_type": "markdown",
   "metadata": {},
   "source": [
    "#### (중요) 자료구조: string, list, dict, set 이 4가지 각각에 대해 CRUD 정리해보자!!"
   ]
  },
  {
   "cell_type": "markdown",
   "metadata": {},
   "source": [
    "##  `map()`, `zip()`, `filter()`"
   ]
  },
  {
   "cell_type": "markdown",
   "metadata": {},
   "source": [
    "### `map(function, iterable)`\n",
    "\n",
    "* Iterable의 모든 원소에 function을 적용한 후 그 결과를 돌려줍니다. (중요한건 iterable!!!)\n",
    "\n",
    "* 대표적으로 iterable한 타입 - list, dict, set, str, bytes, tuple, range\n",
    "\n",
    "* return은 map_object 형태로 됩니다."
   ]
  },
  {
   "cell_type": "code",
   "execution_count": 242,
   "metadata": {},
   "outputs": [
    {
     "data": {
      "text/plain": [
       "<function __main__.add_three(x)>"
      ]
     },
     "execution_count": 242,
     "metadata": {},
     "output_type": "execute_result"
    }
   ],
   "source": [
    "def add_three(x):\n",
    "    #인자로 하나만 받아서 +3하는 함수\n",
    "    return x + 3\n",
    "add_three(3)\n",
    "\n",
    "# 파이썬이 컴퓨터 저장 공간 어딘가에 def add_three()를 저장해놨을 것이다. \n",
    "# 그래서 해당 메모리값으로 무얼 할 수 있느냐?\n",
    "# 다른 변수명으로 이 함수 동작을 별명을 지어 사용 가능하다.\n",
    "# 이렇게 함수는 어딘가에 전달도 되고, 변수처럼 활용도 되고 한다.\n",
    "# a3만 불러보면 함수라는 <function __main__.add_three(x)> 내용이 나오기도 함\n",
    "\n",
    "a3 = add_three\n",
    "a3(3)\n",
    "a3"
   ]
  },
  {
   "cell_type": "code",
   "execution_count": 247,
   "metadata": {},
   "outputs": [
    {
     "data": {
      "text/plain": [
       "['1', '2', '3']"
      ]
     },
     "execution_count": 247,
     "metadata": {},
     "output_type": "execute_result"
    }
   ],
   "source": [
    "numbers = [1, 2, 3]\n",
    "\n",
    "#세제곱하기\n",
    "cubic_numbers = [n**3 for n in numbers]\n",
    "\n",
    "#문자로 만들기\n",
    "str_numbers = [str(n) for n in numbers]\n",
    "\n",
    "### map\n",
    "#각각의 요소들에 함수를 적용할 일 있을 때 map 쓴다.\n",
    "# 1. map은 첫번째 인자로 적용하고자 하는 함수가 들어간다.\n",
    "# 여기서는 str()을 사용할 것. 중요한 건 \"함수명\"을 전달해줘야 한다는 것이다!!! 함수를 호출하는 게 X\n",
    "# 2. 두번째 인자는 적용할 iterable한 것들 : list, dict, set, string, range\n",
    "# 리턴값은 map object고 이대로는 못 쓰니까, list로 바꿔줄 수가 있다.\n",
    "\n",
    "list(map(str, numbers))"
   ]
  },
  {
   "cell_type": "code",
   "execution_count": 248,
   "metadata": {},
   "outputs": [
    {
     "data": {
      "text/plain": [
       "[1, 8, 27]"
      ]
     },
     "execution_count": 248,
     "metadata": {},
     "output_type": "execute_result"
    }
   ],
   "source": [
    "# 없는 함수 쓰기 위해서는 함수 먼저 정의하기\n",
    "def my_cube(x):\n",
    "    return x ** 3\n",
    "\n",
    "list(map(my_cube, numbers))"
   ]
  },
  {
   "cell_type": "code",
   "execution_count": null,
   "metadata": {},
   "outputs": [],
   "source": [
    "# list comprehension"
   ]
  },
  {
   "cell_type": "code",
   "execution_count": 249,
   "metadata": {},
   "outputs": [
    {
     "data": {
      "text/plain": [
       "[1, 2, 3]"
      ]
     },
     "execution_count": 249,
     "metadata": {},
     "output_type": "execute_result"
    }
   ],
   "source": [
    "chars = ['1', '2', '3']\n",
    "# 위의 코드를 [1, 2, 3]으로 만들어봅시다.\n",
    "list(map(int, chars))"
   ]
  },
  {
   "cell_type": "code",
   "execution_count": null,
   "metadata": {},
   "outputs": [],
   "source": [
    "# list comprehension\n",
    "# map은 comprehension보다 코드가 더더더더더더욱 줄어든다!!\n",
    "# 그리고 직관적이다. char라는 list 각 요소에 int라는 함수를 적용하는구나 이런 식으로!"
   ]
  },
  {
   "cell_type": "markdown",
   "metadata": {},
   "source": [
    "* function은 사용자 정의 함수도 가능합니다."
   ]
  },
  {
   "cell_type": "code",
   "execution_count": null,
   "metadata": {},
   "outputs": [],
   "source": [
    "# 세제곱의 결과를 나타내는 함수\n",
    "def cube(n):\n",
    "    return n**3"
   ]
  },
  {
   "cell_type": "code",
   "execution_count": 250,
   "metadata": {},
   "outputs": [
    {
     "ename": "TypeError",
     "evalue": "add_pair() missing 1 required positional argument: 'b'",
     "output_type": "error",
     "traceback": [
      "\u001b[1;31m---------------------------------------------------------------------------\u001b[0m",
      "\u001b[1;31mTypeError\u001b[0m                                 Traceback (most recent call last)",
      "\u001b[1;32m<ipython-input-250-c871bef0a6da>\u001b[0m in \u001b[0;36m<module>\u001b[1;34m\u001b[0m\n\u001b[0;32m      7\u001b[0m     \u001b[1;32mreturn\u001b[0m \u001b[0ma\u001b[0m \u001b[1;33m+\u001b[0m \u001b[0mb\u001b[0m\u001b[1;33m\u001b[0m\u001b[1;33m\u001b[0m\u001b[0m\n\u001b[0;32m      8\u001b[0m \u001b[1;33m\u001b[0m\u001b[0m\n\u001b[1;32m----> 9\u001b[1;33m \u001b[0mlist\u001b[0m\u001b[1;33m(\u001b[0m\u001b[0mmap\u001b[0m\u001b[1;33m(\u001b[0m\u001b[0madd_pair\u001b[0m\u001b[1;33m,\u001b[0m \u001b[0mnumber_pair\u001b[0m\u001b[1;33m)\u001b[0m\u001b[1;33m)\u001b[0m\u001b[1;33m\u001b[0m\u001b[1;33m\u001b[0m\u001b[0m\n\u001b[0m",
      "\u001b[1;31mTypeError\u001b[0m: add_pair() missing 1 required positional argument: 'b'"
     ]
    }
   ],
   "source": [
    "# 여러 인자를 map에 넣기 위해서는??\n",
    "# 인자를 두 개 받는 함수에 Tuple을 넣어보자. (이런 거 쓸 일 거의 없음)\n",
    "\n",
    "number_pair = [(5, 5), (10, 10), (100, 100)]\n",
    "\n",
    "def add_pair(a, b):\n",
    "    return a + b\n",
    "\n",
    "list(map(add_pair, number_pair))\n",
    "# TypeError: add_pair() missing 1 required positional argument: 'b' 에러가 난다.\n",
    "# 각각을 그대로 못 넣고, Unpacking이 필요하다.\n",
    "# Tuple로 받아서 하나씩 뽑아내야만 한다...?! 으아 귀찮다.\n",
    "# 그래서 map 사용할 때는 인자 하나를 받고 인자 하나를 리턴하는 것에만 쓰는 것이 \"표준\" 입니다~!!"
   ]
  },
  {
   "cell_type": "markdown",
   "metadata": {},
   "source": [
    "### `zip(*iterables)` \n",
    "\n",
    "* 복수 iterable한 것들을 모아준다.\n",
    "\n",
    "* 결과는 튜플의 모음으로 구성된 zip object를 반환한다.\n",
    "- 두 개를 짝 지을 때 사용한다."
   ]
  },
  {
   "cell_type": "code",
   "execution_count": null,
   "metadata": {},
   "outputs": [],
   "source": [
    "# 예시를 봅시다.\n",
    "girls = ['jane', 'iu', 'mary']\n",
    "boys = ['justin', 'david', 'kim']"
   ]
  },
  {
   "cell_type": "code",
   "execution_count": 256,
   "metadata": {},
   "outputs": [
    {
     "data": {
      "text/plain": [
       "[('jane', 'justin'), ('iu', 'david'), ('mary', 'kim')]"
      ]
     },
     "execution_count": 256,
     "metadata": {},
     "output_type": "execute_result"
    }
   ],
   "source": [
    "# for문으로 한 명씩 순서대로 매칭시켜봅시다.\n",
    "# 예) {'jane': 'justin', 'iu': 'david', 'mary': 'kim'}\n",
    "\n",
    "#묶기: 순서는 그대로 매칭시켜준다.\n",
    "list(zip(girls, boys))"
   ]
  },
  {
   "cell_type": "markdown",
   "metadata": {},
   "source": [
    "* 아래와 같이 사용가능하다."
   ]
  },
  {
   "cell_type": "code",
   "execution_count": 258,
   "metadata": {},
   "outputs": [
    {
     "name": "stdout",
     "output_type": "stream",
     "text": [
      "1 5\n",
      "2 6\n",
      "3 7\n"
     ]
    }
   ],
   "source": [
    "a = '123'\n",
    "b = '567'\n",
    "\n",
    "for digit_a, digit_b in zip(a, b):\n",
    "    print(digit_a, digit_b)\n",
    "\n",
    "#이렇게 같은 idx끼리 짝지어 매칭시킨 결과가 필요할 때 zip을 사용한다."
   ]
  },
  {
   "cell_type": "markdown",
   "metadata": {},
   "source": [
    "* zip은 반드시 길이가 같을 때 사용해야한다. 가장 짧은 것을 기준으로 구성한다."
   ]
  },
  {
   "cell_type": "code",
   "execution_count": 260,
   "metadata": {},
   "outputs": [
    {
     "data": {
      "text/plain": [
       "[(1, '1'), (2, '2')]"
      ]
     },
     "execution_count": 260,
     "metadata": {},
     "output_type": "execute_result"
    }
   ],
   "source": [
    "num1 = [1, 2, 3]\n",
    "num2 = ['1', '2']\n",
    "list(zip(num1, num2))\n",
    "\n",
    "#숫자 차이가 나면 끝에 남은 것들은 깍두기 되고 끝낸다."
   ]
  },
  {
   "cell_type": "markdown",
   "metadata": {},
   "source": [
    "* 길이가 긴 것을 맞춰서 할 수도 있지만, 사용할 일이 없다.\n",
    "  \n",
    "  \n",
    "- itertools: 반복을 할 때, 부족한 것들을 채워주는 여러 함수를 갖고 있다. (내장기능)"
   ]
  },
  {
   "cell_type": "code",
   "execution_count": 262,
   "metadata": {},
   "outputs": [
    {
     "data": {
      "text/plain": [
       "[(1, '1'), (2, '2'), (3, 0)]"
      ]
     },
     "execution_count": 262,
     "metadata": {},
     "output_type": "execute_result"
    }
   ],
   "source": [
    "from itertools import zip_longest\n",
    "list(zip_longest(num1, num2, fillvalue=0))"
   ]
  },
  {
   "cell_type": "markdown",
   "metadata": {},
   "source": [
    "### `filter(function, iterable)`\n",
    "\n",
    "* iterable에서 function의 반환된 결과가 참인 것들만 구성하여 반환한다.\n",
    "- filter는 map과 구조가 똑같다!\n",
    "- filter는 걸러준다."
   ]
  },
  {
   "cell_type": "code",
   "execution_count": null,
   "metadata": {},
   "outputs": [],
   "source": [
    "# 짝수인지 판단하는 함수를 작성해봅시다."
   ]
  },
  {
   "cell_type": "code",
   "execution_count": 253,
   "metadata": {},
   "outputs": [],
   "source": [
    "def even(n):\n",
    "    return not n%2"
   ]
  },
  {
   "cell_type": "code",
   "execution_count": null,
   "metadata": {},
   "outputs": [],
   "source": [
    "# 다음의 list comprehension과 동일하다."
   ]
  },
  {
   "cell_type": "code",
   "execution_count": 254,
   "metadata": {},
   "outputs": [
    {
     "name": "stdout",
     "output_type": "stream",
     "text": [
      "[2, 4, 6, 8, 10, 12, 14, 16, 18, 20, 22, 24, 26, 28, 30]\n"
     ]
    },
    {
     "data": {
      "text/plain": [
       "[2, 4, 6, 8, 10, 12, 14, 16, 18, 20, 22, 24, 26, 28, 30]"
      ]
     },
     "execution_count": 254,
     "metadata": {},
     "output_type": "execute_result"
    }
   ],
   "source": [
    "numbers = list(range(1, 31))\n",
    "def even(n):\n",
    "    return not n%2\n",
    "\n",
    "# for버전\n",
    "evens = []\n",
    "for num in numbers:\n",
    "    if not num%2:\n",
    "        evens.append(num)\n",
    "print(evens)\n",
    "\n",
    "# comprehension 버전 \n",
    "evens = [num for num in numbers if not num%2]\n",
    "\n",
    "# filter 버전 : 결과물은 filter obj이기 때문에 list로 형변환\n",
    "list(filter(even, numbers))"
   ]
  },
  {
   "cell_type": "markdown",
   "metadata": {},
   "source": [
    "map, filter를 하기 위해서 여태까지 쭉 봐온 것이다!"
   ]
  },
  {
   "cell_type": "markdown",
   "metadata": {},
   "source": [
    "### Set을 이용한 Comprehension\n",
    "  \n",
    "  \n",
    "- 셰익스피어 한여름밤의 꿈 Text: https://bit.do/sspy2_text "
   ]
  },
  {
   "cell_type": "code",
   "execution_count": 187,
   "metadata": {},
   "outputs": [
    {
     "name": "stdout",
     "output_type": "stream",
     "text": [
      "41450\n",
      "{'redder'}\n"
     ]
    }
   ],
   "source": [
    "import requests\n",
    "\n",
    "url = 'http://composingprograms.com/shakespeare.txt'\n",
    "res = requests.get(url)\n",
    "#print(res.text)   #그냥 프린트해서 보려면IO Pub data rate exceeded라고 에러 난다.\n",
    "novel = res.text    #변수 소설novel로 저장해놓자\n",
    "\n",
    "#단어 몇 개인지 카운트하려면? split으로 끊기\n",
    "words = novel.split(' ')\n",
    "\n",
    "len(words)   #총 90만 단어다\n",
    "# unique한 단어들만 뽑기. 중복제외하기. = set으로 하기\n",
    "print(len(set(words)))    #중복 다 제외해서 4만 단어로 줄어든다.\n",
    "\n",
    "# Set Comprehension도 List Comp와 거의 똑같다.\n",
    "# 단어 길이가 6보다 긴 단어\n",
    "#print(set(word for word in words if len(word) > 6))\n",
    "# 6글자 이상이면서 Palindrome인 것 찾기\n",
    "print(set(word for word in words if len(word) >= 6 and word == word[::-1]))\n",
    "\n",
    "#데이터분석할 때 set comprehension하면 runtime에서 내가 원하는 데이터 알아보기 아주 좋다."
   ]
  }
 ],
 "metadata": {
  "kernelspec": {
   "display_name": "Python 3",
   "language": "python",
   "name": "python3"
  },
  "language_info": {
   "codemirror_mode": {
    "name": "ipython",
    "version": 3
   },
   "file_extension": ".py",
   "mimetype": "text/x-python",
   "name": "python",
   "nbconvert_exporter": "python",
   "pygments_lexer": "ipython3",
   "version": "3.7.3"
  },
  "toc": {
   "base_numbering": 1,
   "nav_menu": {},
   "number_sections": true,
   "sideBar": true,
   "skip_h1_title": false,
   "title_cell": "Table of Contents",
   "title_sidebar": "Contents",
   "toc_cell": false,
   "toc_position": {},
   "toc_section_display": true,
   "toc_window_display": false
  }
 },
 "nbformat": 4,
 "nbformat_minor": 2
}
