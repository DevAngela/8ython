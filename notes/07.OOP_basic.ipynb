{
 "cells": [
  {
   "cell_type": "code",
   "execution_count": null,
   "metadata": {},
   "outputs": [],
   "source": [
    "from IPython.display import IFrame"
   ]
  },
  {
   "cell_type": "markdown",
   "metadata": {},
   "source": [
    "# OOP with python\n",
    "\n",
    "## 시작하기전에\n",
    "\n",
    "<wikipedia - 객체지향 프로그래밍> \n",
    ">\n",
    "> 객체 지향 프로그래밍(영어: Object-Oriented Programming, OOP)은 컴퓨터 프로그래밍의 패러다임의 하나이다. 객체 지향 프로그래밍은 컴퓨터 프로그램을 명령어의 목록으로 보는 시각에서 벗어나 여러 개의 독립된 단위, 즉 \"객체\"들의 모임으로 파악하고자 하는 것이다. 각각의 객체는 메시지를 주고받고, 데이터를 처리할 수 있다.\n",
    ">\n",
    "> 명령형 프로그래밍인 절차지향 프로그래밍에서 발전된 형태를 나타내며, 기본 구성요소는 다음과 같다.\n",
    "\n",
    "* 클래스(Class) \n",
    "    - 같은 종류(또는 문제 해결을 위한)의 집단에 속하는 **속성(attribute)**과 **행위(behavior)**를 정의한 것으로 객체지향 프로그램의 기본적인 사용자 정의 데이터형(user define data type)이라고 할 수 있다\n",
    "    - 클래스는 프로그래머가 아니지만 해결해야 할 문제가 속하는 영역에 종사하는 사람이라면 사용할 수 있고, 다른 클래스 또는 외부 요소와 독립적으로 디자인하여야 한다.\n",
    "\n",
    "\n",
    "* 인스턴스(instance) \n",
    "    - 클래스의 인스턴스/객체(실제로 메모리상에 할당된 것)이다. \n",
    "    - 객체는 자신 고유의 속성(attribute)을 가지며 클래스에서 정의한 행위(behavior)를 수행할 수 있다. \n",
    "    - 객체의 행위는 클래스에 정의된 행위에 대한 정의(메서드)를 공유함으로써 메모리를 경제적으로 사용한다.\n",
    "\n",
    "\n",
    "* 속성(attribute) \n",
    "    - 클래스/인스턴스 가 가지고 있는 속성(값)\n",
    "\n",
    "\n",
    "* 메서드(Method) \n",
    "    - 클래스/인스턴스 가 할 수 있는 행위(함수)"
   ]
  },
  {
   "cell_type": "markdown",
   "metadata": {},
   "source": [
    "\n",
    "\n",
    "| class / type | instance                 | attributes       | methods                                |\n",
    "| ------------ | ------------------------ | ---------------- | -------------------------------------- |\n",
    "| `str`        | `''`, `'hello'`, `'123'` |       _          | `.capitalize()`, `.join()`, `.split()` |\n",
    "| `list`       | `[]`, `['a', 'b']`       |       _          | `.append()`, `reverse()`, `sort()`     |\n",
    "| `dict`       | `{}`, `{'key': 'value'}` |       _          | `.keys()`, `.values()`, `.items().`    |\n",
    "| `int`        | `0`, `1`, `2`            | `.real`, `.imag` |                                        |"
   ]
  },
  {
   "cell_type": "code",
   "execution_count": 5,
   "metadata": {},
   "outputs": [
    {
     "data": {
      "text/plain": [
       "<function complex.conjugate>"
      ]
     },
     "execution_count": 5,
     "metadata": {},
     "output_type": "execute_result"
    }
   ],
   "source": [
    "# 복소수를 하나 만들어보고, 타입을 출력해봅시다.\n",
    "\n",
    "complex_num = 3 + 2j\n",
    "\n",
    "complex_num.real   #실수부\n",
    "complex_num.imag  #허수부\n",
    "\n",
    "#class에는 내부에 데이터가 들어가있거나, 이것의 속성 파악하는 .real, .imag 같은 속성이 있을 수 있음\n",
    "# 그리고 이것을 조작하는 methods들이 들어있는 경우도 있다. \n",
    "\n",
    "dir(complex_num)\n",
    "\n",
    "complex_num.conjugate  #이건 methods function이라고 알려주고 있다. "
   ]
  },
  {
   "cell_type": "markdown",
   "metadata": {},
   "source": [
    "> 위에서 말한 속성(값)과 행위(메서드)를 명확히 구분해 봅시다\n",
    "\n",
    "* `complex` class의 객체들의 속성들을 확인해 봅시다."
   ]
  },
  {
   "cell_type": "code",
   "execution_count": 6,
   "metadata": {},
   "outputs": [
    {
     "name": "stdout",
     "output_type": "stream",
     "text": [
      "3.0\n",
      "2.0\n"
     ]
    }
   ],
   "source": [
    "# 허수부랑 실수부를 함께 출력해봅시다. complex 객체의 실수 속성과 허수 속성이라고도 표현 가능합니다.\n",
    "\n",
    "print(complex_num.real)\n",
    "print(complex_num.imag)"
   ]
  },
  {
   "cell_type": "markdown",
   "metadata": {},
   "source": [
    "* `list` class의 객체들이 할 수 있는 행위(메서드)들을 확인해 봅시다."
   ]
  },
  {
   "cell_type": "code",
   "execution_count": 10,
   "metadata": {},
   "outputs": [
    {
     "name": "stdout",
     "output_type": "stream",
     "text": [
      "[1, 2, 3]\n"
     ]
    }
   ],
   "source": [
    "# 리스트를 하나 만들고 정렬해봅시다. list 객체의 메서드 실행이라고도 표현 가능합니다.\n",
    "\n",
    "nums = [1, 2, 3]\n",
    "\n",
    "dir(nums)\n",
    "\n",
    "nums.sort()\n",
    "\n",
    "print(nums)\n"
   ]
  },
  {
   "cell_type": "code",
   "execution_count": 9,
   "metadata": {},
   "outputs": [
    {
     "data": {
      "text/plain": [
       "['__add__',\n",
       " '__class__',\n",
       " '__contains__',\n",
       " '__delattr__',\n",
       " '__delitem__',\n",
       " '__dir__',\n",
       " '__doc__',\n",
       " '__eq__',\n",
       " '__format__',\n",
       " '__ge__',\n",
       " '__getattribute__',\n",
       " '__getitem__',\n",
       " '__gt__',\n",
       " '__hash__',\n",
       " '__iadd__',\n",
       " '__imul__',\n",
       " '__init__',\n",
       " '__init_subclass__',\n",
       " '__iter__',\n",
       " '__le__',\n",
       " '__len__',\n",
       " '__lt__',\n",
       " '__mul__',\n",
       " '__ne__',\n",
       " '__new__',\n",
       " '__reduce__',\n",
       " '__reduce_ex__',\n",
       " '__repr__',\n",
       " '__reversed__',\n",
       " '__rmul__',\n",
       " '__setattr__',\n",
       " '__setitem__',\n",
       " '__sizeof__',\n",
       " '__str__',\n",
       " '__subclasshook__',\n",
       " 'append',\n",
       " 'clear',\n",
       " 'copy',\n",
       " 'count',\n",
       " 'extend',\n",
       " 'index',\n",
       " 'insert',\n",
       " 'pop',\n",
       " 'remove',\n",
       " 'reverse',\n",
       " 'sort']"
      ]
     },
     "execution_count": 9,
     "metadata": {},
     "output_type": "execute_result"
    }
   ],
   "source": [
    "# list class 의 객체들이 할 수 있는 것들을 알아봅시다. (list 객체가 가지고 있는 모든 속성과 메서드를 보여줍니다.)\n",
    "\n",
    "dir(nums)   \n",
    "#메서드들이 나온다. __로 되어 있는 건 파이썬의 고유 내장함수,operator 사용할 수 있는지에 대해 알려주는 부분"
   ]
  },
  {
   "cell_type": "markdown",
   "metadata": {},
   "source": [
    "## 실습 (without OOP)\n",
    "\n",
    "> 프로그래밍으로, 현재 나의 핸드폰을 코드로 옮겨봅시다.\n",
    "\n",
    "**정답은 없습니다. 자유롭게 구현해 봅시다.**\n",
    "\n",
    "* 핸드폰은 다음과 같은 속성(값)을 가지고 있습니다.\n",
    "    * 전원(`power`) - `bool`\n",
    "    * 내 전화번호(`number`) - `str`\n",
    "    * 전화번호부(`book`) - `dict`\n",
    "    * 모델명(`model`) - `str`\n",
    "\n",
    "* 핸드폰은 다음과 같은 다음과 같은 행동(함수)을 할 수 있습니다.\n",
    "    * 켜기(`on()`)\n",
    "    * 끄기(`off()`)\n",
    "    * 내 전화번호 설정하기(`set_my_number(number)`)\n",
    "    * 전화걸기(`call(number)`)\n",
    "    * 전화번호부에 번호 저장하기(`save(name, number)`)"
   ]
  },
  {
   "cell_type": "code",
   "execution_count": 18,
   "metadata": {},
   "outputs": [],
   "source": [
    "# 아래에 자유롭게 코드를 작성해보세요.\n",
    "\n",
    "power = False\n",
    "number = ''\n",
    "book = {}\n",
    "model = 'iPhone6'\n",
    "\n",
    "#객체 다룰 함수(동작) 만들어봄\n",
    "def on():\n",
    "    if not power:\n",
    "        power = True\n",
    "        return power\n",
    "    \n",
    "def off(power):\n",
    "    power = False\n",
    "    return power\n",
    "\n",
    "def set_my_number(nums):\n",
    "    number = nums\n",
    "    return number\n",
    "\n",
    "def call(nums):\n",
    "    if nums in book.values():\n",
    "        print(f'{nums}에게 전화를 걸고 있다.')\n",
    "    else:\n",
    "        print(f'{nums}는 없는 번호다.')\n",
    "\n",
    "def save(name, nums):\n",
    "    book[name] = nums\n",
    "    return book\n",
    "\n"
   ]
  },
  {
   "cell_type": "code",
   "execution_count": null,
   "metadata": {},
   "outputs": [],
   "source": [
    "# 핸드폰을 켜지 않고 이런저런 일을 해 봅시다."
   ]
  },
  {
   "cell_type": "code",
   "execution_count": 20,
   "metadata": {},
   "outputs": [
    {
     "ename": "UnboundLocalError",
     "evalue": "local variable 'power' referenced before assignment",
     "output_type": "error",
     "traceback": [
      "\u001b[1;31m---------------------------------------------------------------------------\u001b[0m",
      "\u001b[1;31mUnboundLocalError\u001b[0m                         Traceback (most recent call last)",
      "\u001b[1;32m<ipython-input-20-3039fce09c00>\u001b[0m in \u001b[0;36m<module>\u001b[1;34m\u001b[0m\n\u001b[0;32m      1\u001b[0m \u001b[1;31m# 핸드폰을 켜봅시다.\u001b[0m\u001b[1;33m\u001b[0m\u001b[1;33m\u001b[0m\u001b[1;33m\u001b[0m\u001b[0m\n\u001b[1;32m----> 2\u001b[1;33m \u001b[0mon\u001b[0m\u001b[1;33m(\u001b[0m\u001b[1;33m)\u001b[0m\u001b[1;33m\u001b[0m\u001b[1;33m\u001b[0m\u001b[0m\n\u001b[0m",
      "\u001b[1;32m<ipython-input-18-3bee8ec0bb60>\u001b[0m in \u001b[0;36mon\u001b[1;34m()\u001b[0m\n\u001b[0;32m      8\u001b[0m \u001b[1;31m#객체 다룰 함수(동작) 만들어봄\u001b[0m\u001b[1;33m\u001b[0m\u001b[1;33m\u001b[0m\u001b[1;33m\u001b[0m\u001b[0m\n\u001b[0;32m      9\u001b[0m \u001b[1;32mdef\u001b[0m \u001b[0mon\u001b[0m\u001b[1;33m(\u001b[0m\u001b[1;33m)\u001b[0m\u001b[1;33m:\u001b[0m\u001b[1;33m\u001b[0m\u001b[1;33m\u001b[0m\u001b[0m\n\u001b[1;32m---> 10\u001b[1;33m     \u001b[1;32mif\u001b[0m \u001b[1;32mnot\u001b[0m \u001b[0mpower\u001b[0m\u001b[1;33m:\u001b[0m\u001b[1;33m\u001b[0m\u001b[1;33m\u001b[0m\u001b[0m\n\u001b[0m\u001b[0;32m     11\u001b[0m         \u001b[0mpower\u001b[0m \u001b[1;33m=\u001b[0m \u001b[1;32mTrue\u001b[0m\u001b[1;33m\u001b[0m\u001b[1;33m\u001b[0m\u001b[0m\n\u001b[0;32m     12\u001b[0m         \u001b[1;32mreturn\u001b[0m \u001b[0mpower\u001b[0m\u001b[1;33m\u001b[0m\u001b[1;33m\u001b[0m\u001b[0m\n",
      "\u001b[1;31mUnboundLocalError\u001b[0m: local variable 'power' referenced before assignment"
     ]
    }
   ],
   "source": [
    "# 핸드폰을 켜봅시다. \n",
    "on()\n",
    "\n",
    "#아래와 같이 에러 UnboundLocalError 나온다. phone의 power와 on() 함수가 연결이 안 됨.\n",
    "# 이런 것들 연결하기 위해 global 변수로 가져오고 그러면 억지스럽게 가져오는 것..."
   ]
  },
  {
   "cell_type": "code",
   "execution_count": null,
   "metadata": {},
   "outputs": [],
   "source": [
    "# 켜지지 않습니다.. 어째서 그런 걸까요?"
   ]
  },
  {
   "cell_type": "code",
   "execution_count": 21,
   "metadata": {},
   "outputs": [
    {
     "data": {
      "text/plain": [
       "{'angela': '01013134545'}"
      ]
     },
     "execution_count": 21,
     "metadata": {},
     "output_type": "execute_result"
    }
   ],
   "source": [
    "# save 를 통해 번호를 저장해 봅시다.\n",
    "save('angela', '01013134545')\n",
    "\n",
    "#dict는 mutable객체니까 계속 데이터 쌓여나가는 것 볼 수 있다."
   ]
  },
  {
   "cell_type": "code",
   "execution_count": 23,
   "metadata": {
    "scrolled": true
   },
   "outputs": [
    {
     "data": {
      "text/plain": [
       "'01013134545로 전화거는 중'"
      ]
     },
     "execution_count": 23,
     "metadata": {},
     "output_type": "execute_result"
    }
   ],
   "source": [
    "# call 을 통해 전화를 걸어봅시다.\n",
    "call('01013134545')"
   ]
  },
  {
   "cell_type": "markdown",
   "metadata": {},
   "source": [
    "### 문제점\n",
    "\n",
    "현재 코드로 구현한 핸드폰에서 잘못되었다고 느껴지거나 문제가 발생할 만한 요소들을 이야기 해 봅시다. \n",
    "\n",
    "기존의 방식대로 다른 사람의 핸드폰을 구현해야 한다면? 그 수가 엄청 많다면?? 새 파일(모듈)?"
   ]
  },
  {
   "cell_type": "markdown",
   "metadata": {},
   "source": [
    "- phone이라는 큰 분류를 이해하지 못 하고 있다. 이 코드는..\n",
    "- 사물들 간의 계층구조도 제대로 표현되지 못 하고 있다. (on-off 함수 간 관계 등등)\n",
    "- 우리의 사고방식 그대로 코드를 짤 수 있게끔 해주는 것이 Class문법"
   ]
  },
  {
   "cell_type": "markdown",
   "metadata": {},
   "source": [
    "> 학생들이 답을 안한다면..\n",
    "1. 핸드폰이라면 모두 가지는 공통적인 속성/행동 들이 정의 되어 있지 않기 때문에, 전화를 못거는 폰이 생길 수 있다. => `추상화`\n",
    "2. 값과 함수들이 묶여있지 않다. 어떤 번호가 어떤 핸드폰의 번호인지, 어떤 함수가 어떤 핸드폰에 번호 저장을 하는 함수인지 쉽게 알 수 없고 이런 잘못된 행동을 방지할 수 없다. => `캡슐화`\n",
    "3. 핸드폰 중에서 삼성 핸드폰이라면 모두 가지는 공통적인 특징(삼성페이)을 구현하려면 같은 코드를 모든 삼성 핸드폰에 작성해야 한다. => `상속`\n",
    "4. 다형성 부분은 pass"
   ]
  },
  {
   "cell_type": "markdown",
   "metadata": {},
   "source": [
    "# 클래스 및 인스턴스"
   ]
  },
  {
   "cell_type": "markdown",
   "metadata": {},
   "source": [
    "## 클래스 정의하기 (클래스 객체 생성하기)\n",
    "\n",
    "```python\n",
    "class ClassName:\n",
    "    \n",
    "```\n",
    "\n",
    "* 선언과 동시에 클래스 객체가 생성됨.\n",
    "\n",
    "* 또한, **선언된 공간은 지역 스코프**로 사용된다. (중!!!요!!!!!!!!)\n",
    "- 지역스코프 만드는 것: 함수 (if, for 다 아니고 함수만이 기생충집 자체적인 방)\n",
    "\n",
    "    * 1. 정의된 어트리뷰트 중 변수는 멤버 변수로 불리운다.\n",
    "\n",
    "    * 2. 정의된 함수(`def`)는 메서드로 불리운다.\n",
    "    - 함수 = 메서드 같은 거라고 생각하면 됨\n",
    "    - 함수, 메서드는 서로 다르게 정의하긴 하지만 객체지향언어인 자바, 파이썬에서는 동일하게 생각해도 된다."
   ]
  },
  {
   "cell_type": "markdown",
   "metadata": {},
   "source": [
    "- 파이썬은 모든 것이 객체이기 때문에\n",
    "- class를 선언하는 애도 객체다! 그래서 클래스 객체다."
   ]
  },
  {
   "cell_type": "code",
   "execution_count": 29,
   "metadata": {},
   "outputs": [
    {
     "name": "stdout",
     "output_type": "stream",
     "text": [
      "쿨쿨\n"
     ]
    },
    {
     "data": {
      "text/plain": [
       "'jones'"
      ]
     },
     "execution_count": 29,
     "metadata": {},
     "output_type": "execute_result"
    }
   ],
   "source": [
    "# Class를 만들어봅시다. instanciate도 예시로 해보자. \n",
    "# class는 항상 대문자로 정의해줘야 한다!! \n",
    "# 띄어쓰기 같이 구분해주려면 Camel Case로 PersonHair 이런 식으로 쓰면 된다.\n",
    "\n",
    "class Person:\n",
    "    name = 'jones'\n",
    "    \n",
    "    def sleep(self):\n",
    "        print('쿨쿨')\n",
    "        \n",
    "# 이렇게 jones라는 변수를 함수처럼 Person() 부르면 클래스에 속한 개체로 선언됨\n",
    "jones = Person()\n",
    "\n",
    "jones.sleep()\n",
    "# 난 인자를 안 넣었는데.. sleep() takes 0 positional arguments but 1 was given 에러남\n",
    "# 이걸 고치려면? self를 넣으면 된다.\n",
    "\n",
    "jones.name\n",
    "\n",
    "ashley = Person()\n",
    "ashley.name  #엥 근데도 name으로 jones가 나온다. \n",
    "# 지금 만든 건 은행나무만 만들 수 있는 클래스인 것...\n",
    "# 이걸 하기 위해서는 인스턴스를 각각 만들 수 있게 하는 class 로 발전시켜야 함"
   ]
  },
  {
   "cell_type": "markdown",
   "metadata": {},
   "source": [
    "## 인스턴스 생성하기 (instanciate)\n",
    "\n",
    "* 인스턴스 객체는 `ClassName()`을 호출함으로써 선언된다.\n",
    "\n",
    "* 인스턴스 객체와 클래스 객체는 서로 다른 이름 공간을 가지고 있다.\n",
    "\n",
    "* **인스턴스 => 클래스 => 전역 순으로 탐색을 한다.**"
   ]
  },
  {
   "cell_type": "code",
   "execution_count": 35,
   "metadata": {},
   "outputs": [
    {
     "data": {
      "text/plain": [
       "'Test Class'"
      ]
     },
     "execution_count": 35,
     "metadata": {},
     "output_type": "execute_result"
    }
   ],
   "source": [
    "# TestClass 의 인스턴스를 만들어 봅시다.\n",
    "\n",
    "class TestClass:\n",
    "    name = 'Test Class'\n",
    "    \n",
    "# instanciate 해보자\n",
    "tc = TestClass()\n",
    "type(tc)\n",
    "# __main__.TestClass 라고 뜨는데 TestClass에 속한 애라는 것\n",
    "\n",
    "tc.__doc__ #없다\n",
    "\n",
    "dir(tc)  #name이라는 attribute 볼 수 있다고 뜬다\n",
    "tc.name  #쳐보면 Test Class라고 나옴\n",
    "\n",
    "# 이 속성 name을 바꿀 수 있을까?\n",
    "tc.name = 'tc'\n",
    "tc.name  #오 바뀐다 변수명처럼 생각할 수도 있음 \n",
    "# 하지만 지금은 공장에서 바로 서로 다른 개체가 나오는 게 아니라, 나온 것에서 수정을 가한 것...\n",
    "\n",
    "tc2 = TestClass()\n",
    "tc2.name   #하면 원래 class 내에 정의한 Test Class 나온다. "
   ]
  },
  {
   "cell_type": "markdown",
   "metadata": {},
   "source": [
    "- class, instance 간 관계를 알고 싶으면 그림으로 확인해보면 좋다.\n",
    "- tc2는 name을 보여주지 않는다...? 왜냐면 = instance 변수로 만들지 않았기 때문이다."
   ]
  },
  {
   "cell_type": "code",
   "execution_count": null,
   "metadata": {},
   "outputs": [],
   "source": [
    "# namespace..?"
   ]
  },
  {
   "cell_type": "code",
   "execution_count": 54,
   "metadata": {},
   "outputs": [],
   "source": [
    "# Phone 클래스를 만들어봅시다.\n",
    "\n",
    "class Phone:\n",
    "    \n",
    "    #폰들이 공통적으로 갖는 상태를 다 저장해놓자\n",
    "    power = False\n",
    "    number = ''\n",
    "    book = {}\n",
    "    model = 'Samsung Galaxy S10'\n",
    "\n",
    "    #객체 다룰 함수(동작) 만들어보자\n",
    "    #이 객체에 속하는 것 = 안에 self를 넣고 본다고 생각하면 된다.\n",
    "    def on(self):\n",
    "        if not self.power:\n",
    "            self.power = True\n",
    "            print('-----------------')\n",
    "            print(f'{self.model}')\n",
    "            print('-----------------')\n",
    "\n",
    "    def off(self):\n",
    "        if self.power:\n",
    "            self.power = False\n",
    "            print('전원이 꺼집니다')\n"
   ]
  },
  {
   "cell_type": "markdown",
   "metadata": {},
   "source": [
    "* 선언시 `self`는 반드시 작성해주세요! 아래에서 다시 다룹니다."
   ]
  },
  {
   "cell_type": "code",
   "execution_count": 55,
   "metadata": {
    "scrolled": true
   },
   "outputs": [],
   "source": [
    "# 클래스 Phone 인스턴스 'my_phone' 를 만들어봅시다. \n",
    "\n",
    "# 변수명 마이폰에 위에서 정의한 폰 클래스 인스턴스로 생성해주기\n",
    "my_phone = Phone()"
   ]
  },
  {
   "cell_type": "code",
   "execution_count": 38,
   "metadata": {},
   "outputs": [
    {
     "name": "stdout",
     "output_type": "stream",
     "text": [
      "False\n"
     ]
    }
   ],
   "source": [
    "# 켜져 있나 확인해 봅시다.\n",
    "print(my_phone.power)"
   ]
  },
  {
   "cell_type": "code",
   "execution_count": 50,
   "metadata": {},
   "outputs": [
    {
     "name": "stdout",
     "output_type": "stream",
     "text": [
      "-----------------\n",
      "Samsung Galaxy S10\n",
      "-----------------\n"
     ]
    }
   ],
   "source": [
    "# 새 폰은 꺼져있으니 켜 봅시다.\n",
    "#맨 위 셀에서 우리가 model=iPhone6을 지정해둬서 위의 모델 iPhoner6가 나옴\n",
    "#그냥 model이라고 하면 동생방 말고 바깥 방의 변수 볼 수 있음!\n",
    "#그런데 가장 가까운 model이라는 이름의 변수를 갖고오고 싶다면 self를 붙여야 한다!!\n",
    "\n",
    "my_phone.on()"
   ]
  },
  {
   "cell_type": "code",
   "execution_count": null,
   "metadata": {},
   "outputs": [],
   "source": [
    "# 전원 상태를 확인해 봅시다."
   ]
  },
  {
   "cell_type": "code",
   "execution_count": 56,
   "metadata": {},
   "outputs": [
    {
     "data": {
      "text/plain": [
       "'Samsung Galaxy S10'"
      ]
     },
     "execution_count": 56,
     "metadata": {},
     "output_type": "execute_result"
    }
   ],
   "source": [
    "# 폰의 모델명을 확인해 봅시다.\n",
    "my_phone.model"
   ]
  },
  {
   "cell_type": "code",
   "execution_count": 57,
   "metadata": {},
   "outputs": [],
   "source": [
    "# 모델을 바꿔 봅시다.\n",
    "my_phone.model = 'Galaxy Fold'"
   ]
  },
  {
   "cell_type": "code",
   "execution_count": 58,
   "metadata": {},
   "outputs": [
    {
     "data": {
      "text/plain": [
       "'Galaxy Fold'"
      ]
     },
     "execution_count": 58,
     "metadata": {},
     "output_type": "execute_result"
    }
   ],
   "source": [
    "# 폰 모델을 다시 확인해 봅시다.\n",
    "my_phone.model"
   ]
  },
  {
   "cell_type": "code",
   "execution_count": 60,
   "metadata": {},
   "outputs": [
    {
     "data": {
      "text/plain": [
       "False"
      ]
     },
     "execution_count": 60,
     "metadata": {},
     "output_type": "execute_result"
    }
   ],
   "source": [
    "# 폰을 껐다 켜 봅시다.\n",
    "my_phone.off()\n",
    "my_phone.power"
   ]
  },
  {
   "cell_type": "code",
   "execution_count": 63,
   "metadata": {},
   "outputs": [
    {
     "data": {
      "text/plain": [
       "True"
      ]
     },
     "execution_count": 63,
     "metadata": {},
     "output_type": "execute_result"
    }
   ],
   "source": [
    "# my_phone 이 Phone 클래스의 인스턴스인지 확인해 봅시다.\n",
    "#내가 원했던 클래스 인스턴스가 생성된 게 맞는지 확인하기\n",
    "\n",
    "# isinstance(<인스턴스>, <클래스>)\n",
    "\n",
    "isinstance(my_phone, Phone)"
   ]
  },
  {
   "cell_type": "code",
   "execution_count": 64,
   "metadata": {},
   "outputs": [
    {
     "data": {
      "text/plain": [
       "True"
      ]
     },
     "execution_count": 64,
     "metadata": {},
     "output_type": "execute_result"
    }
   ],
   "source": [
    "# 같은 질문이지만, 다르게 물어 봅시다.\n",
    "# type이 phone이냐고 물어봐도 됨\n",
    "\n",
    "type(my_phone) == Phone\n",
    "# type('string~~') == str 이냐고 물어본 것과 동일하다!!"
   ]
  },
  {
   "cell_type": "code",
   "execution_count": 65,
   "metadata": {},
   "outputs": [
    {
     "data": {
      "text/plain": [
       "__main__.Phone"
      ]
     },
     "execution_count": 65,
     "metadata": {},
     "output_type": "execute_result"
    }
   ],
   "source": [
    "# type을 확인해봅시다.\n",
    "type(my_phone)"
   ]
  },
  {
   "cell_type": "code",
   "execution_count": 66,
   "metadata": {},
   "outputs": [
    {
     "name": "stdout",
     "output_type": "stream",
     "text": [
      "<__main__.Phone object at 0x054793B0>\n"
     ]
    }
   ],
   "source": [
    "# my_phone 을 출력해 봅시다.\n",
    "print(my_phone)"
   ]
  },
  {
   "cell_type": "code",
   "execution_count": 69,
   "metadata": {},
   "outputs": [],
   "source": [
    "# my_phone 을 다르게 볼까요? 예쁘게 보고 싶다.\n",
    "# 이 친구의 모델명을 바로 보여준다든가...\n",
    "\n",
    "# 아까랑 똑같지만 재밌는 메서드 __str__추가하자 \n",
    "\n",
    "class Phone:\n",
    "    \n",
    "    #폰들이 공통적으로 갖는 상태를 다 저장해놓자\n",
    "    power = False\n",
    "    number = ''\n",
    "    book = {}\n",
    "    model = 'Samsung Galaxy S10'\n",
    "\n",
    "    #객체 다룰 함수(동작) 만들어보자\n",
    "    #이 객체에 속하는 것 = 안에 self를 넣고 본다고 생각하면 된다.\n",
    "    def on(self):\n",
    "        if not self.power:\n",
    "            self.power = True\n",
    "            print('-----------------')\n",
    "            print(f'{self.model}')\n",
    "            print('-----------------')\n",
    "\n",
    "    def off(self):\n",
    "        if self.power:\n",
    "            self.power = False\n",
    "            print('전원이 꺼집니다')\n",
    "\n",
    "    # 이 함수는 반드시 이 이름이어야 함!\n",
    "    # 이 클래스의 객체들이 사용할 수 있는 내장함수의 리스트에 있던 것을\n",
    "    # 우리만의 것으로 새로 정의해서 쓰겠다는 것\n",
    "    def __str__(self):\n",
    "        return self.model\n",
    "        \n",
    "        #그냥 model이라고 하면 안 되고 꼭 self.model이라고 self를 엄청 써야 함!!!\n",
    "        #추후에는 습관적으로 self를 붙일 수 있게 될 것이다."
   ]
  },
  {
   "cell_type": "code",
   "execution_count": 70,
   "metadata": {},
   "outputs": [
    {
     "name": "stdout",
     "output_type": "stream",
     "text": [
      "Samsung Galaxy S10\n"
     ]
    }
   ],
   "source": [
    "# python 출력의 비밀 __repr__ 과 __str__\n",
    "# 특정 객체를 print() 할 때 보이는 값과\n",
    "# 그냥 객체 자체가 보여주는 값도 사실 모두 우리가 바꿀 수 있습니다.\n",
    "\n",
    "my_phone = Phone()\n",
    "print(my_phone)  \n",
    "\n",
    "#그러면 이 폰 프린트했을 때 모델명이 나온다.\n",
    "# print함수는 그대로를 출력하는 게 아니라, 그 내용을 str으로 바꿔서 출력하는 것이다.\n",
    "# 우리가 위에서 쓴 건 그 str을 self.model로 하라고 리턴값을 변경해준 것임"
   ]
  },
  {
   "cell_type": "markdown",
   "metadata": {},
   "source": [
    "## MyList 만들기\n",
    "\n",
    "> 이제 배운 것을 활용하여 나만의 리스트 객체를 만들 수 있습니다. \n",
    ">\n",
    "> `class MyList:`\n",
    ">\n",
    "\n",
    "```\n",
    "* 클래스 변수\n",
    "data : 비어 있는 리스트\n",
    "\n",
    "* 메서드 \n",
    "append() : 값을 받아 data 에 추가합니다. 리턴 값은 없습니다.\n",
    "pop() : 마지막에 있는 값을 삭제하고, 해당 값을 리턴합니다.\n",
    "reverse() : 제자리에서 뒤집고 리턴 값은 없습니다.\n",
    "count(x) : x의 개수를 리턴합니다.\n",
    "clear() : 값을 모두 삭제합니다. 리턴값은 없습니다.\n",
    "\n",
    "__str__ : ex) '내 리스트에는 [1, 2, 3] 이 담겨있다.'\n",
    "__repr__은 __str__도 하면서 다른 기능도 있으므로 이것 말고...\n",
    "```"
   ]
  },
  {
   "cell_type": "code",
   "execution_count": 71,
   "metadata": {},
   "outputs": [
    {
     "data": {
      "text/plain": [
       "dict_keys(['jones'])"
      ]
     },
     "execution_count": 71,
     "metadata": {},
     "output_type": "execute_result"
    }
   ],
   "source": [
    "# 리스트 같으면서 리스트가 아니었던 것 있었음 = key, value 뽑았을 때!\n",
    "people = {'jones' : 30}\n",
    "people.keys()\n",
    "#내장 함수의 목록이 list와 아주 유사하기 때문에 list operation도 대부분 사용 가능했음"
   ]
  },
  {
   "cell_type": "code",
   "execution_count": 79,
   "metadata": {},
   "outputs": [],
   "source": [
    "# 아래에 코드를 작성해주세요.\n",
    "# List같은 기능을 하는 자료구조 구현해보기 !! (=알고리즘 자료구조 수업에서 할 것)\n",
    "\n",
    "class MyList:\n",
    "    data = []\n",
    "    \n",
    "    #항상 class안의 함수에는 self넣어야 하고, 더할 인자 element도 쓰자\n",
    "    def append(self, element):\n",
    "        # append 너무 중복되니까 비슷한 기능인 extend해도 되고\n",
    "        self.data += [element]\n",
    "    \n",
    "    def pop(self):\n",
    "        last = self.data[-1]    #마지막의 것 뽑아내기\n",
    "        self.data = self.data[:-1]   #마지막 앞까지만 자르기\n",
    "        return last    #마지막의 것 리턴하기\n",
    "    \n",
    "    def reverse(self):\n",
    "        self.data = self.data[::-1]\n",
    "    \n",
    "    def count(self, x):\n",
    "        cnt = 0\n",
    "        for el in self.data:\n",
    "            if el == x:\n",
    "                cnt += 1\n",
    "        return cnt\n",
    "\n",
    "    def clear(self):\n",
    "        self.data = []\n",
    "    \n",
    "    def __str__(self):\n",
    "        return f'내 리스트에는 {self.data} 가 담겨 있다.'\n",
    "    \n",
    "    def __repr__(self):\n",
    "        return f'내 리스트에는 {self.data} 가 담겨 있다.'\n",
    "\n",
    "# 이렇게 쓰면 data가 instance 변수가 아니라 class 변수다.\n",
    "# 그래서 아래에서 self.data를 함수들로 넣고 빼고 변경시키는 건 이 class의 데이터를 변경시키고 있는 것이다."
   ]
  },
  {
   "cell_type": "code",
   "execution_count": 80,
   "metadata": {},
   "outputs": [],
   "source": [
    "ml = MyList()"
   ]
  },
  {
   "cell_type": "code",
   "execution_count": 82,
   "metadata": {},
   "outputs": [
    {
     "name": "stdout",
     "output_type": "stream",
     "text": [
      "내 리스트에는 [] 가 담겨 있다.\n"
     ]
    }
   ],
   "source": [
    "print(ml)"
   ]
  },
  {
   "cell_type": "code",
   "execution_count": 81,
   "metadata": {},
   "outputs": [
    {
     "data": {
      "text/plain": [
       "내 리스트에는 [] 가 담겨 있다."
      ]
     },
     "execution_count": 81,
     "metadata": {},
     "output_type": "execute_result"
    }
   ],
   "source": [
    "# 만약 ml이라고만 찍어도 위의 문구 나오게 하려면? representation 변경하는 __repr__ 변경하자\n",
    "ml"
   ]
  },
  {
   "cell_type": "code",
   "execution_count": 83,
   "metadata": {},
   "outputs": [
    {
     "data": {
      "text/plain": [
       "내 리스트에는 [1] 가 담겨 있다."
      ]
     },
     "execution_count": 83,
     "metadata": {},
     "output_type": "execute_result"
    }
   ],
   "source": [
    "ml.append(1)\n",
    "ml"
   ]
  },
  {
   "cell_type": "code",
   "execution_count": 84,
   "metadata": {},
   "outputs": [
    {
     "data": {
      "text/plain": [
       "내 리스트에는 [1, 2] 가 담겨 있다."
      ]
     },
     "execution_count": 84,
     "metadata": {},
     "output_type": "execute_result"
    }
   ],
   "source": [
    "ml.append(2)\n",
    "ml"
   ]
  },
  {
   "cell_type": "code",
   "execution_count": 85,
   "metadata": {},
   "outputs": [],
   "source": [
    "ml.reverse()"
   ]
  },
  {
   "cell_type": "code",
   "execution_count": 86,
   "metadata": {
    "scrolled": true
   },
   "outputs": [
    {
     "data": {
      "text/plain": [
       "내 리스트에는 [2, 1] 가 담겨 있다."
      ]
     },
     "execution_count": 86,
     "metadata": {},
     "output_type": "execute_result"
    }
   ],
   "source": [
    "ml"
   ]
  },
  {
   "cell_type": "code",
   "execution_count": 87,
   "metadata": {},
   "outputs": [
    {
     "data": {
      "text/plain": [
       "1"
      ]
     },
     "execution_count": 87,
     "metadata": {},
     "output_type": "execute_result"
    }
   ],
   "source": [
    "ml.count(1)"
   ]
  },
  {
   "cell_type": "code",
   "execution_count": null,
   "metadata": {},
   "outputs": [],
   "source": []
  },
  {
   "cell_type": "code",
   "execution_count": null,
   "metadata": {},
   "outputs": [],
   "source": [
    "# 확인해 봅시다. 각 해당 셀을 두번 이상 실행하면 이상하게 동작합니다. Python Tutor 에서 확인해 봅시다.\n",
    "# (모든 객체의 data 가 같은 리스트를 참조합니다.)"
   ]
  },
  {
   "cell_type": "markdown",
   "metadata": {},
   "source": [
    "## 용어 정리\n",
    "\n",
    "```python\n",
    "class Person:                     #=> 클래스 정의(선언) : 클래스 객체 생성\n",
    "    name = 'unknown'              #=> 멤버 변수(data attribute)\n",
    "    def greeting(self):           #=> 멤버 메서드(메서드)\n",
    "        return f'{self.name}' \n",
    "```\n",
    "    \n",
    "    \n",
    "```python\n",
    "richard = Person()      # 인스턴스 객체 생성\n",
    "tim = Person()          # 인스턴스 객체 생성\n",
    "tim.name                # 데이터 어트리뷰트 호출\n",
    "tim.greeting()          # 메서드 호출\n",
    "```"
   ]
  },
  {
   "cell_type": "markdown",
   "metadata": {},
   "source": [
    "< self에 대한 탐구 >"
   ]
  },
  {
   "cell_type": "code",
   "execution_count": 88,
   "metadata": {},
   "outputs": [
    {
     "data": {
      "text/plain": [
       "'unknown입니다.'"
      ]
     },
     "execution_count": 88,
     "metadata": {},
     "output_type": "execute_result"
    }
   ],
   "source": [
    "# Person을 만들어봅시다.\n",
    "\n",
    "class Person:\n",
    "    # 처음 생성시 이름 언노운으로 두었다.\n",
    "    name = 'unknown'\n",
    "    \n",
    "    # 자기 이름 출력하기\n",
    "    def greeting(self):\n",
    "        return f'{self.name}입니다.'\n",
    "    \n",
    "p1 = Person()\n",
    "p1.greeting() #초기상태는 unknown입니다."
   ]
  },
  {
   "cell_type": "code",
   "execution_count": 89,
   "metadata": {
    "scrolled": true
   },
   "outputs": [
    {
     "ename": "TypeError",
     "evalue": "greeting() takes 0 positional arguments but 1 was given",
     "output_type": "error",
     "traceback": [
      "\u001b[1;31m---------------------------------------------------------------------------\u001b[0m",
      "\u001b[1;31mTypeError\u001b[0m                                 Traceback (most recent call last)",
      "\u001b[1;32m<ipython-input-89-909e52114ebe>\u001b[0m in \u001b[0;36m<module>\u001b[1;34m\u001b[0m\n\u001b[0;32m      8\u001b[0m \u001b[1;33m\u001b[0m\u001b[0m\n\u001b[0;32m      9\u001b[0m \u001b[0mp1\u001b[0m \u001b[1;33m=\u001b[0m \u001b[0mPerson\u001b[0m\u001b[1;33m(\u001b[0m\u001b[1;33m)\u001b[0m\u001b[1;33m\u001b[0m\u001b[1;33m\u001b[0m\u001b[0m\n\u001b[1;32m---> 10\u001b[1;33m \u001b[0mp1\u001b[0m\u001b[1;33m.\u001b[0m\u001b[0mgreeting\u001b[0m\u001b[1;33m(\u001b[0m\u001b[1;33m)\u001b[0m \u001b[1;31m#초기상태는 unknown입니다.\u001b[0m\u001b[1;33m\u001b[0m\u001b[1;33m\u001b[0m\u001b[0m\n\u001b[0m",
      "\u001b[1;31mTypeError\u001b[0m: greeting() takes 0 positional arguments but 1 was given"
     ]
    }
   ],
   "source": [
    "class Person:\n",
    "    # 처음 생성시 이름 언노운으로 두었다.\n",
    "    name = 'unknown'\n",
    "    \n",
    "    # 자기 이름 출력하기\n",
    "    def greeting():\n",
    "        return f'{self.name}입니다.'\n",
    "    \n",
    "p1 = Person()\n",
    "p1.greeting() #초기상태는 unknown입니다."
   ]
  },
  {
   "cell_type": "markdown",
   "metadata": {},
   "source": [
    " greeting() takes 0 positional arguments but 1 was given 이런 에러가 나오는 건:  \n",
    "- 파이썬이 우리도 모르게 self인 p1이 인자로 들어가게끔 설계되어 있어서 그렇다. 여기서 1개 인자 = p1이 들어간 것\n",
    "- 그래서 우리는 이것이 self라는 이름을 사용해서 이것을 커버하게끔 인식하게끔 해주는 것이다.\n",
    "- 하지만! self라는 게 반드시 self라는 말로만 쓸 필요는 없다. \n",
    "- 자바, C++에서는 this를 예약어로 이것만 사용해야 하는 것인데, 파이썬은 생김새 자체가 객체이기 때문에 좀 다름\n",
    "- 그래도 관례상 self를 사용한다! 그러니 self로 써주자."
   ]
  },
  {
   "cell_type": "code",
   "execution_count": 90,
   "metadata": {},
   "outputs": [
    {
     "data": {
      "text/plain": [
       "'unknown입니다.'"
      ]
     },
     "execution_count": 90,
     "metadata": {},
     "output_type": "execute_result"
    }
   ],
   "source": [
    "class Person:\n",
    "    # 처음 생성시 이름 언노운으로 두었다.\n",
    "    name = 'unknown'\n",
    "    \n",
    "    # 자기 이름 출력하기 : self 대신 me라고 써도 될까?? 된다 \n",
    "    def greeting(me):\n",
    "        return f'{me.name}입니다.'\n",
    "    \n",
    "p1 = Person()\n",
    "p1.greeting() #초기상태는 unknown입니다."
   ]
  },
  {
   "cell_type": "markdown",
   "metadata": {},
   "source": [
    "##  `self` : 인스턴스 객체 자기자신\n",
    "\n",
    "* C++ 혹은 자바에서의 this 키워드와 동일함. \n",
    "\n",
    "* 특별한 상황을 제외하고는 **무조건 메서드에서 `self`를 첫번째 인자로 설정한다.**\n",
    "\n",
    "* 메서드는 인스턴스 객체가 함수의 첫번째 인자로 전달되도록 되어있다. (이건 파이썬이 설계된 방식임)"
   ]
  },
  {
   "cell_type": "code",
   "execution_count": 94,
   "metadata": {},
   "outputs": [
    {
     "name": "stdout",
     "output_type": "stream",
     "text": [
      "Yojini입니다.\n"
     ]
    },
    {
     "data": {
      "text/plain": [
       "True"
      ]
     },
     "execution_count": 94,
     "metadata": {},
     "output_type": "execute_result"
    }
   ],
   "source": [
    "# p1 의 이름을 자기 이름으로 바꾸고 다시 인사해 봅시다.\n",
    "p1.name = 'Yojini'\n",
    "print(p1.greeting())\n",
    "\n",
    "isinstance(p1, Person)"
   ]
  },
  {
   "cell_type": "code",
   "execution_count": null,
   "metadata": {},
   "outputs": [],
   "source": [
    "# 아까부터 궁금했던, 메서드 1번 인자 self 는 어디에 있는걸까요?\n",
    "- 위에서 말했던 것처럼 첫번째 자리\n",
    "\n",
    "# 실제로 이렇게 쓰지는 않지만 어떤 의미로는 이 코드가 더 직관적일 거에요.\n",
    "\n"
   ]
  },
  {
   "cell_type": "markdown",
   "metadata": {},
   "source": [
    "## 클래스-인스턴스간의 이름공간 (*****)\n",
    "\n",
    "* 클래스를 정의하면, 클래스 객체가 생성되고 해당되는 이름 공간이 생성된다. \n",
    "\n",
    "* 인스턴스를 만들게 되면, 인스턴스 객체가 생성되고 해당되는 이름 공간이 생성된다. (파이썬튜터에서 보기)\n",
    "\n",
    "* 인스턴스의 어트리뷰트가 변경되면, 변경된 데이터를 인스턴스 객체 이름 공간에 저장한다. (*****)\n",
    "    - 어트리뷰트(아래예시에서name), 변경되면(p1.name='john')\n",
    "    - 인스턴스 이름 공간? \n",
    "    - 보통 사람들 생각엔: 클래스의 내용이 이 인스턴스에 그대로 복사가 되어 있을 거라고 생각하지만\n",
    "    - 시각화해서 보니: 복사해서 오지 않음 아직!! 복사본이 생긴 게 아니다. 붕어빵에 팥이 없는 거나 마찬가지.\n",
    "    - 복사가 언제 생기냐면 이 값이 **변경**될 때! 생긴다.\n",
    "    - 어트리뷰트 데이터는 붕어빵틀의 데이터이고, 인스턴스가 붕어빵틀을 가리켜서 이것을 참고하는 것일 뿐이다.\n",
    "    - 인스턴스가 자기 데이터를 자기가 갖고 있는 게 아니다. \n",
    "      \n",
    "    - 그래서 생성자(__init__)가 필요하다. 생성을 함과 동시에 값을 변경시켜주니 바로 복사가 된다.\n",
    "\n",
    "* 즉, 인스턴스에서 특정한 어트리뷰트에 접근하게 되면 인스턴스 => 클래스 순으로 탐색을 한다.  (*****)\n",
    "  \n",
    "  \n",
    "- class의 instance는 class의 이름공간 전체를 참조한 후에 변경되면 인스턴스의 이름공간을 생성하는 순서로 진행되기 때문에 이런 괴랄한 현상이 벌어지는 것이다."
   ]
  },
  {
   "cell_type": "code",
   "execution_count": 95,
   "metadata": {},
   "outputs": [],
   "source": [
    "# 클래스 선언코드에서 메서드를 정의할 때, 왜 self 를 꼭 써준걸까요?\n",
    "class Person:\n",
    "    name = 'unknown'\n",
    "    \n",
    "    def greeting(self):\n",
    "        return f'my name is {self.name}'  \n",
    "    # 동작하지 않습니다. 생성된 객체는 method scope 안에서 name 이 뭔지 모릅니다."
   ]
  },
  {
   "cell_type": "code",
   "execution_count": 97,
   "metadata": {},
   "outputs": [],
   "source": [
    "# 아래에서 확인해 봅시다.\n",
    "person1 = Person()\n",
    "person1.name = 'jones'"
   ]
  },
  {
   "cell_type": "code",
   "execution_count": null,
   "metadata": {},
   "outputs": [],
   "source": [
    "# 다시, 클래스 선언코드에서 메서드를 정의할 때, 왜 self 를 꼭 써준걸까요?\n",
    "class Person:\n",
    "    name = 'unknown'\n",
    "    \n",
    "    def greeting(self):\n",
    "        return f'my name is {self.name}'  # 이번에는 *내*이름 을 찾아봅니다."
   ]
  },
  {
   "cell_type": "code",
   "execution_count": null,
   "metadata": {},
   "outputs": [],
   "source": [
    "class Person:\n",
    "    name = ''\n",
    "    \n",
    "    #생성자 함수Constructor 붕어빵객체에 팥 넣어서 만들어주는 함수(customization가능하게 해줌)\n",
    "    #__init__은 class 형성하는 객체 생기면 무조건 처음 호출이 자동으로 된다. \n",
    "    #이 함수에서 이렇게 변경되므로 바~로 복사본 객체가 생성되게 된다.\n",
    "    def __init__(self, name):\n",
    "        #생성자에 name 쓰면 attribute의 name을 넣겠다고 선언\n",
    "        self.name = name\n",
    "    \n",
    "    def greeting(self):\n",
    "        return f'my name is {self.name}'  "
   ]
  },
  {
   "cell_type": "code",
   "execution_count": 98,
   "metadata": {},
   "outputs": [],
   "source": [
    "# 아래에서 확인해 봅시다.\n",
    "\n",
    "class Person:\n",
    "    name = ''\n",
    "    isgraduated = False \n",
    "    number_of_people = 0\n",
    "    \n",
    "    def __init__(self, name):\n",
    "        self.name = name\n",
    "        number_of_people += 1    \n",
    "        #객체가 생길 때마다 1씩 올라가게 하는 것도 가능하다!\n",
    "        #모듈은 재생산이 안 되지만, class는 같은 내용을 여러 객체로 생성해낼 수 있다.\n",
    "        #공간을 사용하는 방식은 모듈과 class가 유사하다.\n",
    "    \n",
    "    def greeting(self):\n",
    "        return f'my name is {self.name}'  \n",
    "    \n",
    "    #기본값은 class틀에서 False로 두고, 이 졸업함수를 호출하면 True로 각 객체의 졸업값이 변경되게끔 할 수 있다.\n",
    "    def graduate(self):\n",
    "        self.isgraduated = True\n"
   ]
  },
  {
   "cell_type": "code",
   "execution_count": 103,
   "metadata": {},
   "outputs": [
    {
     "name": "stdout",
     "output_type": "stream",
     "text": [
      "my name is jones\n"
     ]
    },
    {
     "data": {
      "text/plain": [
       "True"
      ]
     },
     "execution_count": 103,
     "metadata": {},
     "output_type": "execute_result"
    }
   ],
   "source": [
    "p1 = Person('jones')\n",
    "print(p1.greeting())\n",
    "p1.isgraduated\n",
    "#처음에 이 속성 호출하면 class의 내용을 찾아서 본다. \n",
    "\n",
    "p1.graduate()\n",
    "p1.isgraduated"
   ]
  },
  {
   "cell_type": "code",
   "execution_count": null,
   "metadata": {},
   "outputs": [],
   "source": [
    "# 전역적으로 써야 하는 내용이 있다면 class에 냅두는 게 아주 좋다.\n",
    "# 역대 레코드 뭐 이런 식으로... 몇 년도에 무슨 일이 있었다 이런 것 \n",
    "# list, dict의 mutable 데이터는 기본적으로 주소값만 저장해두기 때문에 이를 활용할 수가 있다!!"
   ]
  },
  {
   "cell_type": "code",
   "execution_count": null,
   "metadata": {},
   "outputs": [],
   "source": [
    "# 아래에서 p2 객체에게 이름을 지어 줍시다."
   ]
  },
  {
   "cell_type": "code",
   "execution_count": null,
   "metadata": {},
   "outputs": [],
   "source": [
    "# python tutor 를 통해 확인해 봅시다.\n",
    "IFrame('http://bit.do/oop_instro_00', width='100%', height='500px')"
   ]
  },
  {
   "cell_type": "markdown",
   "metadata": {},
   "source": [
    "## 생성자 / 소멸자\n",
    "\n",
    "* 생성자는 인스턴스 객체가 생성될 때 호출되는 함수이며, 소멸자는 객체가 소멸되는 과정에서 호출되는 함수입니다.\n",
    "\n",
    "```python\n",
    "def __init__(self):\n",
    "    print('생성될 때 자동으로 호출되는 메서드입니다.')\n",
    "    \n",
    "def __del__(self):\n",
    "    print('소멸될 때 자동으로 호출되는 메서드입니다.')\n",
    "```\n",
    "\n",
    "```\n",
    "__someting__\n",
    "```\n",
    "\n",
    "위의 형식처럼 양쪽에 언더스코어가 있는 메서드를 `스페셜 메서드` 혹은 `매직 메서드`라고 불립니다.\n",
    "\n",
    "- init : 객체가 자기만의 고유값을 갖게 하고 싶다면 init에 다 넣어줘야 한다."
   ]
  },
  {
   "cell_type": "code",
   "execution_count": null,
   "metadata": {},
   "outputs": [],
   "source": [
    "# 생성자와 소멸자를 만들어봅시다."
   ]
  },
  {
   "cell_type": "code",
   "execution_count": null,
   "metadata": {},
   "outputs": [],
   "source": [
    "# 생성해 봅시다."
   ]
  },
  {
   "cell_type": "code",
   "execution_count": null,
   "metadata": {},
   "outputs": [],
   "source": [
    "# 소멸시켜 봅시다."
   ]
  },
  {
   "cell_type": "code",
   "execution_count": null,
   "metadata": {},
   "outputs": [],
   "source": [
    "# 생성자 역시 메서드(함수)기 때문에 추가인자를 받을 수 있습니다."
   ]
  },
  {
   "cell_type": "code",
   "execution_count": null,
   "metadata": {},
   "outputs": [],
   "source": [
    "# 생성과 동시에 인스턴스 변수에 값을 할당합니다."
   ]
  },
  {
   "cell_type": "markdown",
   "metadata": {},
   "source": [
    "## 실습 (종합)\n",
    "\n",
    "> 사실 이전에 작성한 Mylist는 완벽하지 않았습니다. \n",
    ">\n",
    "> 한번 제대로 된 자료구조를 만들어보겠습니다. \n",
    ">\n",
    "> `Stack` 클래스를 간략하게 구현해봅시다.\n",
    "\n",
    "> [Stack](https://ko.wikipedia.org/wiki/%EC%8A%A4%ED%83%9D) : 스택은 LIFO(Last in First Out)으로 구조화된 자료구조를 뜻합니다.\n",
    "\n",
    "1. `empty()`: 스택이 비었다면 True을 주고, 그렇지 않다면 False가 된다.\n",
    "\n",
    "2. `top()`: 스택의 가장 마지막 데이터를 넘겨준다. 스택이 비었다면 None을 리턴한다.\n",
    "\n",
    "3. `pop()`: 스택의 가장 마지막 데이터의 값을 넘겨주고, 해당 데이터를 삭제한다. 스택이 비었다면 None을 리턴한다.\n",
    "\n",
    "4. `push()`: 스택의 가장 마지막 데이터 뒤에 값을 추가한다. 리턴 값은 없다.\n",
    "\n",
    "**다 작성했다면 __repr__ 을 통해 예쁘게 출력까지 해봅시다.**"
   ]
  },
  {
   "cell_type": "code",
   "execution_count": null,
   "metadata": {},
   "outputs": [],
   "source": [
    "# 여기에 코드를 작성해주세요."
   ]
  },
  {
   "cell_type": "markdown",
   "metadata": {},
   "source": [
    "## 포켓몬 구현하기\n",
    "\n",
    "> 피카츄를 클래스-인스턴스로 구현해 봅시다. 게임을 만든다면 아래와 같이 먼저 기획을 하고 코드로 구현하게 됩니다.\n",
    "우선 아래와 같이 구현해 보고, 추가로 본인이 원하는 대로 구현 및 수정해 봅시다.\n",
    "\n",
    "모든 피카츄는 다음과 같은 속성을 갖습니다.\n",
    "* `name`: 이름\n",
    "* `level`: 레벨\n",
    "    * 레벨은 시작할 때 모두 5 입니다.\n",
    "* `hp`: 체력\n",
    "    * 체력은 `level` * 20 입니다.\n",
    "* `exp`: 경험치\n",
    "    * 상대방을 쓰러뜨리면 상대방 `level` * 15 를 획득합니다.\n",
    "    * 경험치는 `level` * 100 이 되면, 레벨이 하나 올라가고 0부터 추가 됩니다. \n",
    "\n",
    "모든 피카츄는 다음과 같은 행동(메서드)을 할 수 있습니다.\n",
    "* `bark()`: 울기. `'pikachu'` 를 출력합니다.\n",
    "* `body_attack()`: 몸통박치기. 상대방의 hp 를 내 `level` * 5 만큼 차감합니다.\n",
    "* `thousond_volt()`: 십만볼트. 상대방의 hp 를 내 `level` * 7 만큼 차감합니다."
   ]
  },
  {
   "cell_type": "code",
   "execution_count": null,
   "metadata": {},
   "outputs": [],
   "source": [
    "# 아래에 코드를 작성해주세요."
   ]
  }
 ],
 "metadata": {
  "kernelspec": {
   "display_name": "Python 3",
   "language": "python",
   "name": "python3"
  },
  "language_info": {
   "codemirror_mode": {
    "name": "ipython",
    "version": 3
   },
   "file_extension": ".py",
   "mimetype": "text/x-python",
   "name": "python",
   "nbconvert_exporter": "python",
   "pygments_lexer": "ipython3",
   "version": "3.7.3"
  },
  "latex_envs": {
   "LaTeX_envs_menu_present": true,
   "autoclose": false,
   "autocomplete": true,
   "bibliofile": "biblio.bib",
   "cite_by": "apalike",
   "current_citInitial": 1,
   "eqLabelWithNumbers": true,
   "eqNumInitial": 1,
   "hotkeys": {
    "equation": "Ctrl-E",
    "itemize": "Ctrl-I"
   },
   "labels_anchors": false,
   "latex_user_defs": false,
   "report_style_numbering": false,
   "user_envs_cfg": false
  },
  "toc": {
   "base_numbering": 1,
   "nav_menu": {},
   "number_sections": true,
   "sideBar": true,
   "skip_h1_title": false,
   "title_cell": "Table of Contents",
   "title_sidebar": "Contents",
   "toc_cell": false,
   "toc_position": {
    "height": "calc(100% - 180px)",
    "left": "10px",
    "top": "150px",
    "width": "206.8px"
   },
   "toc_section_display": true,
   "toc_window_display": false
  }
 },
 "nbformat": 4,
 "nbformat_minor": 2
}
