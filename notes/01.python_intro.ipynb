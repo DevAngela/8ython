{
 "cells": [
  {
   "cell_type": "markdown",
   "metadata": {},
   "source": [
    "# Python 기초\n",
    "\n",
    "## 개요\n",
    "\n",
    "본 강의 자료는 [Python 공식 Tutorial](https://docs.python.org/3.7/tutorial/index.html)에 근거하여 만들어졌으며, Python 3.7버전에 해당하는 내용을 담고 있습니다.\n",
    "\n",
    "또한, 파이썬에서 제공하는 스타일 가이드인 [`PEP-8`](https://www.python.org/dev/peps/pep-0008/) 내용을 반영하였습니다. \n",
    "\n",
    "파이썬을 활용하는 다양한 IT기업들은 대내외적으로 본인들의 스타일 가이드를 제공하고 있습니다. \n",
    "\n",
    "* [구글 스타일 가이드](https://github.com/google/styleguide/blob/gh-pages/pyguide.md)\n",
    "* [Tensorflow 스타일 가이드](https://www.tensorflow.org/community/style_guide)"
   ]
  },
  {
   "cell_type": "markdown",
   "metadata": {},
   "source": [
    "## 식별자\n",
    "\n",
    "파이썬에서 식별자는 변수, 함수, 모듈, 클래스 등을 식별하는데 사용되는 이름이다. \n",
    "\n",
    "* 식별자의 이름은 영문알파벳, \\_, 숫자로 구성된다.\n",
    "* 첫 글자에 숫자가 올 수 없다. \n",
    "* 대소문자를 구별한다.\n",
    "* 아래의 예약어는 사용할 수 없다. \n",
    "\n",
    "```\n",
    "False, None, True, and, as, assert, break, class, continue, def, del, elif, else, except, finally, for, from, global, if, import, in, is, lambda, nonlocal, not, or, pass, raise, return, try, while, with, yield\n",
    "```"
   ]
  },
  {
   "cell_type": "code",
   "execution_count": 1,
   "metadata": {
    "scrolled": true
   },
   "outputs": [
    {
     "data": {
      "text/plain": [
       "['False',\n",
       " 'None',\n",
       " 'True',\n",
       " 'and',\n",
       " 'as',\n",
       " 'assert',\n",
       " 'async',\n",
       " 'await',\n",
       " 'break',\n",
       " 'class',\n",
       " 'continue',\n",
       " 'def',\n",
       " 'del',\n",
       " 'elif',\n",
       " 'else',\n",
       " 'except',\n",
       " 'finally',\n",
       " 'for',\n",
       " 'from',\n",
       " 'global',\n",
       " 'if',\n",
       " 'import',\n",
       " 'in',\n",
       " 'is',\n",
       " 'lambda',\n",
       " 'nonlocal',\n",
       " 'not',\n",
       " 'or',\n",
       " 'pass',\n",
       " 'raise',\n",
       " 'return',\n",
       " 'try',\n",
       " 'while',\n",
       " 'with',\n",
       " 'yield']"
      ]
     },
     "execution_count": 1,
     "metadata": {},
     "output_type": "execute_result"
    }
   ],
   "source": [
    "# 식별자들을 직접 확인해봅시다.\n",
    "import keyword\n",
    "keyword.kwlist"
   ]
  },
  {
   "cell_type": "markdown",
   "metadata": {},
   "source": [
    "*  내장함수나 모듈 등의 이름으로도 만들면 안된다."
   ]
  },
  {
   "cell_type": "code",
   "execution_count": 2,
   "metadata": {},
   "outputs": [
    {
     "ename": "TypeError",
     "evalue": "'str' object is not callable",
     "output_type": "error",
     "traceback": [
      "\u001b[1;31m---------------------------------------------------------------------------\u001b[0m",
      "\u001b[1;31mTypeError\u001b[0m                                 Traceback (most recent call last)",
      "\u001b[1;32m<ipython-input-2-8046b3c08f3a>\u001b[0m in \u001b[0;36m<module>\u001b[1;34m\u001b[0m\n\u001b[0;32m      1\u001b[0m \u001b[1;31m# 5를 string으로 바꿔봅시다.\u001b[0m\u001b[1;33m\u001b[0m\u001b[1;33m\u001b[0m\u001b[1;33m\u001b[0m\u001b[0m\n\u001b[1;32m----> 2\u001b[1;33m \u001b[0mstr\u001b[0m\u001b[1;33m(\u001b[0m\u001b[1;36m5\u001b[0m\u001b[1;33m)\u001b[0m\u001b[1;33m\u001b[0m\u001b[1;33m\u001b[0m\u001b[0m\n\u001b[0m",
      "\u001b[1;31mTypeError\u001b[0m: 'str' object is not callable"
     ]
    }
   ],
   "source": [
    "# 5를 string으로 바꿔봅시다.\n",
    "str(5)"
   ]
  },
  {
   "cell_type": "code",
   "execution_count": 5,
   "metadata": {},
   "outputs": [
    {
     "ename": "TypeError",
     "evalue": "'str' object is not callable",
     "output_type": "error",
     "traceback": [
      "\u001b[1;31m---------------------------------------------------------------------------\u001b[0m",
      "\u001b[1;31mTypeError\u001b[0m                                 Traceback (most recent call last)",
      "\u001b[1;32m<ipython-input-5-59b72a93347d>\u001b[0m in \u001b[0;36m<module>\u001b[1;34m\u001b[0m\n\u001b[0;32m      1\u001b[0m \u001b[1;31m# 예시로 str에 값을 할당해보고, 오류를 확인해봅시다.\u001b[0m\u001b[1;33m\u001b[0m\u001b[1;33m\u001b[0m\u001b[1;33m\u001b[0m\u001b[0m\n\u001b[0;32m      2\u001b[0m \u001b[0mstr\u001b[0m \u001b[1;33m=\u001b[0m \u001b[1;34m\"hello\"\u001b[0m\u001b[1;33m\u001b[0m\u001b[1;33m\u001b[0m\u001b[0m\n\u001b[1;32m----> 3\u001b[1;33m \u001b[0mstr\u001b[0m\u001b[1;33m(\u001b[0m\u001b[1;36m5\u001b[0m\u001b[1;33m)\u001b[0m\u001b[1;33m\u001b[0m\u001b[1;33m\u001b[0m\u001b[0m\n\u001b[0m\u001b[0;32m      4\u001b[0m \u001b[1;33m\u001b[0m\u001b[0m\n\u001b[0;32m      5\u001b[0m \u001b[1;31m#str에 우리가 다른 값을 넣어버려서, 이제 str()기능을 할 수가 없다는 것\u001b[0m\u001b[1;33m\u001b[0m\u001b[1;33m\u001b[0m\u001b[1;33m\u001b[0m\u001b[0m\n",
      "\u001b[1;31mTypeError\u001b[0m: 'str' object is not callable"
     ]
    }
   ],
   "source": [
    "# 예시로 str에 값을 할당해보고, 오류를 확인해봅시다.\n",
    "str = \"hello\"\n",
    "str(5)\n",
    "\n",
    "#str에 우리가 다른 값을 넣어버려서, 이제 str()기능을 할 수가 없다는 것\n",
    "#내장함수에 이렇게 다른 값을 넣어버리면 안 된다!"
   ]
  },
  {
   "cell_type": "code",
   "execution_count": 6,
   "metadata": {},
   "outputs": [],
   "source": [
    "# 뒤에 코드에 영향이 가니까 변수를 메모리에서 지워줍시다!!!!\n",
    "# 주피터노트북 상단 메뉴의 Kernel > Restart and Clear Output 하거나\n",
    "del str"
   ]
  },
  {
   "cell_type": "code",
   "execution_count": 7,
   "metadata": {},
   "outputs": [
    {
     "data": {
      "text/plain": [
       "'6'"
      ]
     },
     "execution_count": 7,
     "metadata": {},
     "output_type": "execute_result"
    }
   ],
   "source": [
    "str(6)"
   ]
  },
  {
   "cell_type": "markdown",
   "metadata": {},
   "source": [
    "## 기초 문법\n",
    "\n",
    "### 인코딩 선언\n",
    "\n",
    "인코딩은 선언하지 않더라도 `UTF-8`로 기본 설정이 되어 있다.\n",
    "(예전에는 UTF-8 따로 선언해줬어야 함)\n",
    "\n",
    "만약, 인코딩을 설정하려면 코드 상단에 아래와 같이 선언한다. \n",
    "주석으로 보이지만, Python `parser`에 의해 읽혀진다.\n",
    "\n",
    "```python\n",
    "# -*- coding: <encoding-name> -*- \n",
    "```"
   ]
  },
  {
   "cell_type": "markdown",
   "metadata": {},
   "source": [
    "### 주석(Comment)\n",
    "\n",
    "* 주석은 `#`으로 표현한다. \n",
    "* `docstring`은 `\"\"\"`으로 표현한다. \n",
    "   \n",
    "   : 여러 줄의 주석을 작성할 수 있으며, 보통 함수/클래스 선언 다음에 해당하는 설명을 위해 활용한다.\n",
    "   \n",
    "  \n",
    "* 예시 : flask 공식 문서 일부 발췌\n",
    "\n",
    "![flask 공식문서 예시](./images/01/docstring.png)"
   ]
  },
  {
   "cell_type": "code",
   "execution_count": null,
   "metadata": {},
   "outputs": [],
   "source": [
    "# 주석을 연습해봅시다. \n"
   ]
  },
  {
   "cell_type": "code",
   "execution_count": 10,
   "metadata": {},
   "outputs": [
    {
     "data": {
      "text/plain": [
       "' 이것은 덧셈 함수입니다.\\n    이 줄은 실행이 되지 않습니다.\\n    #을 안 쓰고 이렇게 쓰는 이유는 뭘까요?\\n    doctring을 쓰는 이유는 나중에 __doc__이라는 친구를 쓸 것이기 때문!\\n    '"
      ]
     },
     "execution_count": 10,
     "metadata": {},
     "output_type": "execute_result"
    }
   ],
   "source": [
    "# docstring은 다음과 같이 확인할 수 있습니다.\n",
    "\n",
    "def mysum(a, b):\n",
    "    \"\"\" 이것은 덧셈 함수입니다.\n",
    "    이 줄은 실행이 되지 않습니다.\n",
    "    #을 안 쓰고 이렇게 쓰는 이유는 뭘까요?\n",
    "    doctring을 쓰는 이유는 나중에 __doc__이라는 친구를 쓸 것이기 때문!\n",
    "    \"\"\"\n",
    "    return a + b\n",
    "\n",
    "mysum(2, 5)\n",
    "\n",
    "#doctring을 넣어 놓으면 .__doc__ 찍었을 때 해당 함수에 있는 설명이 튀어나온다!\n",
    "mysum.__doc__"
   ]
  },
  {
   "cell_type": "markdown",
   "metadata": {},
   "source": [
    "### 코드 라인\n",
    "* 기본적으로 파이썬에서는 `;` 을 작성하지 않는다.\n",
    "\n",
    "* 한 줄로 표기할 떄는 `;`를 작성하여 표기할 수 있다. "
   ]
  },
  {
   "cell_type": "code",
   "execution_count": 11,
   "metadata": {},
   "outputs": [
    {
     "name": "stdout",
     "output_type": "stream",
     "text": [
      "happy\n",
      "hacking\n"
     ]
    }
   ],
   "source": [
    "# print문을 두번 써보자.\n",
    "print('happy')\n",
    "print('hacking')"
   ]
  },
  {
   "cell_type": "code",
   "execution_count": 12,
   "metadata": {},
   "outputs": [
    {
     "ename": "SyntaxError",
     "evalue": "invalid syntax (<ipython-input-12-e731bd4c793c>, line 2)",
     "output_type": "error",
     "traceback": [
      "\u001b[1;36m  File \u001b[1;32m\"<ipython-input-12-e731bd4c793c>\"\u001b[1;36m, line \u001b[1;32m2\u001b[0m\n\u001b[1;33m    print('happy')print('hacking')\u001b[0m\n\u001b[1;37m                      ^\u001b[0m\n\u001b[1;31mSyntaxError\u001b[0m\u001b[1;31m:\u001b[0m invalid syntax\n"
     ]
    }
   ],
   "source": [
    "# print문을 한줄로 이어서 써봅시다. 오류 메시지를 확인해주세요.\n",
    "print('happy')print('hacking')"
   ]
  },
  {
   "cell_type": "code",
   "execution_count": 13,
   "metadata": {},
   "outputs": [
    {
     "name": "stdout",
     "output_type": "stream",
     "text": [
      "happy\n",
      "hacking\n"
     ]
    }
   ],
   "source": [
    "# ;을 통해 오류를 해결해봅시다.\n",
    "print('happy');print('hacking')"
   ]
  },
  {
   "cell_type": "markdown",
   "metadata": {},
   "source": [
    "* 줄을 여러줄 작성할 때는 역슬래시`\\`를 사용하여 아래와 같이 할 수 있다. "
   ]
  },
  {
   "cell_type": "code",
   "execution_count": 14,
   "metadata": {},
   "outputs": [
    {
     "ename": "SyntaxError",
     "evalue": "EOL while scanning string literal (<ipython-input-14-2762c4a299c8>, line 2)",
     "output_type": "error",
     "traceback": [
      "\u001b[1;36m  File \u001b[1;32m\"<ipython-input-14-2762c4a299c8>\"\u001b[1;36m, line \u001b[1;32m2\u001b[0m\n\u001b[1;33m    print('\u001b[0m\n\u001b[1;37m           ^\u001b[0m\n\u001b[1;31mSyntaxError\u001b[0m\u001b[1;31m:\u001b[0m EOL while scanning string literal\n"
     ]
    }
   ],
   "source": [
    "# print문을 통해 안되는 코드 예시 작성해봅시다.\n",
    "print('\n",
    "      파이썬은 쉽다.\n",
    "      파이썬은 강력하다.\n",
    "      파이썬은 빠르다.\n",
    "      ')"
   ]
  },
  {
   "cell_type": "code",
   "execution_count": 15,
   "metadata": {},
   "outputs": [
    {
     "name": "stdout",
     "output_type": "stream",
     "text": [
      "      파이썬은 쉽다.      파이썬은 강력하다.      파이썬은 빠르다.      \n"
     ]
    }
   ],
   "source": [
    "# print문을 통해 되는 코드 예시 작성해봅시다.\n",
    "print('\\\n",
    "      파이썬은 쉽다.\\\n",
    "      파이썬은 강력하다.\\\n",
    "      파이썬은 빠르다.\\\n",
    "      ')"
   ]
  },
  {
   "cell_type": "markdown",
   "metadata": {},
   "source": [
    "* `[]` `{}` `()`는 `\\` 없이도 가능하다."
   ]
  },
  {
   "cell_type": "code",
   "execution_count": 18,
   "metadata": {},
   "outputs": [],
   "source": [
    "# list를 여러 줄에 걸쳐서 만들어봅시다.\n",
    "menu = [\n",
    "    \"짬뽕\",\n",
    "    \"햄버거\",\n",
    "    \"닭도리탕\",\n",
    "    \"부대찌개\"    \n",
    "]\n",
    "\n",
    "matjip = {\n",
    "    \"백짬뽕\" : \"베이징코야\",\n",
    "    \"햄버거\" : \"바스버거\",\n",
    "    \"닭도리탕\" : \"고갯마루\",\n",
    "    \"부대찌개\" : \"대우식당\",\n",
    "    \"돼지고기\" : \"백운봉 막국수\"\n",
    "}"
   ]
  },
  {
   "cell_type": "markdown",
   "metadata": {},
   "source": [
    "# 변수(variable) 및 자료형\n",
    "\n",
    "\n",
    "<center><img src=\"./images/01/variable.png\", alt=\"variable\"/></center>"
   ]
  },
  {
   "cell_type": "markdown",
   "metadata": {},
   "source": [
    "\n",
    "<center><img src=\"./images/01/box.png\", alt=\"box\"/></center>"
   ]
  },
  {
   "cell_type": "markdown",
   "metadata": {},
   "source": [
    "* 변수는 `=`을 통해 할당(assignment) 된다. \n",
    "\n",
    "* 해당 자료형을 확인하기 위해서는 `type()`을 활용한다.\n",
    "  - 자료형 단 세 가지(1.숫자, 2.문자, 3.불린)\n",
    "\n",
    "* 해당 변수의 메모리 주소를 확인하기 위해서는 `id()`를 활용한다."
   ]
  },
  {
   "cell_type": "code",
   "execution_count": 19,
   "metadata": {},
   "outputs": [],
   "source": [
    "# 변수에 값을 할당해 봅시다.\n",
    "x = 'ssafy'"
   ]
  },
  {
   "cell_type": "code",
   "execution_count": 20,
   "metadata": {},
   "outputs": [
    {
     "data": {
      "text/plain": [
       "str"
      ]
     },
     "execution_count": 20,
     "metadata": {},
     "output_type": "execute_result"
    }
   ],
   "source": [
    "# type()을 사용해 봅시다.\n",
    "type(x)"
   ]
  },
  {
   "cell_type": "code",
   "execution_count": 21,
   "metadata": {},
   "outputs": [
    {
     "data": {
      "text/plain": [
       "11864384"
      ]
     },
     "execution_count": 21,
     "metadata": {},
     "output_type": "execute_result"
    }
   ],
   "source": [
    "# id()를 사용해 봅시다.\n",
    "# 파이썬이 관리하는 공간 속에서 어디에 있는지 알려주는데\n",
    "# 아래와 같이 알아보지 못 하는 긴 숫자가 나온다\n",
    "# 이 숫자는 파이썬이 변수 x를 관리할 때 사용하는 고유번호다(like 주민번호)\n",
    "id(x)"
   ]
  },
  {
   "cell_type": "markdown",
   "metadata": {},
   "source": [
    "* 같은 값을 동시에 할당할 수 있다."
   ]
  },
  {
   "cell_type": "code",
   "execution_count": 22,
   "metadata": {},
   "outputs": [
    {
     "name": "stdout",
     "output_type": "stream",
     "text": [
      "96382848\n",
      "96382848\n"
     ]
    }
   ],
   "source": [
    "# 같은 값을 동시에 할당해봅시다.\n",
    "\n",
    "y = z = 1004\n",
    "\n",
    "#프로그래밍 언어는 오른쪽부터 읽으면 해석이 되는 경우가 많다\n",
    "# 1004라는 숫자가 있고, 이걸 z에 할당하고, 이 z라는 값을 y에도 할당한다.\n",
    "# 즉 y도 z도 모두 1004라는 값이 할당된다. \n",
    "# 같은 1004라도 python은 동일한 값으로 취급하는지 볼까? => 똑같은 id가 나온다! 같이 취급한다.\n",
    "\n",
    "print(id(y))\n",
    "print(id(z))"
   ]
  },
  {
   "cell_type": "markdown",
   "metadata": {},
   "source": [
    "* 다른 값을 동시에 할당 가능하다."
   ]
  },
  {
   "cell_type": "code",
   "execution_count": 24,
   "metadata": {},
   "outputs": [
    {
     "name": "stdout",
     "output_type": "stream",
     "text": [
      "john\n",
      "34\n",
      "john\n",
      "34\n"
     ]
    }
   ],
   "source": [
    "# 동시에 두개의 변수에 값 두개를 할당해봅시다.\n",
    "\n",
    "name, age = \"john\", 34\n",
    "\n",
    "print(name)\n",
    "print(age)\n",
    "\n",
    "#본질적으로 이것은 Tuple이다. \n",
    "(name, age) = ('john', 34)\n",
    "print(name)\n",
    "print(age)"
   ]
  },
  {
   "cell_type": "code",
   "execution_count": 25,
   "metadata": {},
   "outputs": [
    {
     "ename": "TypeError",
     "evalue": "cannot unpack non-iterable int object",
     "output_type": "error",
     "traceback": [
      "\u001b[1;31m---------------------------------------------------------------------------\u001b[0m",
      "\u001b[1;31mTypeError\u001b[0m                                 Traceback (most recent call last)",
      "\u001b[1;32m<ipython-input-25-dd9efe7f767b>\u001b[0m in \u001b[0;36m<module>\u001b[1;34m\u001b[0m\n\u001b[0;32m      1\u001b[0m \u001b[1;31m# 변수의 개수가 더 많을 때 오류를 알아봅시다.\u001b[0m\u001b[1;33m\u001b[0m\u001b[1;33m\u001b[0m\u001b[1;33m\u001b[0m\u001b[0m\n\u001b[0;32m      2\u001b[0m \u001b[1;33m\u001b[0m\u001b[0m\n\u001b[1;32m----> 3\u001b[1;33m \u001b[0mx\u001b[0m\u001b[1;33m,\u001b[0m \u001b[0my\u001b[0m \u001b[1;33m=\u001b[0m \u001b[1;36m1\u001b[0m\u001b[1;33m\u001b[0m\u001b[1;33m\u001b[0m\u001b[0m\n\u001b[0m",
      "\u001b[1;31mTypeError\u001b[0m: cannot unpack non-iterable int object"
     ]
    }
   ],
   "source": [
    "# 변수의 개수가 더 많을 때 오류를 알아봅시다.\n",
    "\n",
    "x, y = 1"
   ]
  },
  {
   "cell_type": "code",
   "execution_count": 26,
   "metadata": {},
   "outputs": [
    {
     "ename": "ValueError",
     "evalue": "too many values to unpack (expected 2)",
     "output_type": "error",
     "traceback": [
      "\u001b[1;31m---------------------------------------------------------------------------\u001b[0m",
      "\u001b[1;31mValueError\u001b[0m                                Traceback (most recent call last)",
      "\u001b[1;32m<ipython-input-26-d7540e1ff41a>\u001b[0m in \u001b[0;36m<module>\u001b[1;34m\u001b[0m\n\u001b[0;32m      1\u001b[0m \u001b[1;31m# 변수의 개수가 더 적을 때 오류를 알아봅시다.\u001b[0m\u001b[1;33m\u001b[0m\u001b[1;33m\u001b[0m\u001b[1;33m\u001b[0m\u001b[0m\n\u001b[0;32m      2\u001b[0m \u001b[1;33m\u001b[0m\u001b[0m\n\u001b[1;32m----> 3\u001b[1;33m \u001b[0ma\u001b[0m\u001b[1;33m,\u001b[0m \u001b[0mb\u001b[0m \u001b[1;33m=\u001b[0m \u001b[1;36m1\u001b[0m\u001b[1;33m,\u001b[0m \u001b[1;36m2\u001b[0m\u001b[1;33m,\u001b[0m \u001b[1;36m3\u001b[0m\u001b[1;33m\u001b[0m\u001b[1;33m\u001b[0m\u001b[0m\n\u001b[0m",
      "\u001b[1;31mValueError\u001b[0m: too many values to unpack (expected 2)"
     ]
    }
   ],
   "source": [
    "# 변수의 개수가 더 적을 때 오류를 알아봅시다.\n",
    "\n",
    "a, b = 1, 2, 3"
   ]
  },
  {
   "cell_type": "markdown",
   "metadata": {},
   "source": [
    "* 이를 활용하면 서로 값을 바꾸고 싶은 경우 아래와 같이 활용 가능하다."
   ]
  },
  {
   "cell_type": "code",
   "execution_count": 27,
   "metadata": {},
   "outputs": [
    {
     "name": "stdout",
     "output_type": "stream",
     "text": [
      "5 10\n",
      "10 5\n"
     ]
    }
   ],
   "source": [
    "# 변수 x와 y의 값을 바꿔봅시다.\n",
    "\n",
    "x, y = 5, 10\n",
    "\n",
    "### 1번 방법\n",
    "# z = 0\n",
    "# z = x\n",
    "# x = y\n",
    "# y = z\n",
    "\n",
    "### 2번 방법\n",
    "x, y = y, x\n",
    "\n",
    "print(x, y)"
   ]
  },
  {
   "cell_type": "markdown",
   "metadata": {},
   "source": [
    "## 수치형(Numbers)\n",
    "\n",
    "###  `int` (정수)\n",
    "\n",
    "모든 정수는 `int`로 표현된다.\n",
    "\n",
    "파이썬 3.x 버전에서는 `long` 타입은 없고 모두 `int` 형으로 표기 된다.\n",
    "\n",
    "10진수가 아닌 8진수 : `0o`/2진수 : `0b` /16진수: `0x`로도 표현 가능하다. "
   ]
  },
  {
   "cell_type": "code",
   "execution_count": 29,
   "metadata": {},
   "outputs": [
    {
     "name": "stdout",
     "output_type": "stream",
     "text": [
      "<class 'int'>\n",
      "<class 'float'>\n"
     ]
    }
   ],
   "source": [
    "# 변수에 정수를 넣고 해당 변수의 type을 알아봅시다.\n",
    "a = 3\n",
    "print(type(a))\n",
    "\n",
    "#부동소수점 (cf.이더리움은 fixed 고정소수점 사용함)\n",
    "a = 3.8\n",
    "print(type(a))"
   ]
  },
  {
   "cell_type": "code",
   "execution_count": null,
   "metadata": {},
   "outputs": [],
   "source": [
    "# python 3.x에서 long은 없어졌습니다.\n",
    "# 보통 프로그래밍 언어 및 파이썬 2.x에서의 long은 OS 기준 32/64비트이다.\n",
    "# 파이썬 3.x에서는 모두 int로 통합되었다."
   ]
  },
  {
   "cell_type": "markdown",
   "metadata": {},
   "source": [
    "### 오버플로우(overflow)\n",
    "- 데이터 타입 별로 사용할 수 있는 메모리의 크기가 제한되어 있다. \n",
    "- 표현할 수 있는 수의 범위를 넘어가는 연산을 하게 되면, 기대했던 값이 출력되지 않는 현상, 즉 메모리가 차고 넘쳐 흐르는 현상\n",
    "\n",
    "### arbitrary-precision arithmetic\n",
    "- 파이썬에서 아주 큰 정수를 표현할 때 사용하는 메모리의 크기 변화\n",
    "- 사용할 수 있는 메모리양이 정해져 있는 기존의 방식과 달리, 현재 남아있는 만큼의 가용 메모리를 모두 수 표현에 끌어다 쓸 수 있는 형태. (그래서 큰 숫자들 연산도 잘 돼서 통계 사용하는 데 좋음. 물론 안 되는 경우도 있긴 함)\n",
    "- 특정 값을 나타내는데 4바이트가 부족하다면 5바이트, 더 부족하면 6바이트까지 사용 할 수 있게 유동적으로 운용."
   ]
  },
  {
   "cell_type": "code",
   "execution_count": 31,
   "metadata": {},
   "outputs": [
    {
     "name": "stdout",
     "output_type": "stream",
     "text": [
      "2147483647\n",
      "4611686014132420609\n"
     ]
    }
   ],
   "source": [
    "# 파이썬에서 가장 큰 숫자를 활용하기 위해 sys 모듈을 불러옵니다.\n",
    "# 파이썬은 기존 C 계열 프로그래밍 언어와 다르게 정수 자료형에서 오버플로우가 없다.\n",
    "# arbitrary-precision arithmetic를 사용하기 때문이다. \n",
    "\n",
    "import sys\n",
    "max_int = sys.maxsize\n",
    "print(max_int) \n",
    "\n",
    "# 최대치 정수 2147483647라고 나오지만 파이썬은 유동적으로 메모리를 관리하므로 (=arbitrary-precision arithmetic)\n",
    "#이것보다 더 큰 자료도 사용할 수 있다.\n",
    "\n",
    "big_num = max_int * max_int\n",
    "print(big_num)\n"
   ]
  },
  {
   "cell_type": "code",
   "execution_count": 34,
   "metadata": {},
   "outputs": [
    {
     "name": "stdout",
     "output_type": "stream",
     "text": [
      "2\n",
      "8\n",
      "10\n",
      "16\n"
     ]
    }
   ],
   "source": [
    "# n진수를 만들어보고, 출력 해봅시다.\n",
    "# 거의 쓰지 않지만 가끔 2진수로 만드는 일도 있고, 역량시험에서 Ad+까지는 bit master 필요 없긴 함\n",
    "\n",
    "# 0b 가 binary 숫자 들어간다는 표시다, 0o는 octal 8진수라는 표시\n",
    "binary_num = 0b10\n",
    "print(binary_num)\n",
    "\n",
    "octal_num = 0o10\n",
    "print(octal_num)\n",
    "\n",
    "decimal_num = 10\n",
    "print(decimal_num)\n",
    "\n",
    "hexadecimal_number = 0x10\n",
    "print(hexadecimal_number)"
   ]
  },
  {
   "cell_type": "markdown",
   "metadata": {},
   "source": [
    "### `float`(부동소수점, 실수)\n",
    "\n",
    "실수는 `float`로 표현된다. \n",
    "\n",
    "다만, 실수를 컴퓨터가 표현하는 과정에서 부동소수점을 사용하며, **항상 같은 값으로 일치되지 않는다.** (floating point rounding error)\n",
    "(그래서: 블록체인에서는 floating num을 쓰지 않는다. 항상 같은 값으로 일치되지 않기 때문에)\n",
    "\n",
    "이는 컴퓨터가 2진수(비트)를 통해 숫자를 표현하는 과정에서 생기는 오류이며, 대부분의 경우는 중요하지 않으나 값을 같은지 비교하는 과정에서 문제가 발생할 수 있다."
   ]
  },
  {
   "cell_type": "code",
   "execution_count": 35,
   "metadata": {},
   "outputs": [
    {
     "name": "stdout",
     "output_type": "stream",
     "text": [
      "3.5\n"
     ]
    }
   ],
   "source": [
    "# 변수에 실수를 넣고 해당 변수의 type을 알아봅시다.\n",
    "a = 3.5\n",
    "print(a)"
   ]
  },
  {
   "cell_type": "code",
   "execution_count": 37,
   "metadata": {},
   "outputs": [
    {
     "name": "stdout",
     "output_type": "stream",
     "text": [
      "3.14\n",
      "<class 'float'>\n"
     ]
    }
   ],
   "source": [
    "# e를 사용할 수도 있습니다.\n",
    "b = 314e-2\n",
    "print(b)\n",
    "print(type(b))"
   ]
  },
  {
   "cell_type": "markdown",
   "metadata": {},
   "source": [
    "* 실수의 경우 실제로 값을 처리하기 위해서는 조심할 필요가 있다."
   ]
  },
  {
   "cell_type": "code",
   "execution_count": 40,
   "metadata": {},
   "outputs": [
    {
     "data": {
      "text/plain": [
       "6.5"
      ]
     },
     "execution_count": 40,
     "metadata": {},
     "output_type": "execute_result"
    }
   ],
   "source": [
    "# 실수의 덧셈을 해봅시다.\n",
    "#계산기 덧셈과 크게 다르지 않음\n",
    "# float와 int를 더하면 둘 다 float으로 해서 계산한다\n",
    "3.5 + 3"
   ]
  },
  {
   "cell_type": "code",
   "execution_count": 41,
   "metadata": {},
   "outputs": [
    {
     "data": {
      "text/plain": [
       "0.3500000000000001"
      ]
     },
     "execution_count": 41,
     "metadata": {},
     "output_type": "execute_result"
    }
   ],
   "source": [
    "# 실수의 뺄셈을 해봅시다.\n",
    "\n",
    "3.5 - 3.15\n",
    "\n",
    "# 0.3500000000000001가 나와버린다. 이게 위에서 말한 것처럼, 근사값을 보여주는 것이라 그러함"
   ]
  },
  {
   "cell_type": "code",
   "execution_count": 44,
   "metadata": {},
   "outputs": [
    {
     "name": "stdout",
     "output_type": "stream",
     "text": [
      "0\n",
      "0.35\n"
     ]
    }
   ],
   "source": [
    "# 우리가 원하는대로 반올림을 해봅시다.\n",
    "# 자주 사용!\n",
    "\n",
    "print(round(3.5-3.15))\n",
    "print(round(3.5-3.15, 2))  #소수점 2째자리까지 round반올림하겠다!!"
   ]
  },
  {
   "cell_type": "code",
   "execution_count": 46,
   "metadata": {},
   "outputs": [
    {
     "data": {
      "text/plain": [
       "False"
      ]
     },
     "execution_count": 46,
     "metadata": {},
     "output_type": "execute_result"
    }
   ],
   "source": [
    "# 두 개의 값이 같은지 확인해봅시다.\n",
    "\n",
    "(3.5 - 3.15) == 0.35\n",
    "#식은 () 괄호로 묶어줘야 더 정확하게 처리됨\n",
    "\n",
    "#False로 나온다!! "
   ]
  },
  {
   "cell_type": "markdown",
   "metadata": {},
   "source": [
    "* 따라서 다음과 같은 방법으로 처리 할 수 있다. 이외에 다양한 방법이 있음  \n",
    "실수 연산"
   ]
  },
  {
   "cell_type": "code",
   "execution_count": 48,
   "metadata": {},
   "outputs": [
    {
     "data": {
      "text/plain": [
       "True"
      ]
     },
     "execution_count": 48,
     "metadata": {},
     "output_type": "execute_result"
    }
   ],
   "source": [
    "# 기본적인 처리방법을 알아봅시다.\n",
    "# 일단 변수로 각각 넣어보자\n",
    "a = 3.5 -3.15\n",
    "b = 0.35\n",
    "\n",
    "#초근사값 비교하기 (별로 좋은 방법은 아님)\n",
    "#뺀 값에 절대값을 씌워주고 \n",
    "abs(a - b) <= 1e-10"
   ]
  },
  {
   "cell_type": "code",
   "execution_count": 51,
   "metadata": {},
   "outputs": [
    {
     "data": {
      "text/plain": [
       "True"
      ]
     },
     "execution_count": 51,
     "metadata": {},
     "output_type": "execute_result"
    }
   ],
   "source": [
    "# sys 모듈을 통해 처리하는 방법을 알아봅시다.\n",
    "# (별로 좋은 방법은 아님)\n",
    "import sys\n",
    "abs(a - b) <= sys.float_info.epsilon  #내가 원하는 값만큼 충분히 가까워졌는지 판별하는 기능"
   ]
  },
  {
   "cell_type": "code",
   "execution_count": 53,
   "metadata": {},
   "outputs": [
    {
     "data": {
      "text/plain": [
       "True"
      ]
     },
     "execution_count": 53,
     "metadata": {},
     "output_type": "execute_result"
    }
   ],
   "source": [
    "# python 3.5부터 활용 가능한 math 모듈을 통해 처리하는 법을 알아봅시다.\n",
    "\n",
    "import math\n",
    "#math library 활용\n",
    "math.isclose(a, b)"
   ]
  },
  {
   "cell_type": "markdown",
   "metadata": {},
   "source": [
    "### `complex` (복소수)\n",
    "\n",
    "복소수는 허수부를 `j`로 표현한다. "
   ]
  },
  {
   "cell_type": "code",
   "execution_count": 56,
   "metadata": {},
   "outputs": [
    {
     "data": {
      "text/plain": [
       "complex"
      ]
     },
     "execution_count": 56,
     "metadata": {},
     "output_type": "execute_result"
    }
   ],
   "source": [
    "# 변수에 복소수를 넣고 해당 변수의 type을 알아봅시다.\n",
    "# 표현하는 것만 알고 넘어가면 될 듯\n",
    " \n",
    "#코드에서 i는 매우 자주 많이 쓰이는 글자라서 `j`로 표현한다\n",
    "\n",
    "a = 3 - 4j\n",
    "type(a)\n",
    "\n",
    "# 그냥 j만 쓰면 변수로 생각하므로 꼭 앞에 숫자를 써줘야 함. *곱 표시해도 변수로 인식하므로 그냥 써야 함\n",
    "b = 3 - 1j\n",
    "type(b)"
   ]
  },
  {
   "cell_type": "code",
   "execution_count": 59,
   "metadata": {},
   "outputs": [
    {
     "name": "stdout",
     "output_type": "stream",
     "text": [
      "-4.0\n",
      "3.0\n"
     ]
    }
   ],
   "source": [
    "# 복소수와 관련된 메소드들을 확인해봅시다.\n",
    "print(a.imag)  #허수부\n",
    "print(a.real) #실수부"
   ]
  },
  {
   "cell_type": "markdown",
   "metadata": {},
   "source": [
    "## Bool\n",
    "\n",
    "파이썬에는 `True`와 `False`로 이뤄진 `bool` 타입이 있다.\n",
    "\n",
    "비교/논리 연산을 수행 등에서 활용된다.\n",
    "\n",
    "다음은 `False`로 변환됩니다.\n",
    "```\n",
    "0, 0.0, (), [], {}, '', None\n",
    "```"
   ]
  },
  {
   "cell_type": "code",
   "execution_count": 61,
   "metadata": {},
   "outputs": [
    {
     "name": "stdout",
     "output_type": "stream",
     "text": [
      "<class 'bool'>\n",
      "<class 'bool'>\n"
     ]
    }
   ],
   "source": [
    "# True와 False의 타입들을 알아봅시다.\n",
    "print(type(True))\n",
    "print(type(False))\n"
   ]
  },
  {
   "cell_type": "markdown",
   "metadata": {},
   "source": [
    "* 형변환(Type Conversion)에서 추가적으로 다루는 내용입니다."
   ]
  },
  {
   "cell_type": "code",
   "execution_count": 66,
   "metadata": {},
   "outputs": [
    {
     "name": "stdout",
     "output_type": "stream",
     "text": [
      "False True True\n",
      "False False False False True True\n"
     ]
    }
   ],
   "source": [
    "# 다양한 True, False 상황들을 확인해봅시다.\n",
    "\n",
    "# 숫자 0만 False로 인식한다. (보통 언어마다 **거짓**만 지정하고 나머지를 참으로 한다.)\n",
    "print(bool(0), bool(1), bool(2))\n",
    "\n",
    "#비어있는 것은 다 Falsy한 것들\n",
    "print(bool(None), bool([]), bool({}), bool(''), bool(['hello']), bool('angela'))\n"
   ]
  },
  {
   "cell_type": "markdown",
   "metadata": {},
   "source": [
    "## None\n",
    "\n",
    "파이썬에서는 값이 없음을 표현하기 위해 `None`타입이 존재합니다.\n",
    "- 언제 가장 많이 보느냐?\n",
    "- 함수에서 input은 입력, output은 반환(리턴)이라고 부를 것\n",
    "- print 같은 "
   ]
  },
  {
   "cell_type": "code",
   "execution_count": 76,
   "metadata": {},
   "outputs": [
    {
     "name": "stdout",
     "output_type": "stream",
     "text": [
      "\n",
      "None\n",
      "None\n",
      "[7, 8, 9]\n"
     ]
    }
   ],
   "source": [
    "# None의 타입을 알아봅시다.\n",
    "print(print())\n",
    "\n",
    "# 반환하지 않는 함수!! \n",
    "sorted_list = [5, 4, 3, 2, 1].sort()\n",
    "print(sorted_list)\n",
    "\n",
    "#원본 정렬 바로 바꿔주는 기능을 함 (반환X)\n",
    "original_list = [9, 8, 7]\n",
    "original_list.sort()\n",
    "print(original_list)"
   ]
  },
  {
   "cell_type": "code",
   "execution_count": 72,
   "metadata": {},
   "outputs": [
    {
     "name": "stdout",
     "output_type": "stream",
     "text": [
      "None\n",
      "<class 'NoneType'>\n"
     ]
    }
   ],
   "source": [
    "# 변수에 저장해서 확인해봅시다.\n",
    "a = None\n",
    "print(a)\n",
    "print(type(a))"
   ]
  },
  {
   "cell_type": "markdown",
   "metadata": {},
   "source": [
    "## 문자형(String)\n",
    "\n",
    "### 기본 활용법\n",
    "\n",
    "* 문자열은 Single quotes(`'`)나 Double quotes(`\"`)을 활용하여 표현 가능하다. \n",
    "\n",
    "* 단, 문자열을 묶을 때 동일한 문장부호를 활용해야하며, `PEP-8`에서는 **하나의 문장부호를 선택**하여 유지하도록 하고 있습니다. \n",
    "(Pick a rule and Stick to it)"
   ]
  },
  {
   "cell_type": "code",
   "execution_count": 80,
   "metadata": {},
   "outputs": [
    {
     "name": "stdout",
     "output_type": "stream",
     "text": [
      "김지수 프로님은 얘기했다. \"오늘은 종례가 없을 거예요.\"\n",
      "강동주 김지수 프로님은 얘기했다. \"오늘은 종례가 없을 거예요.\"\n",
      "강동주 김지수 프로님은 얘기했다. \"오늘은 종례가 없을 거예요.\"\n"
     ]
    }
   ],
   "source": [
    "# 변수에 문자열을 넣고 출력해봅시다.\n",
    "pro_saying = '김지수 프로님은 얘기했다. \"오늘은 종례가 없을 거예요.\"'\n",
    "print(pro_saying)\n",
    "\n",
    "name = \"강동주\"\n",
    "print(name, pro_saying) # ,콤마가 있으면 space 띄우는 것과 같다.\n",
    "print(name + \" \" + pro_saying) #이것과 본질적으로 같다"
   ]
  },
  {
   "cell_type": "code",
   "execution_count": 82,
   "metadata": {},
   "outputs": [
    {
     "name": "stdout",
     "output_type": "stream",
     "text": [
      "당신의 나이를 입력해주세요:20\n",
      "20\n"
     ]
    }
   ],
   "source": [
    "# 사용자에게 받은 입력은 기본적으로 str입니다\n",
    "#입력받기: 나이 입력받고 출력하기\n",
    "age = input(\"당신의 나이를 입력해주세요:\")\n",
    "print(age)"
   ]
  },
  {
   "cell_type": "markdown",
   "metadata": {},
   "source": [
    "* 다만 문자열 안에 문장부호(`'`, `\"`)가 활용될 경우 이스케이프 문자(`\\`)를 사용하는 것 대신 활용 가능 합니다. "
   ]
  },
  {
   "cell_type": "code",
   "execution_count": 83,
   "metadata": {},
   "outputs": [
    {
     "ename": "SyntaxError",
     "evalue": "invalid syntax (<ipython-input-83-0273ade2c098>, line 2)",
     "output_type": "error",
     "traceback": [
      "\u001b[1;36m  File \u001b[1;32m\"<ipython-input-83-0273ade2c098>\"\u001b[1;36m, line \u001b[1;32m2\u001b[0m\n\u001b[1;33m    print('철수가 말했다. '안녕'')\u001b[0m\n\u001b[1;37m                      ^\u001b[0m\n\u001b[1;31mSyntaxError\u001b[0m\u001b[1;31m:\u001b[0m invalid syntax\n"
     ]
    }
   ],
   "source": [
    "# 문자열 안에 문장부호를 활용해서 오류를 확인해봅시다.\n",
    "print('철수가 말했다. '안녕'')"
   ]
  },
  {
   "cell_type": "code",
   "execution_count": 84,
   "metadata": {},
   "outputs": [
    {
     "name": "stdout",
     "output_type": "stream",
     "text": [
      "철수가 말했다. '안녕'\n"
     ]
    }
   ],
   "source": [
    "# 오류를 이스케이프 문자와 서로 다른 문장부호를 통해 해결해봅시다.\n",
    "print('철수가 말했다. \\'안녕\\'')"
   ]
  },
  {
   "cell_type": "markdown",
   "metadata": {},
   "source": [
    "* 여러줄에 걸쳐있는 문장은 다음과 같이 표현 가능합니다.\n",
    "\n",
    "`PEP-8`에 따르면 이 경우에는 반드시 `\"\"\"`를 사용하도록 되어 있습니다."
   ]
  },
  {
   "cell_type": "code",
   "execution_count": 94,
   "metadata": {},
   "outputs": [
    {
     "name": "stdout",
     "output_type": "stream",
     "text": [
      "여러줄에출력하기\n",
      "여러줄에\n",
      "걸쳐서\n",
      "출력하기\n"
     ]
    }
   ],
   "source": [
    "# 여러줄을 출력해봅시다.\n",
    "print('여러줄에\\\n",
    "출력하기')\n",
    "\n",
    "print(\"\"\"여러줄에\n",
    "걸쳐서\n",
    "출력하기\"\"\")"
   ]
  },
  {
   "cell_type": "code",
   "execution_count": 100,
   "metadata": {},
   "outputs": [
    {
     "name": "stdout",
     "output_type": "stream",
     "text": [
      "안녕하세요. 저는 angela입니다.\n",
      "안녕하세요. 저는 angela입니다.\n"
     ]
    }
   ],
   "source": [
    "# 물론 string interpolation도 가능합니다.\n",
    "# 1. concatenation 합체\n",
    "greeting = \"안녕하세요. \" + \"저는 \" + \"angela입니다.\"\n",
    "print(greeting)\n",
    "\n",
    "# 2. interpolation (보간법) 수술(삽입)\n",
    "name = 'angela'\n",
    "greeting2 = f\"안녕하세요. 저는 { name }입니다.\"  \n",
    "#신규문법 f string\n",
    "print(greeting2)"
   ]
  },
  {
   "cell_type": "markdown",
   "metadata": {},
   "source": [
    "### 이스케이프 문자열\n",
    "\n",
    "문자열을 활용하는 경우 특수문자 혹은 조작을 하기 위하여 사용되는 것으로 `\\`를 활용하여 이를 구분한다. \n",
    "\n",
    "|<center>예약문자</center>|내용(의미)|\n",
    "|:--------:|:--------:|\n",
    "|\\n|줄바꿈|\n",
    "|\\t|탭|\n",
    "|\\r|캐리지리턴|\n",
    "|\\0|널(Null)|\n",
    "|`\\\\`|`\\`|\n",
    "|\\'|단일인용부호(')|\n",
    "|\\\"|이중인용부호(\")|"
   ]
  },
  {
   "cell_type": "code",
   "execution_count": 102,
   "metadata": {},
   "outputs": [
    {
     "name": "stdout",
     "output_type": "stream",
     "text": [
      "SSAFY는\n",
      "최고의\n",
      "SSAFY는\t최고의\n",
      "SSAFY는\r",
      "최고의\n",
      "SSAFY는\\최고의\n"
     ]
    }
   ],
   "source": [
    "# 이스케이프 문자열을 조합하여 프린트해봅시다.\n",
    "print('SSAFY는\\n최고의')\n",
    "print('SSAFY는\\t최고의')\n",
    "print('SSAFY는\\r최고의') #엥?\n",
    "#백슬래시를 문자로 쓰고 싶다면 \\\\쓰면 된다.\n",
    "print('SSAFY는\\\\최고의')"
   ]
  },
  {
   "cell_type": "markdown",
   "metadata": {},
   "source": [
    "* 이를 출력할 때 활용할 수가 있다."
   ]
  },
  {
   "cell_type": "code",
   "execution_count": 108,
   "metadata": {},
   "outputs": [
    {
     "name": "stdout",
     "output_type": "stream",
     "text": [
      "내용을 띄워서 출력하고 싶으면\n",
      "이렇게 하시면 돼요\n",
      "내용을 띄워서 출력하고 싶으면 이렇게 하시면 돼요\n",
      "내용을 띄워서 출력하고 싶으면\t이렇게 하시면 돼요\n",
      "내용을 띄워서 출력하고 싶으면\u0000이렇게 하시면 돼요\n"
     ]
    }
   ],
   "source": [
    "# print를 하는 과정에서도 이스케이프 문자열을 활용 가능합니다.\n",
    "print('내용을 띄워서 출력하고 싶으면')\n",
    "print('이렇게 하시면 돼요')\n",
    "#프린트 함수는 기본적으로 다음 줄에 넘겨주는 것이 디폴트다.\n",
    "\n",
    "#그래서 가장 많이 쓰는 것은\n",
    "# end paramete\n",
    "print('내용을 띄워서 출력하고 싶으면', end=' ')\n",
    "print('이렇게 하시면 돼요')\n",
    "\n",
    "print('내용을 띄워서 출력하고 싶으면', end='\\t')\n",
    "print('이렇게 하시면 돼요')\n",
    "\n",
    "print('내용을 띄워서 출력하고 싶으면', end='\\0')\n",
    "print('이렇게 하시면 돼요')\n"
   ]
  },
  {
   "cell_type": "code",
   "execution_count": 110,
   "metadata": {},
   "outputs": [
    {
     "name": "stdout",
     "output_type": "stream",
     "text": [
      "위와 같은 개행문자 말고도! 다양한 문자를 넣을 수 있습니다!!! 예를 들어 느낌표, 물음표 등등?! "
     ]
    }
   ],
   "source": [
    "# 물론, end 옵션은 이스케이프 문자열이 아닌 다른 것도 가능합니다.\n",
    "print('위와 같은 개행문자 말고도', end='! ')\n",
    "print('다양한 문자를 넣을 수 있습니다', end='!!! ')\n",
    "print('예를 들어 느낌표, 물음표 등등', end='?! ')\n"
   ]
  },
  {
   "cell_type": "markdown",
   "metadata": {},
   "source": [
    "### String interpolation \n",
    "\n",
    "1) `%-formatting` \n",
    "\n",
    "2) [`str.format()` ](https://pyformat.info/)\n",
    "\n",
    "3) [`f-strings`](https://www.python.org/dev/peps/pep-0498/) : 파이썬 3.6 버전 이후에 지원 되는 사항입니다.\n",
    "\n",
    "`.format()`는 해당 [링크](https://pyformat.info/)에서 확인바랍니다."
   ]
  },
  {
   "cell_type": "code",
   "execution_count": 125,
   "metadata": {},
   "outputs": [],
   "source": [
    "# name 변수에 이름을 입력해봅시다.\n",
    "name = '전인권'\n",
    "age = 100\n",
    "major = 'GOD'\n",
    "address = '개포동'"
   ]
  },
  {
   "cell_type": "code",
   "execution_count": 128,
   "metadata": {},
   "outputs": [
    {
     "data": {
      "text/plain": [
       "'Hello, 나는 전인권입니다. 나이는 100입니다. 전공은 GOD입니다. 주소는 개포동입니다.'"
      ]
     },
     "execution_count": 128,
     "metadata": {},
     "output_type": "execute_result"
    }
   ],
   "source": [
    "# %-formatting을 활용해봅시다.\n",
    "# percent place order라고 하며 다른 언어에서도 자주 사용하는 방식임\n",
    "'Hello, %s' % name\n",
    "\n",
    "#어떤 내용이 어느 자리에 들어가는지 결과tring의 예측이 어렵다는 단점\n",
    "'Hello, 나는 %s입니다. 나이는 %s입니다. 전공은 %s입니다. 주소는 %s입니다.' % (name, age, major, address)"
   ]
  },
  {
   "cell_type": "code",
   "execution_count": 126,
   "metadata": {},
   "outputs": [
    {
     "data": {
      "text/plain": [
       "'Hello, 나는 전인권입니다. 나이는 100입니다. 전공은 GOD입니다. 주소는 개포동입니다.'"
      ]
     },
     "execution_count": 126,
     "metadata": {},
     "output_type": "execute_result"
    }
   ],
   "source": [
    "# str.format()을 활용해봅시다.\n",
    "'Hello, 나는 {}입니다. 나이는 {}입니다. 전공은 {}입니다. 주소는 {}입니다.'.format(name, age, major, address)\n",
    "\n",
    "#위의 percent formatting과 string formatting은 본질적으로는 비슷하다."
   ]
  },
  {
   "cell_type": "code",
   "execution_count": 129,
   "metadata": {},
   "outputs": [
    {
     "data": {
      "text/plain": [
       "'Hello, 나는 전인권입니다. 나이는 100입니다. 전공은 GOD입니다. 주소는 개포동입니다.'"
      ]
     },
     "execution_count": 129,
     "metadata": {},
     "output_type": "execute_result"
    }
   ],
   "source": [
    "# f-string을 활용해봅시다. \n",
    "# 압도적으로 직관적임\n",
    "# 모던 언어들이 디폴트로 사용하는 것임\n",
    "f'Hello, 나는 {name}입니다. 나이는 {age}입니다. 전공은 {major}입니다. 주소는 {address}입니다.'"
   ]
  },
  {
   "cell_type": "markdown",
   "metadata": {},
   "source": [
    "* f-strings에서는 형식을 지정할 수 있으며,"
   ]
  },
  {
   "cell_type": "code",
   "execution_count": null,
   "metadata": {},
   "outputs": [],
   "source": [
    "# 다양한 형식을 활용하기 위해 datetime 모듈로 오늘을 표현해봅시다."
   ]
  },
  {
   "cell_type": "code",
   "execution_count": 140,
   "metadata": {},
   "outputs": [
    {
     "name": "stdout",
     "output_type": "stream",
     "text": [
      "2019-07-15 14:21:48.510011\n",
      "오늘은 2019년 7월 15일 14시\n"
     ]
    },
    {
     "data": {
      "text/plain": [
       "'오늘은 19년 07월 15일 14시'"
      ]
     },
     "execution_count": 140,
     "metadata": {},
     "output_type": "execute_result"
    }
   ],
   "source": [
    "import datetime\n",
    "today = datetime.datetime.now()\n",
    "print(today)\n",
    "\n",
    "# string interpolation에서 연산과 숫자 출력형식을 지정해봅시다.\n",
    "# 오늘은 xxxx년 xx월 xx일 xx시 나오게 하기\n",
    "print(f'오늘은 {today.year}년 {today.month}월 {today.day}일 {today.hour}시')\n",
    "\n",
    "# datetime은 formatting이 가능한 객체다. f-string에서는 형식을 지정할 수 있다는 게 이 말임\n",
    "f'오늘은 {today:%y}년 {today:%m}월 {today:%d}일 {today:%H}시'\n"
   ]
  },
  {
   "cell_type": "markdown",
   "metadata": {},
   "source": [
    "* 연산과 출력형식 지정도 가능합니다."
   ]
  },
  {
   "cell_type": "code",
   "execution_count": 144,
   "metadata": {},
   "outputs": [
    {
     "name": "stdout",
     "output_type": "stream",
     "text": [
      "12.566368\n"
     ]
    },
    {
     "data": {
      "text/plain": [
       "'원주율이 3.141592일 때, 반지름이 2인 원의 넓이는 12.566368다.'"
      ]
     },
     "execution_count": 144,
     "metadata": {},
     "output_type": "execute_result"
    }
   ],
   "source": [
    "# string interpolation에서 연산과 숫자 출력형식을 지정해봅시다.\n",
    "\n",
    "pi = 3.141592\n",
    "radius = 2\n",
    "area = radius ** 2 * pi\n",
    "print(area)\n",
    "\n",
    "f'원주율이 {pi}일 때, 반지름이 {radius}인 원의 넓이는 {radius ** 2 * pi}다.'"
   ]
  },
  {
   "cell_type": "markdown",
   "metadata": {},
   "source": [
    "# 연산자\n",
    "\n",
    "## 산술 연산자\n",
    "Python에서는 기본적인 사칙연산이 가능합니다. \n",
    "\n",
    "|연산자|내용|\n",
    "|----|---|\n",
    "|+|덧셈|\n",
    "|-|뺄셈|\n",
    "|\\*|곱셈|\n",
    "|/|나눗셈|\n",
    "|//|몫|\n",
    "|%|나머지(modulo)|\n",
    "|\\*\\*|거듭제곱|\n"
   ]
  },
  {
   "cell_type": "code",
   "execution_count": 145,
   "metadata": {},
   "outputs": [
    {
     "data": {
      "text/plain": [
       "10715086071862673209484250490600018105614048117055336074437503883703510511249361224931983788156958581275946729175531468251871452856923140435984577574698574803934567774824230985421074605062371141877954182153046474983581941267398767559165543946077062914571196477686542167660429831652624386837205668069376"
      ]
     },
     "execution_count": 145,
     "metadata": {},
     "output_type": "execute_result"
    }
   ],
   "source": [
    "# 2의 1000승을 확인해봅시다.\n",
    "2 ** 1000"
   ]
  },
  {
   "cell_type": "code",
   "execution_count": 149,
   "metadata": {},
   "outputs": [
    {
     "name": "stdout",
     "output_type": "stream",
     "text": [
      "2.5\n",
      "2\n",
      "1\n",
      "2\n"
     ]
    }
   ],
   "source": [
    "# 나눗셈과 관련된 산술연산자를 활용해봅시다.\n",
    "print(5 / 2) #나누기\n",
    "print(5 // 2) #몫\n",
    "print(5 % 2) #modular 나머지\n",
    "#나누기로 몫과 똑같은 결과 만드려면 int로 바꾸면 됨\n",
    "print(int(5 / 2))"
   ]
  },
  {
   "cell_type": "code",
   "execution_count": 155,
   "metadata": {},
   "outputs": [
    {
     "name": "stdout",
     "output_type": "stream",
     "text": [
      "(2, 1)\n",
      "2\n",
      "2 1\n",
      "몫은 2 나머지는 1\n"
     ]
    }
   ],
   "source": [
    "# divmod는 나눗셈과 관련된 함수입니다.\n",
    "#위의 나눗셈 operator 말고도 이런 것 가능\n",
    "\n",
    "print(divmod(5, 2))\n",
    "\n",
    "#(몫, 나머지) 튜플로 같이 빼주기 때문에 알고리즘 시험에서 쓰기 좋다\n",
    "print(divmod(5, 2)[0])\n",
    "\n",
    "#이렇게 변수에 각각 넣어줄 수 있음\n",
    "quotient, remainder = divmod(5, 2)\n",
    "print(quotient, remainder)\n",
    "print(f'몫은 {quotient} 나머지는 {remainder}')"
   ]
  },
  {
   "cell_type": "markdown",
   "metadata": {},
   "source": [
    "* 양수/음수도 표현 가능합니다."
   ]
  },
  {
   "cell_type": "code",
   "execution_count": 157,
   "metadata": {},
   "outputs": [
    {
     "name": "stdout",
     "output_type": "stream",
     "text": [
      "-4\n",
      "5\n"
     ]
    }
   ],
   "source": [
    "# 음수 양수 표현도 해봅시다.\n",
    "pos = 4\n",
    "print(-pos)\n",
    "\n",
    "neg = -5\n",
    "print(-neg)\n",
    "\n",
    "# -로 하는 negate operator가 코드 짧게 해주는 경우가 많다!!"
   ]
  },
  {
   "cell_type": "markdown",
   "metadata": {},
   "source": [
    "## 비교 연산자\n",
    "\n",
    "우리가 수학에서 배운 연산자와 동일하게 값을 비교할 수 있습니다.\n",
    "\n",
    "|연산자|내용|\n",
    "|----|---|\n",
    "|a > b|초과|\n",
    "|a < b|미만|\n",
    "|a >= b|이상|\n",
    "|a <= b|이하|\n",
    "|a == b|같음|\n",
    "|a != b|같지않음|\n",
    "\n"
   ]
  },
  {
   "cell_type": "code",
   "execution_count": 158,
   "metadata": {},
   "outputs": [
    {
     "data": {
      "text/plain": [
       "False"
      ]
     },
     "execution_count": 158,
     "metadata": {},
     "output_type": "execute_result"
    }
   ],
   "source": [
    "# 숫자의 대소관계를 비교해봅시다.\n",
    "3 > 6"
   ]
  },
  {
   "cell_type": "code",
   "execution_count": 162,
   "metadata": {},
   "outputs": [
    {
     "name": "stdout",
     "output_type": "stream",
     "text": [
      "False\n",
      "True\n"
     ]
    }
   ],
   "source": [
    "# 같은 숫자인지 확인해봅시다.\n",
    "print(3 == 6)\n",
    "print(3 != 4)   #같지 않음"
   ]
  },
  {
   "cell_type": "code",
   "execution_count": 164,
   "metadata": {},
   "outputs": [
    {
     "data": {
      "text/plain": [
       "True"
      ]
     },
     "execution_count": 164,
     "metadata": {},
     "output_type": "execute_result"
    }
   ],
   "source": [
    "# 다른 숫자인지 확인해봅시다.\n",
    "3.0 == 3\n",
    "#확연하게 알 수 있는 float은 int와도 == 등호 operator가 통한다. "
   ]
  },
  {
   "cell_type": "code",
   "execution_count": 166,
   "metadata": {},
   "outputs": [
    {
     "data": {
      "text/plain": [
       "False"
      ]
     },
     "execution_count": 166,
     "metadata": {},
     "output_type": "execute_result"
    }
   ],
   "source": [
    "# 문자열도 같은지 확인해봅시다.\n",
    "'HI' == 'hi'\n",
    "\n",
    "#대문자와 소문자는 완전 다르다"
   ]
  },
  {
   "cell_type": "markdown",
   "metadata": {},
   "source": [
    "## 논리 연산자\n",
    "\n",
    "|연산자|내용|\n",
    "|---|---|\n",
    "|a and b|a와 b 모두 True시만 True|\n",
    "|a or b|a 와 b 모두 False시만 False|\n",
    "|not a|True -> False, False -> True|\n",
    "\n",
    "우리가 보통 알고 있는 `&` `|`은 파이썬에서 비트 연산자이다."
   ]
  },
  {
   "cell_type": "code",
   "execution_count": 168,
   "metadata": {},
   "outputs": [
    {
     "name": "stdout",
     "output_type": "stream",
     "text": [
      "True\n",
      "False\n",
      "False\n",
      "False\n"
     ]
    }
   ],
   "source": [
    "# and과 관련해서 모든 case를 출력해봅시다.\n",
    "print(True and True)   #둘다 True일 때만 True로 인정하는 것이 and operator\n",
    "print(True and False)\n",
    "print(False and True)\n",
    "print(False and False)"
   ]
  },
  {
   "cell_type": "code",
   "execution_count": 171,
   "metadata": {},
   "outputs": [
    {
     "name": "stdout",
     "output_type": "stream",
     "text": [
      "True\n",
      "True\n",
      "True\n",
      "False\n"
     ]
    }
   ],
   "source": [
    "# or과 관련해서 모든 case를 출력해봅시다.\n",
    "print(True or True)   \n",
    "print(True or False)\n",
    "print(False or True)\n",
    "print(False or False)  #이것만 False다.\n",
    "\n",
    "#이런 진리표 익혀두기"
   ]
  },
  {
   "cell_type": "code",
   "execution_count": 173,
   "metadata": {},
   "outputs": [
    {
     "name": "stdout",
     "output_type": "stream",
     "text": [
      "False\n",
      "True\n"
     ]
    }
   ],
   "source": [
    "# not을 활용해봅시다.\n",
    "# negate operator\n",
    "\n",
    "print(not True)\n",
    "print(not 0)"
   ]
  },
  {
   "cell_type": "markdown",
   "metadata": {},
   "source": [
    "* 파이썬에서 and는 a가 거짓이면 a를 리턴하고, 참이면 b를 리턴한다.\n",
    "* 파이썬에서 or은 a가 참이면 a를 리턴하고, 거짓이면 b를 리턴한다."
   ]
  },
  {
   "cell_type": "code",
   "execution_count": 179,
   "metadata": {},
   "outputs": [
    {
     "name": "stdout",
     "output_type": "stream",
     "text": [
      "5\n",
      "0\n",
      "0\n",
      "0\n",
      "2\n"
     ]
    }
   ],
   "source": [
    "# and의 단축평가(short-circuit evaluation)에 대해서 알아봅시다.\n",
    "\n",
    "#이거 나중에 쓸 일 있다\n",
    "\n",
    "print(3 and 5) \n",
    "#하면 결과로~~ 5가 나온다!\n",
    "\n",
    "print(3 and 0)\n",
    "#하면 결과로 0이 나온다\n",
    "\n",
    "print(0 and 3)\n",
    "\n",
    "print(0 and 0)\n",
    "\n",
    "#파이썬에서 and는 a가 거짓이면 a를 리턴하고, 참이면 b를 리턴한다.\n",
    "#거짓이면 거짓인 것 중 앞의 것을 리턴하고, 참이면 뒤의 것을 리턴한다.\n",
    "print(True and 2)\n",
    "\n",
    "#나중에 빈 배열이면 뭐를 출력하고 이런 것들도 사용할 것이다."
   ]
  },
  {
   "cell_type": "code",
   "execution_count": 182,
   "metadata": {},
   "outputs": [
    {
     "name": "stdout",
     "output_type": "stream",
     "text": [
      "3\n",
      "3\n",
      "3\n",
      "0\n"
     ]
    }
   ],
   "source": [
    "# or의 단축평가(short-circuit evaluation)에 대해서 알아봅시다.\n",
    "\n",
    "# 우리는 and보다는 or를 많이 사용한다. 이게 아니면 다른 걸 해라 라는 느낌임\n",
    "\n",
    "print(3 or 5)\n",
    "print(3 or 0)\n",
    "print(0 or 3)\n",
    "print(0 or 0)\n",
    "\n",
    "#or의 진리표를 보면, 하나만 맞아도 되니까\n",
    "#앞의 것이 진실이면 바로 앞의 것을 리턴해버림\n"
   ]
  },
  {
   "cell_type": "markdown",
   "metadata": {},
   "source": [
    "## 복합 연산자\n",
    "\n",
    "복합 연산자는 연산과 대입이 함께 이뤄진다. \n",
    "\n",
    "가장 많이 활용되는 경우는 반복문을 통해서 개수를 카운트하거나 할 때 활용된다.\n",
    "\n",
    "|연산자|내용|\n",
    "|----|---|\n",
    "|a += b|a = a + b|\n",
    "|a -= b|a = a - b|\n",
    "|a \\*= b|a = a \\* b|\n",
    "|a /= b|a = a / b|\n",
    "|a //= b|a = a // b|\n",
    "|a %= b|a = a % b|\n",
    "|a \\*\\*= b|a = a ** b|"
   ]
  },
  {
   "cell_type": "code",
   "execution_count": 183,
   "metadata": {},
   "outputs": [
    {
     "name": "stdout",
     "output_type": "stream",
     "text": [
      "0\n",
      "1\n",
      "2\n",
      "3\n",
      "4\n"
     ]
    }
   ],
   "source": [
    "# 복합연산자는 이럴 때 사용됩니다.\n",
    "cnt = 0\n",
    "while cnt < 5:\n",
    "    print(cnt)    #여기서 멈추면 무한 루프 되어 버림\n",
    "    cnt += 1    #이렇게 늘어나서 종료조건에 가야 함"
   ]
  },
  {
   "cell_type": "markdown",
   "metadata": {},
   "source": [
    "## 기타 연산자\n",
    "\n",
    "### Concatenation\n",
    "\n",
    "숫자가 아닌 자료형은 `+` 연산자를 통해 합칠 수 있다.\n",
    "\n",
    "### Containment Test\n",
    "\n",
    "`in` 연산자를 통해 속해있는지 여부를 확인할 수 있다.\n",
    "\n",
    "### Identity\n",
    "\n",
    "`is` 연산자를 통해 동일한 object인지 확인할 수 있다.  \n",
    "주로 등호 `==` 보다는 is를 많이 사용하게 될 것이다.  \n",
    "  \n",
    "(나중에 Class를 배우고 다시 학습)\n",
    "\n",
    "### Indexing/Slicing\n",
    "`[]`를 통한 값 접근 및 `[:]`을 통한 슬라이싱 \n",
    "\n",
    "(다음 챕터를 배우면서 추가 학습)"
   ]
  },
  {
   "cell_type": "code",
   "execution_count": 184,
   "metadata": {},
   "outputs": [
    {
     "data": {
      "text/plain": [
       "'software'"
      ]
     },
     "execution_count": 184,
     "metadata": {},
     "output_type": "execute_result"
    }
   ],
   "source": [
    "# 문자열끼리 더해봅시다.(합쳐봅시다.)\n",
    "'soft' + 'ware'"
   ]
  },
  {
   "cell_type": "code",
   "execution_count": 190,
   "metadata": {},
   "outputs": [
    {
     "data": {
      "text/plain": [
       "(1, 2, 3, 4, 5, 6)"
      ]
     },
     "execution_count": 190,
     "metadata": {},
     "output_type": "execute_result"
    }
   ],
   "source": [
    "# list끼리 더해봅시다.(합쳐봅시다.)\n",
    "[1, 2, 3] + [4, 5, 6]\n",
    "\n",
    "#딕셔너리도 더해지나?\n",
    "# {'name':'john', 'age':20} + {'major':'jijon'} #안 더해진다.\n",
    "\n",
    "#튜플은 더해지나?\n",
    "(1, 2, 3) + (4, 5, 6)"
   ]
  },
  {
   "cell_type": "code",
   "execution_count": 191,
   "metadata": {},
   "outputs": [
    {
     "data": {
      "text/plain": [
       "True"
      ]
     },
     "execution_count": 191,
     "metadata": {},
     "output_type": "execute_result"
    }
   ],
   "source": [
    "# 문자열안에 특정한 문자가 있는지 확인해봅시다.\n",
    "'S' in 'Ssafy'"
   ]
  },
  {
   "cell_type": "code",
   "execution_count": 192,
   "metadata": {},
   "outputs": [
    {
     "data": {
      "text/plain": [
       "True"
      ]
     },
     "execution_count": 192,
     "metadata": {},
     "output_type": "execute_result"
    }
   ],
   "source": [
    "# list안에 특정한 원소가 있는지 확인해봅시다.\n",
    "3 in [1, 2, 3]"
   ]
  },
  {
   "cell_type": "code",
   "execution_count": 193,
   "metadata": {},
   "outputs": [
    {
     "data": {
      "text/plain": [
       "False"
      ]
     },
     "execution_count": 193,
     "metadata": {},
     "output_type": "execute_result"
    }
   ],
   "source": [
    "# range안에 특정한 원소가 있는지 확인해봅시다.\n",
    "46 in range(1, 46)"
   ]
  },
  {
   "cell_type": "code",
   "execution_count": 206,
   "metadata": {},
   "outputs": [
    {
     "name": "stdout",
     "output_type": "stream",
     "text": [
      "1848730624 1848734800\n",
      "False\n",
      "113928560\n",
      "False\n",
      "1848730704\n",
      "False\n",
      "True\n",
      "False\n",
      "True\n"
     ]
    }
   ],
   "source": [
    "# is는 맛만 봅시다.\n",
    "# 파이썬에서 -5부터 256까지의 id는 동일합니다.\n",
    "\n",
    "# -5라고 하는 건 어디서 써도 한 프로그래밍 context 안에서는 똑같은 id가 나온다는 것\n",
    "# 왜냐면 이 정수 범위의 기본 정수들은 굉장히 자주 사용하고 속도가 중요하므로\n",
    "# 메모리를 미리 할당해놓고 계속해서 똑같은 id를 사용할 것이다.\n",
    "# 그렇지만 257부터는 다른 곳에서는 생성될 때마다 또 다른 값이 부여될 것이다.\n",
    "\n",
    "print(id(-5), id(256))\n",
    "print(id(-5) is id(255))\n",
    "print(id(257))\n",
    "print(id('hi') is id('hi'))  #str도 입력할 때마다 서로 다른 값을 부여한다. 우리 눈에는 같아 보이지만\n",
    "\n",
    "print(id(0))\n",
    "print(id(0) is id(0))\n",
    "#id 두 개의 특정 값에 대해서 is operator에 의해 생성되는 id 숫자가 달라서 false다.\n",
    "print(0 is 0)\n",
    "\n",
    "#257부터는 id가 서로 달라짐\n",
    "a = 257\n",
    "b = 257\n",
    "print(a is b)\n",
    "\n",
    "#256까지는 id가 서로 같음\n",
    "c = 256\n",
    "d = 256\n",
    "print(c is d)"
   ]
  },
  {
   "cell_type": "code",
   "execution_count": null,
   "metadata": {},
   "outputs": [],
   "source": [
    "# id는 다르죠!"
   ]
  },
  {
   "cell_type": "code",
   "execution_count": null,
   "metadata": {},
   "outputs": [],
   "source": [
    "# 문자열을 인덱싱을 통해 값에 접근해봅시다."
   ]
  },
  {
   "cell_type": "markdown",
   "metadata": {},
   "source": [
    "## 연산자 우선순위\n",
    "\n",
    "0. `()`을 통한 grouping\n",
    "\n",
    "1. Slicing\n",
    "\n",
    "2. Indexing\n",
    "\n",
    "3. 제곱연산자\n",
    "    \\*\\*\n",
    "\n",
    "4. 단항연산자 \n",
    "    +, - (음수/양수 부호)\n",
    "\n",
    "5. 산술연산자\n",
    "    \\*, /, %\n",
    "    \n",
    "6. 산술연산자\n",
    "    +, -\n",
    " \n",
    "7. 비교연산자, `in`, `is`\n",
    "\n",
    "8. `not`\n",
    "\n",
    "9. `and` \n",
    "\n",
    "10. `or`"
   ]
  },
  {
   "cell_type": "code",
   "execution_count": 208,
   "metadata": {},
   "outputs": [
    {
     "name": "stdout",
     "output_type": "stream",
     "text": [
      "-81\n",
      "-81\n",
      "81\n"
     ]
    }
   ],
   "source": [
    "# 우선순위를 확인해봅시다.\n",
    "# PEMDAS 순위라고 합니다. (Parenthesis, Exponents, Multiplication and ...)\n",
    "# 모든 것을 override하는 것은 최우선은 ()괄호니까 괄호를 열심히 쓰자!\n",
    "\n",
    "print(-3 ** 4) #우선순위는 단항연산자인 +-부호보다 제곱연산이기 때문임\n",
    "print(-(3 ** 4))  #그냥 괄호 써서 쓰면 이런 거 안 외워도 됩니다.\n",
    "print((-3) ** 4)"
   ]
  },
  {
   "cell_type": "markdown",
   "metadata": {},
   "source": [
    "# 기초 형변환(Type conversion, Typecasting)\n",
    "\n",
    "\n",
    "파이썬에서 데이터타입은 서로 변환할 수 있다.\n",
    "\n",
    "## 암시적 형변환(Implicit Type Conversion)\n",
    "사용자가 의도하지 않았지만, 파이썬 내부적으로 자동으로 형변환 하는 경우이다.\n",
    "아래의 상황에서만 가능하다.\n",
    "* bool\n",
    "* Numbers (int, float, complex)"
   ]
  },
  {
   "cell_type": "code",
   "execution_count": 211,
   "metadata": {},
   "outputs": [
    {
     "name": "stdout",
     "output_type": "stream",
     "text": [
      "4\n",
      "3\n"
     ]
    }
   ],
   "source": [
    "# boolean과 integer는 더할 수 있을까요?\n",
    "\n",
    "print(True + 3)\n",
    "#결과로 4가 나온다.\n",
    "#True=1로 암시적 형변환을 해서 그렇다.\n",
    "\n",
    "print(False + 3)\n",
    "#False=0으로 암시적 형변환\n",
    "\n",
    "#이걸 아주 잘 해주는 게 Java Script라서 별 별 것들을 다 조합 가능하다."
   ]
  },
  {
   "cell_type": "code",
   "execution_count": 212,
   "metadata": {},
   "outputs": [],
   "source": [
    "# int, float, complex를 각각 변수에 대입해봅시다.\n",
    "int_num = 3\n",
    "float_num = 5.0\n",
    "complex_num = 3 + 5j"
   ]
  },
  {
   "cell_type": "code",
   "execution_count": 214,
   "metadata": {},
   "outputs": [
    {
     "data": {
      "text/plain": [
       "8.0"
      ]
     },
     "execution_count": 214,
     "metadata": {},
     "output_type": "execute_result"
    }
   ],
   "source": [
    "# int와 float를 더해봅시다. 그 결과의 type은 무엇일까요?\n",
    "int_num + float_num\n",
    "#int를 float로 암시적 변환해준다."
   ]
  },
  {
   "cell_type": "code",
   "execution_count": 216,
   "metadata": {},
   "outputs": [
    {
     "data": {
      "text/plain": [
       "(6+5j)"
      ]
     },
     "execution_count": 216,
     "metadata": {},
     "output_type": "execute_result"
    }
   ],
   "source": [
    "# int와 complex를 더해봅시다. 그 결과의 type은 무엇일까요?\n",
    "int_num + complex_num\n",
    "\n",
    "#좀 더 빡세게 계산해야 하는 형태로 Python이 자동변환해주는 것이다."
   ]
  },
  {
   "cell_type": "markdown",
   "metadata": {},
   "source": [
    "## 명시적 형변환(Explicit Type Conversion)\n",
    "\n",
    "위의 상황을 제외하고는 모두 명시적으로 형 변환을 해주어야한다.\n",
    "\n",
    "* string -> intger  : 형식에 맞는 숫자만 가능\n",
    "* integer -> string : 모두 가능\n",
    "\n",
    "암시적 형변환이 되는 모든 경우도 명시적으로 형변환이 가능하다.\n",
    "\n",
    "* `int()` : string, float를 int로 변환\n",
    "* `float()` : string, int를 float로 변환\n",
    "* `str()` : int, float, list, tuple, dictionary를 문자열로 변환\n",
    "\n",
    "`list(), tuple()` 등은 다음 챕터에서 배울 예정이다."
   ]
  },
  {
   "cell_type": "code",
   "execution_count": 222,
   "metadata": {},
   "outputs": [
    {
     "data": {
      "text/plain": [
       "'3등'"
      ]
     },
     "execution_count": 222,
     "metadata": {},
     "output_type": "execute_result"
    }
   ],
   "source": [
    "# integer와 string 사이의 관계는 명시적으로 형변환을 해줘야만 합니다.\n",
    "#3 + '등'  \n",
    "#TypeError가 나온다\n",
    "\n",
    "str(3) + '등'"
   ]
  },
  {
   "cell_type": "code",
   "execution_count": 223,
   "metadata": {},
   "outputs": [
    {
     "data": {
      "text/plain": [
       "8"
      ]
     },
     "execution_count": 223,
     "metadata": {},
     "output_type": "execute_result"
    }
   ],
   "source": [
    "# string 3을 integer로 변환해봅시다.\n",
    "a = '3'\n",
    "int(a) + 5"
   ]
  },
  {
   "cell_type": "code",
   "execution_count": 224,
   "metadata": {},
   "outputs": [
    {
     "data": {
      "text/plain": [
       "8.5"
      ]
     },
     "execution_count": 224,
     "metadata": {},
     "output_type": "execute_result"
    }
   ],
   "source": [
    "# string 3.5를 float로 변환해봅시다.\n",
    "b = '3.5'\n",
    "float(b) + 5.0"
   ]
  },
  {
   "cell_type": "code",
   "execution_count": 225,
   "metadata": {},
   "outputs": [
    {
     "ename": "ValueError",
     "evalue": "invalid literal for int() with base 10: 'hi'",
     "output_type": "error",
     "traceback": [
      "\u001b[1;31m---------------------------------------------------------------------------\u001b[0m",
      "\u001b[1;31mValueError\u001b[0m                                Traceback (most recent call last)",
      "\u001b[1;32m<ipython-input-225-2f58be996ffa>\u001b[0m in \u001b[0;36m<module>\u001b[1;34m\u001b[0m\n\u001b[0;32m      1\u001b[0m \u001b[1;31m# string은 글씨가 숫자일때만 형변환이 가능합니다.\u001b[0m\u001b[1;33m\u001b[0m\u001b[1;33m\u001b[0m\u001b[1;33m\u001b[0m\u001b[0m\n\u001b[0;32m      2\u001b[0m \u001b[0mc\u001b[0m \u001b[1;33m=\u001b[0m \u001b[1;34m'hi'\u001b[0m\u001b[1;33m\u001b[0m\u001b[1;33m\u001b[0m\u001b[0m\n\u001b[1;32m----> 3\u001b[1;33m \u001b[0mint\u001b[0m\u001b[1;33m(\u001b[0m\u001b[0mc\u001b[0m\u001b[1;33m)\u001b[0m\u001b[1;33m\u001b[0m\u001b[1;33m\u001b[0m\u001b[0m\n\u001b[0m",
      "\u001b[1;31mValueError\u001b[0m: invalid literal for int() with base 10: 'hi'"
     ]
    }
   ],
   "source": [
    "# string은 글씨가 숫자일때만 형변환이 가능합니다.\n",
    "c = 'hi'\n",
    "int(c)\n",
    "#ValueError 나온다. 10진수가 아닌 것이 들어 있다고 말해준다."
   ]
  },
  {
   "cell_type": "code",
   "execution_count": 227,
   "metadata": {},
   "outputs": [
    {
     "ename": "ValueError",
     "evalue": "invalid literal for int() with base 10: '3.5'",
     "output_type": "error",
     "traceback": [
      "\u001b[1;31m---------------------------------------------------------------------------\u001b[0m",
      "\u001b[1;31mValueError\u001b[0m                                Traceback (most recent call last)",
      "\u001b[1;32m<ipython-input-227-f56c5aa3a7e5>\u001b[0m in \u001b[0;36m<module>\u001b[1;34m\u001b[0m\n\u001b[0;32m      1\u001b[0m \u001b[1;31m# string 3.5를 int로 변환할 수는 없습니다.\u001b[0m\u001b[1;33m\u001b[0m\u001b[1;33m\u001b[0m\u001b[1;33m\u001b[0m\u001b[0m\n\u001b[0;32m      2\u001b[0m \u001b[0md\u001b[0m \u001b[1;33m=\u001b[0m \u001b[1;34m'3.5'\u001b[0m\u001b[1;33m\u001b[0m\u001b[1;33m\u001b[0m\u001b[0m\n\u001b[1;32m----> 3\u001b[1;33m \u001b[0mint\u001b[0m\u001b[1;33m(\u001b[0m\u001b[0md\u001b[0m\u001b[1;33m)\u001b[0m\u001b[1;33m\u001b[0m\u001b[1;33m\u001b[0m\u001b[0m\n\u001b[0m",
      "\u001b[1;31mValueError\u001b[0m: invalid literal for int() with base 10: '3.5'"
     ]
    }
   ],
   "source": [
    "# string 3.5를 int로 변환할 수는 없습니다.\n",
    "d = '3.5'\n",
    "\n",
    "# 소수점str을 바로 int로 할 수 없음 ValueError\n",
    "int(d)"
   ]
  },
  {
   "cell_type": "code",
   "execution_count": 232,
   "metadata": {},
   "outputs": [
    {
     "data": {
      "text/plain": [
       "3"
      ]
     },
     "execution_count": 232,
     "metadata": {},
     "output_type": "execute_result"
    }
   ],
   "source": [
    "# float 3.5는 int로 변환이 가능합니다.\n",
    "d = '3.5'\n",
    "\n",
    "#float로 한번 싸서 숫자로 인식하게 해줘야 > int로 변환이 가능하다.\n",
    "int(float(d))"
   ]
  },
  {
   "cell_type": "code",
   "execution_count": 238,
   "metadata": {},
   "outputs": [
    {
     "data": {
      "text/plain": [
       "171"
      ]
     },
     "execution_count": 238,
     "metadata": {},
     "output_type": "execute_result"
    }
   ],
   "source": [
    "# hex를 convert하는 법 : int를 쓰는데 16진수라고 알려주면 된다\n",
    "#ord를 하고 나면 아스키 코드가 나온다. \n",
    "int('ab', 16)\n",
    "int('0x'+'ab', 16)"
   ]
  },
  {
   "cell_type": "markdown",
   "metadata": {},
   "source": [
    "# 시퀀스(sequence) 자료형\n",
    "\n",
    "`시퀀스`는 데이터의 순서대로 나열된 형식을 나타낸다. \n",
    "\n",
    "**주의! 순서대로 나열된 것이 정렬되었다라는 뜻은 아니다.**\n",
    "\n",
    "파이썬에서 기본적인 시퀀스 타입은 다음과 같다.\n",
    "\n",
    "1. 리스트(list)\n",
    "\n",
    "2. 튜플(tuple)\n",
    "\n",
    "3. 레인지(range)\n",
    "\n",
    "4. 문자열(string)\n",
    "\n",
    "5. 바이너리(binary) : 따로 다루지는 않습니다.\n"
   ]
  },
  {
   "cell_type": "markdown",
   "metadata": {},
   "source": [
    "\n",
    "## `list`\n",
    "\n",
    "<center><img src=\"./images/01/list.png\", alt=\"list figure\"/></center>"
   ]
  },
  {
   "cell_type": "markdown",
   "metadata": {},
   "source": [
    "**활용법**\n",
    "```python\n",
    "[value1, value2, value3]\n",
    "```\n",
    "\n",
    "리스트는 대괄호`[]` 를 통해 만들 수 있습니다.\n",
    "\n",
    "값에 대한 접근은 `list[i]`를 통해 합니다."
   ]
  },
  {
   "cell_type": "code",
   "execution_count": 240,
   "metadata": {},
   "outputs": [
    {
     "name": "stdout",
     "output_type": "stream",
     "text": [
      "[]\n",
      "[]\n"
     ]
    }
   ],
   "source": [
    "# 빈 리스트를 만들어봅시다.\n",
    "l = []        #빈리스트 만들기 방법1\n",
    "ll = list()   #빈리스트 만들기 방법2\n",
    "print(l)\n",
    "print(ll)"
   ]
  },
  {
   "cell_type": "code",
   "execution_count": 242,
   "metadata": {},
   "outputs": [
    {
     "name": "stdout",
     "output_type": "stream",
     "text": [
      "['강남', '역삼']\n",
      "<class 'list'>\n"
     ]
    }
   ],
   "source": [
    "# 원소를 포함한 리스트를 만들어봅시다.\n",
    "location = ['강남', '역삼']\n",
    "print(location)\n",
    "print(type(location))"
   ]
  },
  {
   "cell_type": "code",
   "execution_count": 243,
   "metadata": {},
   "outputs": [
    {
     "data": {
      "text/plain": [
       "'강남'"
      ]
     },
     "execution_count": 243,
     "metadata": {},
     "output_type": "execute_result"
    }
   ],
   "source": [
    "# 첫번째 값에 접근해봅시다.\n",
    "location[0]"
   ]
  },
  {
   "cell_type": "markdown",
   "metadata": {},
   "source": [
    "## `tuple`\n",
    "\n",
    "**활용법**\n",
    "```python\n",
    "(value1, value2)\n",
    "```\n",
    "\n",
    "튜플은 리스트와 유사하지만, `()`로 묶어서 표현합니다.\n",
    "\n",
    "그리고 tuple은 **수정 불가능(immutable)**하고, 읽을 수 밖에 없습니다. (너모너모 중요해!)\n",
    "\n",
    "직접 사용하는 것보다는 파이썬 내부에서 사용하고 있습니다."
   ]
  },
  {
   "cell_type": "code",
   "execution_count": 245,
   "metadata": {},
   "outputs": [
    {
     "name": "stdout",
     "output_type": "stream",
     "text": [
      "(1, 2, 3, 4, 5)\n",
      "<class 'tuple'>\n"
     ]
    }
   ],
   "source": [
    "# tuple을 만들어봅시다.\n",
    "tp = (1, 2, 3, 4, 5)\n",
    "print(tp)\n",
    "print(type(tp))"
   ]
  },
  {
   "cell_type": "code",
   "execution_count": 248,
   "metadata": {},
   "outputs": [
    {
     "name": "stdout",
     "output_type": "stream",
     "text": [
      "(1, 2, 3, 4, 5)\n"
     ]
    }
   ],
   "source": [
    "# 아래와 같이 만들 수 있습니다.\n",
    "\n",
    "# tuple은 컴퓨터공학에서 어디에 쓰이나요?? = 데이터베이스에서 쓰인다!\n",
    "# 튜플은 데이터베이스에서 자료 하나라고 생각하면 된다.\n",
    "\n",
    "x = 5\n",
    "y = 3\n",
    "#x, y = y, x 괄호 없이 쓰던 것처럼\n",
    "(x, y) = (y, x)   #이렇게 파이썬 내부적으로는 튜플 형태로 데이터를 처리한다.\n",
    "\n",
    "tp2 = 1, 2, 3, 4, 5  #이렇게 괄호 없이 써도 위의 tp와 완전 동일한 튜플 데이터 생긴다\n",
    "print(tp2)"
   ]
  },
  {
   "cell_type": "code",
   "execution_count": 251,
   "metadata": {},
   "outputs": [],
   "source": [
    "# 파이썬 내부에서는 다음과 같이 활용됩니다.\n",
    "# 앞선 2. 변수 및 자료형 예제에서 사용된 코드입니다."
   ]
  },
  {
   "cell_type": "code",
   "execution_count": null,
   "metadata": {},
   "outputs": [],
   "source": [
    "# 실제로는 tuple로 처리됩니다."
   ]
  },
  {
   "cell_type": "code",
   "execution_count": 250,
   "metadata": {},
   "outputs": [
    {
     "name": "stdout",
     "output_type": "stream",
     "text": [
      "2 1\n"
     ]
    }
   ],
   "source": [
    "# 변수의 값을 swap하는 코드 역시 tuple을 활용하고 있습니다. \n",
    "x, y = 1, 2\n",
    "x, y = y, x\n",
    "print(x, y)"
   ]
  },
  {
   "cell_type": "markdown",
   "metadata": {},
   "source": [
    "##  `range()`\n",
    "\n",
    "레인지는 숫자의 시퀀스를 나타내기 위해 사용됩니다.\n",
    "\n",
    "기본형 : `range(n)` \n",
    "\n",
    "\n",
    "> 0부터 n-1까지 값을 가짐\n",
    "\n",
    "\n",
    "범위 지정 : `range(n, m)` \n",
    "\n",
    "> n부터 m-1까지 값을 가짐\n",
    "\n",
    "범위 및 스텝 지정 : `range(n, m, s)`\n",
    "\n",
    "> n부터 m-1까지 +s만큼 증가한다"
   ]
  },
  {
   "cell_type": "code",
   "execution_count": 253,
   "metadata": {},
   "outputs": [
    {
     "name": "stdout",
     "output_type": "stream",
     "text": [
      "1\n",
      "2\n",
      "3\n",
      "4\n",
      "5\n",
      "6\n",
      "7\n",
      "8\n",
      "9\n",
      "1\n",
      "2\n",
      "3\n",
      "4\n",
      "5\n",
      "6\n",
      "7\n",
      "8\n",
      "9\n"
     ]
    }
   ],
   "source": [
    "# range를 만들어봅시다.\n",
    "type(range(1, 46))\n",
    "#range라는 자료형이다. (1, 2, 3 .... 46)과는 자료형이 다르다. \n",
    "\n",
    "#하지만 활용되는 건 비슷함\n",
    "\n",
    "r = range(1, 10)\n",
    "l = [1, 2, 3, 4, 5, 6, 7, 8, 9]\n",
    "for x in r:\n",
    "    print(x)\n",
    "    \n",
    "for y in l:\n",
    "    print(y)"
   ]
  },
  {
   "cell_type": "code",
   "execution_count": 256,
   "metadata": {},
   "outputs": [
    {
     "name": "stdout",
     "output_type": "stream",
     "text": [
      "True\n",
      "False\n"
     ]
    }
   ],
   "source": [
    "# range에 담긴 값을 list로 바꿔서 확인해봅시다.\n",
    "r = range(1, 10)\n",
    "l = [1, 2, 3, 4, 5, 6, 7, 8, 9]\n",
    "\n",
    "#range는 list로 형변환이 가능함\n",
    "print( list(r) == l )\n",
    "print( r == l )"
   ]
  },
  {
   "cell_type": "code",
   "execution_count": 257,
   "metadata": {},
   "outputs": [
    {
     "data": {
      "text/plain": [
       "[4, 5, 6, 7, 8]"
      ]
     },
     "execution_count": 257,
     "metadata": {},
     "output_type": "execute_result"
    }
   ],
   "source": [
    "# 4 ~ 8까지의 숫자를 담은 range를 만들어봅시다.\n",
    "range(4, 9)\n",
    "list(range(4, 9))"
   ]
  },
  {
   "cell_type": "code",
   "execution_count": 263,
   "metadata": {},
   "outputs": [
    {
     "name": "stdout",
     "output_type": "stream",
     "text": [
      "[-9, -8, -7, -6, -5, -4, -3, -2, -1, 0]\n",
      "[0, -1, -2, -3, -4, -5, -6, -7, -8, -9]\n"
     ]
    }
   ],
   "source": [
    "# 0부터 -9까지 담긴 range를 만들어봅시다.\n",
    "\n",
    "# 1번방법 : 수직선상으로 음수부터 시작하면 된다\n",
    "print(list(range(-9, 1)))\n",
    "\n",
    "# 2번방법 : 스텝지정\n",
    "# 0부터 -10 이전까지 뒤로 한 칸씩 이동한다\n",
    "print(list(range(0, -10, -1)))"
   ]
  },
  {
   "cell_type": "markdown",
   "metadata": {},
   "source": [
    "\n",
    "## 시퀀스에서 활용할 수 있는 연산자/함수 \n",
    "\n",
    "- 이건 당장 암기할 건 아니지만, 많이 쓰다 보면 익숙해질 것\n",
    "- 나중에 알고리즘 시험 볼 때 능숙하게 쓰면 편하다!\n",
    "\n",
    "|operation|설명|\n",
    "|---------|---|\n",
    "|x in s\t|containment test|\n",
    "|x not in s|containment test|\n",
    "|s1 + s2|concatenation|\n",
    "|s * n|n번만큼 반복하여 더하기\n",
    "|s[i]|indexing|\n",
    "|s[i:j]|slicing|\n",
    "|s[i:j:k]|k간격으로 slicing|\n",
    "|len(s)|길이|\n",
    "|min(s)|최솟값|\n",
    "|max(s)|최댓값|\n",
    "|s.count(x)|x의 개수|"
   ]
  },
  {
   "cell_type": "code",
   "execution_count": 269,
   "metadata": {},
   "outputs": [
    {
     "name": "stdout",
     "output_type": "stream",
     "text": [
      "False\n",
      "True\n"
     ]
    }
   ],
   "source": [
    "# contain test를 확인해봅시다.\n",
    "l = [1, 2, 3, 4, 5, 6, 7, 8, 9]\n",
    "\n",
    "print( 3 not in l )\n",
    "print( 1 in l )"
   ]
  },
  {
   "cell_type": "code",
   "execution_count": 276,
   "metadata": {},
   "outputs": [
    {
     "name": "stdout",
     "output_type": "stream",
     "text": [
      "[1, 2, 3, 4, 5, 6, 7, 8, 9, 10, 11]\n",
      "(1, 2, 3, 4, 5, 6)\n",
      "1\n"
     ]
    }
   ],
   "source": [
    "# concatenation를 해봅시다.\n",
    "li = [10, 11]\n",
    "print( l + li )\n",
    "\n",
    "#range끼리 더하는 건 안됨\n",
    "\n",
    "#list와 tuple은 거~의 유사한 느낌이긴 하다\n",
    "print( (1, 2, 3) + (4, 5, 6) )\n",
    "\n",
    "#tuple은 이미 존재하는 데이터를 읽을 수는 있음\n",
    "print(tp[0])\n",
    "#하지만 새로 만드는 건 불가능하다!!!!\n",
    "#tp[2] = 4"
   ]
  },
  {
   "cell_type": "code",
   "execution_count": 278,
   "metadata": {},
   "outputs": [
    {
     "name": "stdout",
     "output_type": "stream",
     "text": [
      "[0, 0, 0, 0, 0, 0]\n"
     ]
    }
   ],
   "source": [
    "# 숫자 0이 6개 있는 list를 만들어봅시다.\n",
    "l = [0,0,0,0,0,0]   #이건 무식한 방법이고\n",
    "l=[0]*6    #이 방법을 생각보다 많이 쓸 것이다.\n",
    "print(l)"
   ]
  },
  {
   "cell_type": "code",
   "execution_count": 279,
   "metadata": {},
   "outputs": [],
   "source": [
    "# indexing과 slicing을 하기 위해 list하나를 만들어주세요.\n",
    "location = ['사당', '강남', '역삼', '서초', '삼성']"
   ]
  },
  {
   "cell_type": "code",
   "execution_count": 281,
   "metadata": {},
   "outputs": [
    {
     "data": {
      "text/plain": [
       "['역삼', '서초']"
      ]
     },
     "execution_count": 281,
     "metadata": {},
     "output_type": "execute_result"
    }
   ],
   "source": [
    "# 두번쨰, 세번쨰 값만 가져와봅시다.\n",
    "location[2:4]\n",
    "#뒤의 숫자는 미만이다."
   ]
  },
  {
   "cell_type": "code",
   "execution_count": 286,
   "metadata": {},
   "outputs": [
    {
     "name": "stdout",
     "output_type": "stream",
     "text": [
      "['강남', '서초']\n",
      "['삼성', '서초', '역삼', '강남', '사당']\n",
      "yfass\n"
     ]
    },
    {
     "data": {
      "text/plain": [
       "True"
      ]
     },
     "execution_count": 286,
     "metadata": {},
     "output_type": "execute_result"
    }
   ],
   "source": [
    "# slicing으로 리스트 스텝 돌기\n",
    "print( location[1:6:2] )   #step 파라미터로 설정하면 된다!!\n",
    "\n",
    "# slicing으로 리스트 뒤집어버리기 (역스텝 밟기)\n",
    "print( location[::-1] )\n",
    "\n",
    "#반대로 한스텝씩 처음부터 끝까지 가기 = string 다룰 때도 자주 하게 될 것이다!!\n",
    "ssafy = 'ssafy'\n",
    "print( ssafy[::-1] )\n",
    "\n",
    "#앞뒤가 똑같은 단어인지 확인하기 (알고리즘 문제에서 많이 나옴) \n",
    "pal = 'racecar'\n",
    "pal == pal[::-1]"
   ]
  },
  {
   "cell_type": "code",
   "execution_count": 288,
   "metadata": {},
   "outputs": [
    {
     "name": "stdout",
     "output_type": "stream",
     "text": [
      "[0, 3, 6, 9, 12, 15, 18, 21, 24, 27, 30]\n"
     ]
    }
   ],
   "source": [
    "# 0부터 30까지의 숫자를 3씩 증가시킨 상태로 만들어봅시다.\n",
    "r = list(range(0, 31, 3))    # step 3씩 증가 \n",
    "print(r)"
   ]
  },
  {
   "cell_type": "code",
   "execution_count": 289,
   "metadata": {},
   "outputs": [
    {
     "data": {
      "text/plain": [
       "11"
      ]
     },
     "execution_count": 289,
     "metadata": {},
     "output_type": "execute_result"
    }
   ],
   "source": [
    "# 위에서 만든 list의 길이를 확인해봅시다.\n",
    "len(r)"
   ]
  },
  {
   "cell_type": "code",
   "execution_count": 290,
   "metadata": {},
   "outputs": [
    {
     "name": "stdout",
     "output_type": "stream",
     "text": [
      "0\n",
      "30\n"
     ]
    }
   ],
   "source": [
    "# 위에서 만든 list의 최솟값, 최댓값을 확인해봅시다.\n",
    "print( min(r) )\n",
    "print( max(r) )\n"
   ]
  },
  {
   "cell_type": "code",
   "execution_count": 293,
   "metadata": {},
   "outputs": [
    {
     "data": {
      "text/plain": [
       "1"
      ]
     },
     "execution_count": 293,
     "metadata": {},
     "output_type": "execute_result"
    }
   ],
   "source": [
    "# list에 담긴 특정한 것의 개수를 확인할 수도 있습니다.\n",
    "r.count(30)\n",
    "\n",
    "# .count는 엄청 많이 쓰는 함수다!!"
   ]
  },
  {
   "cell_type": "markdown",
   "metadata": {},
   "source": [
    "# set, dictionary\n",
    "\n",
    "* `set`과 `dictionary`는 기본적으로 순서가 없습니다."
   ]
  },
  {
   "cell_type": "markdown",
   "metadata": {},
   "source": [
    "## `set`\n",
    "\n",
    "세트는 수학에서의 집합과 동일하게 처리됩니다. \n",
    "\n",
    "세트는 중괄호`{}`를 통해 만들며, 순서가 없고 **중복된 값이 없습니다.**\n",
    "\n",
    "**활용법**\n",
    "```python\n",
    "{value1, value2, value3}\n",
    "```\n",
    "\n",
    "|연산자/함수|설명|\n",
    "|---|---|\n",
    "|a - b|차집합|\n",
    "|a \\| b|합집합|\n",
    "|a & b|교집합|\n",
    "|a.difference(b)|차집합|\n",
    "|a.union(b)|합집합|\n",
    "|a.intersection(b)|교집합|"
   ]
  },
  {
   "cell_type": "code",
   "execution_count": 300,
   "metadata": {},
   "outputs": [
    {
     "name": "stdout",
     "output_type": "stream",
     "text": [
      "{1, 2}\n",
      "{1, 2}\n",
      "{1, 2, 3, 6, 9}\n",
      "{1, 2, 3, 6, 9}\n",
      "{3}\n",
      "{3}\n"
     ]
    }
   ],
   "source": [
    "# set 두개를 만들어서 연산자들을 활용해봅시다.\n",
    "set_a = {1, 2, 3}\n",
    "set_b = {3, 6, 9}\n",
    "\n",
    "#두 가지 표현법\n",
    "print( set_a - set_b )\n",
    "print( set_a.difference(set_b) )\n",
    "\n",
    "print( set_a | set_b )\n",
    "print( set_a.union(set_b) )\n",
    "\n",
    "print( set_a & set_b )\n",
    "print( set_a.intersection(set_b) )"
   ]
  },
  {
   "cell_type": "code",
   "execution_count": 301,
   "metadata": {},
   "outputs": [
    {
     "data": {
      "text/plain": [
       "{1, 2, 3}"
      ]
     },
     "execution_count": 301,
     "metadata": {},
     "output_type": "execute_result"
    }
   ],
   "source": [
    "# set은 중복된 값이 있을 수 없습니다.\n",
    "li = [1, 2, 2, 3, 3, 3]\n",
    "set(li)"
   ]
  },
  {
   "cell_type": "markdown",
   "metadata": {},
   "source": [
    "* `set`을 활용하면 `list`의 중복된 값을 손쉽게 제거할 수 있습니다."
   ]
  },
  {
   "cell_type": "code",
   "execution_count": null,
   "metadata": {},
   "outputs": [],
   "source": [
    "# set으로 중복된 값을 제거해봅시다."
   ]
  },
  {
   "cell_type": "code",
   "execution_count": null,
   "metadata": {},
   "outputs": [],
   "source": [
    "# 다시 list로 바꿔서 확인해봅시다."
   ]
  },
  {
   "cell_type": "markdown",
   "metadata": {},
   "source": [
    "## `dictionary`\n",
    "\n",
    "<center><img src=\"./images/01/dictionary.png\"/></center> "
   ]
  },
  {
   "cell_type": "markdown",
   "metadata": {},
   "source": [
    "**활용법**\n",
    "```python\n",
    "{Key1:Value1, Key2:Value2, Key3:Value3, ...}\n",
    "```\n",
    "\n",
    "* 딕셔너리는 `key`와 `value`가 쌍으로 이뤄져있으며, 궁극의 자료구조입니다. \n",
    "* `{}`를 통해 만들며, `dict()`로 만들 수도 있습니다.\n",
    "* `key`는 immutable한 모든 것이 가능하다. (불변값 : string, integer, float, boolean, tuple, range)\n",
    "* `value`는 `list`, `dictionary`를 포함한 모든 것이 가능하다."
   ]
  },
  {
   "cell_type": "code",
   "execution_count": 302,
   "metadata": {},
   "outputs": [
    {
     "name": "stdout",
     "output_type": "stream",
     "text": [
      "{}\n",
      "{}\n"
     ]
    }
   ],
   "source": [
    "# 비어있는 dictionary를 두가지 방법으로 만들어봅시다.\n",
    "dict_a = {}\n",
    "dict_b = dict()\n",
    "\n",
    "print(dict_a)\n",
    "print(dict_b)"
   ]
  },
  {
   "cell_type": "code",
   "execution_count": 304,
   "metadata": {},
   "outputs": [],
   "source": [
    "# 지역번호(서울-02 경기-031 인천-032)가 담긴 전화번호부를 만들어봅시다.\n",
    "\n",
    "phone_book = {\n",
    "    '서울' : '02',\n",
    "    '경기' : '031',\n",
    "    '인천' : '032'    \n",
    "}"
   ]
  },
  {
   "cell_type": "code",
   "execution_count": 310,
   "metadata": {},
   "outputs": [
    {
     "name": "stdout",
     "output_type": "stream",
     "text": [
      "{'서울': 2, '경기': '031', '인천': '032'}\n",
      "{'서울': 2, '경기': 31, '인천': '032'}\n"
     ]
    }
   ],
   "source": [
    "# dictionary는 중복된 key는 존재할 수가 없습니다.\n",
    "phone_book = {\n",
    "    '서울' : '02',\n",
    "    '경기' : '031',\n",
    "    '인천' : '032',\n",
    "    '서울' : 2\n",
    "}\n",
    "\n",
    "#동일한 key는 나중에 선언된 value값을 넣어버린다.\n",
    "print(phone_book)\n",
    "\n",
    "#이렇게 한 것과 똑같다\n",
    "phone_book['경기'] = 31\n",
    "\n",
    "print(phone_book)"
   ]
  },
  {
   "cell_type": "code",
   "execution_count": 319,
   "metadata": {},
   "outputs": [
    {
     "data": {
      "text/plain": [
       "['서울', '경기', '인천']"
      ]
     },
     "execution_count": 319,
     "metadata": {},
     "output_type": "execute_result"
    }
   ],
   "source": [
    "# 딕셔너리의 메소드를 활용하여 key를 확인 해볼 수 있습니다.\n",
    "\n",
    "phone_book.keys()\n",
    "#이 때 출력되는 내용은 마치 리스트처럼 생겼지만 dict_keys라는 객체다.\n",
    "#할 수 있는 것 : 순회하면서 보는 것은 가능 = iterable\n",
    "#할 수 없는 것 : indexing은 불가능함\n",
    "\n",
    "#왜 list로 만들지 않고 이런 객체로 만들까? = 메모리를 적게 사용하기 때문이다.\n",
    "\n",
    "#리스트로 만들기\n",
    "list(phone_book.keys())\n",
    "\n",
    "# dict의 순서??\n",
    "#순서를 보장하게끔 파이썬 3.6부터 설정해놓음.\n",
    "#알고리즘 테스트에서는 3.5버전이기 때문에 그렇지 않음...예전 버전에는 dict 키 같은 거 찍으면 순서 계속 바뀜\n",
    "#정렬해서 저장하는 자료구조가 아니고 그저 키-밸류 페어이기 때문에..."
   ]
  },
  {
   "cell_type": "code",
   "execution_count": 316,
   "metadata": {},
   "outputs": [
    {
     "name": "stdout",
     "output_type": "stream",
     "text": [
      "dict_values([2, 31, '032'])\n"
     ]
    }
   ],
   "source": [
    "# 딕셔너리의 메소드를 활용하여 value를 확인 해볼 수 있습니다.\n",
    "phone_book.values()\n",
    "\n",
    "print(phone_book.values())"
   ]
  },
  {
   "cell_type": "markdown",
   "metadata": {},
   "source": [
    "# 정리\n",
    "## 데이터 타입\n",
    "<center><img src=\"./images/01/container.png\", alt=\"container\"/></center>"
   ]
  }
 ],
 "metadata": {
  "kernelspec": {
   "display_name": "Python 3",
   "language": "python",
   "name": "python3"
  },
  "language_info": {
   "codemirror_mode": {
    "name": "ipython",
    "version": 3
   },
   "file_extension": ".py",
   "mimetype": "text/x-python",
   "name": "python",
   "nbconvert_exporter": "python",
   "pygments_lexer": "ipython3",
   "version": "3.7.3"
  }
 },
 "nbformat": 4,
 "nbformat_minor": 2
}
